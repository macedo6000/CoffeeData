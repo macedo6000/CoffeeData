{
  "nbformat": 4,
  "nbformat_minor": 0,
  "metadata": {
    "colab": {
      "provenance": [],
      "machine_shape": "hm"
    },
    "kernelspec": {
      "name": "python3",
      "display_name": "Python 3"
    },
    "language_info": {
      "name": "python"
    },
    "accelerator": "GPU",
    "gpuClass": "premium"
  },
  "cells": [
    {
      "cell_type": "code",
      "execution_count": 1,
      "metadata": {
        "id": "LjeElzzmHj5K"
      },
      "outputs": [],
      "source": [
        "%matplotlib inline\n",
        "import os\n",
        "import pandas as pd\n",
        "import numpy as np\n",
        "import psycopg2\n",
        "from psycopg2 import sql\n",
        "import matplotlib.pyplot as plt\n",
        "from sklearn.preprocessing import StandardScaler, OneHotEncoder\n",
        "from sklearn.model_selection import train_test_split\n",
        "from imblearn.ensemble import BalancedRandomForestClassifier\n",
        "from imblearn.ensemble import EasyEnsembleClassifier\n",
        "from sklearn.metrics import balanced_accuracy_score\n",
        "from sklearn.metrics import confusion_matrix\n",
        "from imblearn.metrics import classification_report_imbalanced\n",
        "from sklearn.preprocessing import LabelEncoder"
      ]
    },
    {
      "cell_type": "code",
      "source": [
        "text_columns = ['agency_name', 'agency_abbr', 'loan_type_name', 'property_type_name', 'loan_purpose_name', 'owner_occupancy_name', 'preapproval_name', 'action_taken_name', 'msamd_name', 'state_name', 'state_abbr', 'county_name', 'applicant_ethnicity_name', 'co_applicant_ethnicity_name', 'applicant_race_name_1', 'co_applicant_race_name_1', 'applicant_sex_name', 'co_applicant_sex_name', 'purchaser_type_name', 'hoepa_status_name', 'lien_status_name', 'application_id']\n",
        "numeric_columns = ['agency_code', 'loan_type', 'property_type', 'loan_purpose', 'owner_occupancy', 'loan_amount_000s', 'preapproval', 'action_taken', 'msamd', 'state_code', 'county_code', 'census_tract_number', 'applicant_ethnicity', 'co_applicant_ethnicity', 'applicant_race_1', 'co_applicant_race_1', 'applicant_sex', 'co_applicant_sex', 'applicant_income_000s', 'purchaser_type', 'hoepa_status', 'lien_status', 'population', 'minority_population', 'hud_median_family_income', 'tract_to_msamd_income', 'number_of_owner_occupied_units', 'number_of_1_to_4_family_units', 'application_id']"
      ],
      "metadata": {
        "id": "OrRead7Qk504"
      },
      "execution_count": 2,
      "outputs": []
    },
    {
      "cell_type": "markdown",
      "source": [
        "### Set Up connection to AWS RDS"
      ],
      "metadata": {
        "id": "WPOTF9pInxiV"
      }
    },
    {
      "cell_type": "code",
      "source": [
        "PGEND_POINT = 'hmda-final-db.cfo8yzx2osax.us-east-1.rds.amazonaws.com' # End_point\n",
        "PGDATABASE_NAME = 'hmda_db' # Database Name example: youtube_test_db\n",
        "PGUSER_NAME = 'postgres' # UserName\n",
        "PGPASSWORD = 'Password' # Password"
      ],
      "metadata": {
        "id": "g4S65DJCHu_O"
      },
      "execution_count": 3,
      "outputs": []
    },
    {
      "cell_type": "code",
      "source": [
        "def connect():\n",
        "    \n",
        "    # Set up a connection to the postgres server.\n",
        "    conn_string = \"host=\"+ PGEND_POINT +\" port=\"+ \"5432\" +\" dbname=\"+ PGDATABASE_NAME +\" user=\" + PGUSER_NAME \\\n",
        "                  +\" password=\"+ PGPASSWORD\n",
        "    \n",
        "    conn = psycopg2.connect(conn_string)\n",
        "    print(\"Connected!\")\n",
        "\n",
        "    # Create a cursor object\n",
        "    cursor = conn.cursor()\n",
        "    \n",
        "    return conn, cursor"
      ],
      "metadata": {
        "id": "sjsdfMNnIX7O"
      },
      "execution_count": 4,
      "outputs": []
    },
    {
      "cell_type": "code",
      "source": [
        "conn, cursor = connect()"
      ],
      "metadata": {
        "colab": {
          "base_uri": "https://localhost:8080/"
        },
        "id": "Ne5PWMKwIb7C",
        "outputId": "35d6da55-b8ae-4bee-d9b6-d2f074c07b37"
      },
      "execution_count": 5,
      "outputs": [
        {
          "output_type": "stream",
          "name": "stdout",
          "text": [
            "Connected!\n"
          ]
        }
      ]
    },
    {
      "cell_type": "markdown",
      "source": [
        "### Query Machine Learning Dataset\n",
        "Machine Learning Dataset will include categorical applicant/loan information, census data, and categoric"
      ],
      "metadata": {
        "id": "t6S1qNCvn6ir"
      }
    },
    {
      "cell_type": "code",
      "source": [
        "query = sql.SQL('''\n",
        "SELECT \n",
        "    nd.loan_amount_000s,\n",
        "    nd.applicant_income_000s,\n",
        "    nd.population,\n",
        "    nd.minority_population,\n",
        "    nd.census_tract_number,\n",
        "    nd.hud_median_family_income,\n",
        "    nd.tract_to_msamd_income,\n",
        "    nd.number_of_owner_occupied_units,\n",
        "    nd.number_of_1_to_4_family_units,\n",
        "    td.agency_abbr, \n",
        "    td.loan_type_name, \n",
        "    td.property_type_name, \n",
        "    td.loan_purpose_name,\n",
        "    td.owner_occupancy_name, \n",
        "    td.msamd_name,\n",
        "    td.county_name,\n",
        "    td.preapproval_name,\n",
        "    nd.preapproval,\n",
        "    td.action_taken_name,\n",
        "    nd.action_taken\n",
        "FROM\n",
        "    numeric_data nd \n",
        "INNER JOIN text_data td \n",
        "    ON nd.application_id = td.application_id \n",
        "ORDER BY nd.loan_amount_000s\n",
        "''')"
      ],
      "metadata": {
        "id": "s2i37oygIgOW"
      },
      "execution_count": 6,
      "outputs": []
    },
    {
      "cell_type": "code",
      "source": [
        "cur = conn.cursor()\n",
        "cur.execute(query)"
      ],
      "metadata": {
        "id": "FVfrvHIjJK0z"
      },
      "execution_count": 7,
      "outputs": []
    },
    {
      "cell_type": "code",
      "source": [
        "query_results = cur.fetchall()\n"
      ],
      "metadata": {
        "id": "OWOmTUfDlOuf"
      },
      "execution_count": 8,
      "outputs": []
    },
    {
      "cell_type": "code",
      "source": [
        "ml_columns = ['loan_amount_000s', 'applicant_income_000s', 'population', 'minority_population', 'census_tract_number', 'hud_median_family_income', 'tract_to_msamd_income', 'number_of_owner_occupied_units', 'number_of_1_to_4_family_units', 'agency_abbr', 'loan_type_name', 'property_type_name', 'loan_purpose_name', 'owner_occupancy_name', 'msamd_name', 'county_name', 'preapproval_name', 'preapproval', 'action_taken_name', 'action_taken']"
      ],
      "metadata": {
        "id": "b96-nrCUoxwi"
      },
      "execution_count": 9,
      "outputs": []
    },
    {
      "cell_type": "code",
      "source": [
        "ml_df = pd.DataFrame(query_results, columns=ml_columns)\n",
        "ml_df.head()"
      ],
      "metadata": {
        "id": "daK_R9RwqZRa",
        "colab": {
          "base_uri": "https://localhost:8080/",
          "height": 582
        },
        "outputId": "71c45f47-36a7-40b9-8041-1b164f1f9ae0"
      },
      "execution_count": 10,
      "outputs": [
        {
          "output_type": "execute_result",
          "data": {
            "text/plain": [
              "   loan_amount_000s  applicant_income_000s  population minority_population  \\\n",
              "0                 1                     81       11622    72.5599975585938   \n",
              "1                 1                     61        4103    84.3300018310547   \n",
              "2                 1                     34        4021               43.75   \n",
              "3                 1                     54        5751    65.2399978637695   \n",
              "4                 1                     80        5190    93.2799987792969   \n",
              "\n",
              "  census_tract_number  hud_median_family_income tract_to_msamd_income  \\\n",
              "0                5.07                     51300      111.019996643066   \n",
              "1                2128                     64300      83.6399993896484   \n",
              "2               20.16                     63200                116.25   \n",
              "3              1101.1                     88000                 82.25   \n",
              "4             6014.01                     64300      64.3199996948242   \n",
              "\n",
              "   number_of_owner_occupied_units  number_of_1_to_4_family_units agency_abbr  \\\n",
              "0                            1938                           3051        CFPB   \n",
              "1                             492                           1082        CFPB   \n",
              "2                             937                           1218        CFPB   \n",
              "3                             920                           1469        CFPB   \n",
              "4                             371                            830        CFPB   \n",
              "\n",
              "  loan_type_name                                 property_type_name  \\\n",
              "0   Conventional  One-to-four family dwelling (other than manufa...   \n",
              "1   Conventional  One-to-four family dwelling (other than manufa...   \n",
              "2   Conventional  One-to-four family dwelling (other than manufa...   \n",
              "3   Conventional  One-to-four family dwelling (other than manufa...   \n",
              "4   Conventional  One-to-four family dwelling (other than manufa...   \n",
              "\n",
              "  loan_purpose_name                        owner_occupancy_name  \\\n",
              "0  Home improvement      Owner-occupied as a principal dwelling   \n",
              "1       Refinancing      Owner-occupied as a principal dwelling   \n",
              "2       Refinancing  Not owner-occupied as a principal dwelling   \n",
              "3       Refinancing      Owner-occupied as a principal dwelling   \n",
              "4       Refinancing      Owner-occupied as a principal dwelling   \n",
              "\n",
              "                                msamd_name            county_name  \\\n",
              "0                              Madera - CA          Madera County   \n",
              "1   Los Angeles, Long Beach, Glendale - CA     Los Angeles County   \n",
              "2  Riverside, San Bernardino, Ontario - CA  San Bernardino County   \n",
              "3          Anaheim, Santa Ana, Irvine - CA          Orange County   \n",
              "4   Los Angeles, Long Beach, Glendale - CA     Los Angeles County   \n",
              "\n",
              "  preapproval_name  preapproval                  action_taken_name  \\\n",
              "0   Not applicable            3  Loan purchased by the institution   \n",
              "1   Not applicable            3  Loan purchased by the institution   \n",
              "2   Not applicable            3  Loan purchased by the institution   \n",
              "3   Not applicable            3  Loan purchased by the institution   \n",
              "4   Not applicable            3  Loan purchased by the institution   \n",
              "\n",
              "   action_taken  \n",
              "0             6  \n",
              "1             6  \n",
              "2             6  \n",
              "3             6  \n",
              "4             6  "
            ],
            "text/html": [
              "\n",
              "  <div id=\"df-8db6c990-b991-40fd-9417-48c488ab94e2\">\n",
              "    <div class=\"colab-df-container\">\n",
              "      <div>\n",
              "<style scoped>\n",
              "    .dataframe tbody tr th:only-of-type {\n",
              "        vertical-align: middle;\n",
              "    }\n",
              "\n",
              "    .dataframe tbody tr th {\n",
              "        vertical-align: top;\n",
              "    }\n",
              "\n",
              "    .dataframe thead th {\n",
              "        text-align: right;\n",
              "    }\n",
              "</style>\n",
              "<table border=\"1\" class=\"dataframe\">\n",
              "  <thead>\n",
              "    <tr style=\"text-align: right;\">\n",
              "      <th></th>\n",
              "      <th>loan_amount_000s</th>\n",
              "      <th>applicant_income_000s</th>\n",
              "      <th>population</th>\n",
              "      <th>minority_population</th>\n",
              "      <th>census_tract_number</th>\n",
              "      <th>hud_median_family_income</th>\n",
              "      <th>tract_to_msamd_income</th>\n",
              "      <th>number_of_owner_occupied_units</th>\n",
              "      <th>number_of_1_to_4_family_units</th>\n",
              "      <th>agency_abbr</th>\n",
              "      <th>loan_type_name</th>\n",
              "      <th>property_type_name</th>\n",
              "      <th>loan_purpose_name</th>\n",
              "      <th>owner_occupancy_name</th>\n",
              "      <th>msamd_name</th>\n",
              "      <th>county_name</th>\n",
              "      <th>preapproval_name</th>\n",
              "      <th>preapproval</th>\n",
              "      <th>action_taken_name</th>\n",
              "      <th>action_taken</th>\n",
              "    </tr>\n",
              "  </thead>\n",
              "  <tbody>\n",
              "    <tr>\n",
              "      <th>0</th>\n",
              "      <td>1</td>\n",
              "      <td>81</td>\n",
              "      <td>11622</td>\n",
              "      <td>72.5599975585938</td>\n",
              "      <td>5.07</td>\n",
              "      <td>51300</td>\n",
              "      <td>111.019996643066</td>\n",
              "      <td>1938</td>\n",
              "      <td>3051</td>\n",
              "      <td>CFPB</td>\n",
              "      <td>Conventional</td>\n",
              "      <td>One-to-four family dwelling (other than manufa...</td>\n",
              "      <td>Home improvement</td>\n",
              "      <td>Owner-occupied as a principal dwelling</td>\n",
              "      <td>Madera - CA</td>\n",
              "      <td>Madera County</td>\n",
              "      <td>Not applicable</td>\n",
              "      <td>3</td>\n",
              "      <td>Loan purchased by the institution</td>\n",
              "      <td>6</td>\n",
              "    </tr>\n",
              "    <tr>\n",
              "      <th>1</th>\n",
              "      <td>1</td>\n",
              "      <td>61</td>\n",
              "      <td>4103</td>\n",
              "      <td>84.3300018310547</td>\n",
              "      <td>2128</td>\n",
              "      <td>64300</td>\n",
              "      <td>83.6399993896484</td>\n",
              "      <td>492</td>\n",
              "      <td>1082</td>\n",
              "      <td>CFPB</td>\n",
              "      <td>Conventional</td>\n",
              "      <td>One-to-four family dwelling (other than manufa...</td>\n",
              "      <td>Refinancing</td>\n",
              "      <td>Owner-occupied as a principal dwelling</td>\n",
              "      <td>Los Angeles, Long Beach, Glendale - CA</td>\n",
              "      <td>Los Angeles County</td>\n",
              "      <td>Not applicable</td>\n",
              "      <td>3</td>\n",
              "      <td>Loan purchased by the institution</td>\n",
              "      <td>6</td>\n",
              "    </tr>\n",
              "    <tr>\n",
              "      <th>2</th>\n",
              "      <td>1</td>\n",
              "      <td>34</td>\n",
              "      <td>4021</td>\n",
              "      <td>43.75</td>\n",
              "      <td>20.16</td>\n",
              "      <td>63200</td>\n",
              "      <td>116.25</td>\n",
              "      <td>937</td>\n",
              "      <td>1218</td>\n",
              "      <td>CFPB</td>\n",
              "      <td>Conventional</td>\n",
              "      <td>One-to-four family dwelling (other than manufa...</td>\n",
              "      <td>Refinancing</td>\n",
              "      <td>Not owner-occupied as a principal dwelling</td>\n",
              "      <td>Riverside, San Bernardino, Ontario - CA</td>\n",
              "      <td>San Bernardino County</td>\n",
              "      <td>Not applicable</td>\n",
              "      <td>3</td>\n",
              "      <td>Loan purchased by the institution</td>\n",
              "      <td>6</td>\n",
              "    </tr>\n",
              "    <tr>\n",
              "      <th>3</th>\n",
              "      <td>1</td>\n",
              "      <td>54</td>\n",
              "      <td>5751</td>\n",
              "      <td>65.2399978637695</td>\n",
              "      <td>1101.1</td>\n",
              "      <td>88000</td>\n",
              "      <td>82.25</td>\n",
              "      <td>920</td>\n",
              "      <td>1469</td>\n",
              "      <td>CFPB</td>\n",
              "      <td>Conventional</td>\n",
              "      <td>One-to-four family dwelling (other than manufa...</td>\n",
              "      <td>Refinancing</td>\n",
              "      <td>Owner-occupied as a principal dwelling</td>\n",
              "      <td>Anaheim, Santa Ana, Irvine - CA</td>\n",
              "      <td>Orange County</td>\n",
              "      <td>Not applicable</td>\n",
              "      <td>3</td>\n",
              "      <td>Loan purchased by the institution</td>\n",
              "      <td>6</td>\n",
              "    </tr>\n",
              "    <tr>\n",
              "      <th>4</th>\n",
              "      <td>1</td>\n",
              "      <td>80</td>\n",
              "      <td>5190</td>\n",
              "      <td>93.2799987792969</td>\n",
              "      <td>6014.01</td>\n",
              "      <td>64300</td>\n",
              "      <td>64.3199996948242</td>\n",
              "      <td>371</td>\n",
              "      <td>830</td>\n",
              "      <td>CFPB</td>\n",
              "      <td>Conventional</td>\n",
              "      <td>One-to-four family dwelling (other than manufa...</td>\n",
              "      <td>Refinancing</td>\n",
              "      <td>Owner-occupied as a principal dwelling</td>\n",
              "      <td>Los Angeles, Long Beach, Glendale - CA</td>\n",
              "      <td>Los Angeles County</td>\n",
              "      <td>Not applicable</td>\n",
              "      <td>3</td>\n",
              "      <td>Loan purchased by the institution</td>\n",
              "      <td>6</td>\n",
              "    </tr>\n",
              "  </tbody>\n",
              "</table>\n",
              "</div>\n",
              "      <button class=\"colab-df-convert\" onclick=\"convertToInteractive('df-8db6c990-b991-40fd-9417-48c488ab94e2')\"\n",
              "              title=\"Convert this dataframe to an interactive table.\"\n",
              "              style=\"display:none;\">\n",
              "        \n",
              "  <svg xmlns=\"http://www.w3.org/2000/svg\" height=\"24px\"viewBox=\"0 0 24 24\"\n",
              "       width=\"24px\">\n",
              "    <path d=\"M0 0h24v24H0V0z\" fill=\"none\"/>\n",
              "    <path d=\"M18.56 5.44l.94 2.06.94-2.06 2.06-.94-2.06-.94-.94-2.06-.94 2.06-2.06.94zm-11 1L8.5 8.5l.94-2.06 2.06-.94-2.06-.94L8.5 2.5l-.94 2.06-2.06.94zm10 10l.94 2.06.94-2.06 2.06-.94-2.06-.94-.94-2.06-.94 2.06-2.06.94z\"/><path d=\"M17.41 7.96l-1.37-1.37c-.4-.4-.92-.59-1.43-.59-.52 0-1.04.2-1.43.59L10.3 9.45l-7.72 7.72c-.78.78-.78 2.05 0 2.83L4 21.41c.39.39.9.59 1.41.59.51 0 1.02-.2 1.41-.59l7.78-7.78 2.81-2.81c.8-.78.8-2.07 0-2.86zM5.41 20L4 18.59l7.72-7.72 1.47 1.35L5.41 20z\"/>\n",
              "  </svg>\n",
              "      </button>\n",
              "      \n",
              "  <style>\n",
              "    .colab-df-container {\n",
              "      display:flex;\n",
              "      flex-wrap:wrap;\n",
              "      gap: 12px;\n",
              "    }\n",
              "\n",
              "    .colab-df-convert {\n",
              "      background-color: #E8F0FE;\n",
              "      border: none;\n",
              "      border-radius: 50%;\n",
              "      cursor: pointer;\n",
              "      display: none;\n",
              "      fill: #1967D2;\n",
              "      height: 32px;\n",
              "      padding: 0 0 0 0;\n",
              "      width: 32px;\n",
              "    }\n",
              "\n",
              "    .colab-df-convert:hover {\n",
              "      background-color: #E2EBFA;\n",
              "      box-shadow: 0px 1px 2px rgba(60, 64, 67, 0.3), 0px 1px 3px 1px rgba(60, 64, 67, 0.15);\n",
              "      fill: #174EA6;\n",
              "    }\n",
              "\n",
              "    [theme=dark] .colab-df-convert {\n",
              "      background-color: #3B4455;\n",
              "      fill: #D2E3FC;\n",
              "    }\n",
              "\n",
              "    [theme=dark] .colab-df-convert:hover {\n",
              "      background-color: #434B5C;\n",
              "      box-shadow: 0px 1px 3px 1px rgba(0, 0, 0, 0.15);\n",
              "      filter: drop-shadow(0px 1px 2px rgba(0, 0, 0, 0.3));\n",
              "      fill: #FFFFFF;\n",
              "    }\n",
              "  </style>\n",
              "\n",
              "      <script>\n",
              "        const buttonEl =\n",
              "          document.querySelector('#df-8db6c990-b991-40fd-9417-48c488ab94e2 button.colab-df-convert');\n",
              "        buttonEl.style.display =\n",
              "          google.colab.kernel.accessAllowed ? 'block' : 'none';\n",
              "\n",
              "        async function convertToInteractive(key) {\n",
              "          const element = document.querySelector('#df-8db6c990-b991-40fd-9417-48c488ab94e2');\n",
              "          const dataTable =\n",
              "            await google.colab.kernel.invokeFunction('convertToInteractive',\n",
              "                                                     [key], {});\n",
              "          if (!dataTable) return;\n",
              "\n",
              "          const docLinkHtml = 'Like what you see? Visit the ' +\n",
              "            '<a target=\"_blank\" href=https://colab.research.google.com/notebooks/data_table.ipynb>data table notebook</a>'\n",
              "            + ' to learn more about interactive tables.';\n",
              "          element.innerHTML = '';\n",
              "          dataTable['output_type'] = 'display_data';\n",
              "          await google.colab.output.renderOutput(dataTable, element);\n",
              "          const docLink = document.createElement('div');\n",
              "          docLink.innerHTML = docLinkHtml;\n",
              "          element.appendChild(docLink);\n",
              "        }\n",
              "      </script>\n",
              "    </div>\n",
              "  </div>\n",
              "  "
            ]
          },
          "metadata": {},
          "execution_count": 10
        }
      ]
    },
    {
      "cell_type": "code",
      "source": [
        "ml_df.isna().sum()\n",
        "ml_df = ml_df.drop_duplicates()\n",
        "ml_df.duplicated().sum()"
      ],
      "metadata": {
        "id": "I9p_wSkOqZOv",
        "colab": {
          "base_uri": "https://localhost:8080/"
        },
        "outputId": "36ad4895-ede8-4347-b32f-9819155bf6fc"
      },
      "execution_count": 11,
      "outputs": [
        {
          "output_type": "execute_result",
          "data": {
            "text/plain": [
              "0"
            ]
          },
          "metadata": {},
          "execution_count": 11
        }
      ]
    },
    {
      "cell_type": "code",
      "source": [
        "ml_df['minority_population'] = ml_df['minority_population'].astype('float64')\n",
        "ml_df['census_tract_number'] = ml_df['census_tract_number'].astype('float64')\n",
        "ml_df['tract_to_msamd_income'] = ml_df['tract_to_msamd_income'].astype('float64')"
      ],
      "metadata": {
        "id": "raOzrfuTqZMl"
      },
      "execution_count": 12,
      "outputs": []
    },
    {
      "cell_type": "code",
      "source": [
        "target_df = ml_df[['action_taken_name','action_taken']]\n",
        "preapproval_df = ml_df[['preapproval_name', 'preapproval']]"
      ],
      "metadata": {
        "id": "sYpKtr7mzmCV"
      },
      "execution_count": 13,
      "outputs": []
    },
    {
      "cell_type": "markdown",
      "source": [
        "## Target and Metric Assessment"
      ],
      "metadata": {
        "id": "2SqnGPkR2E9G"
      }
    },
    {
      "cell_type": "code",
      "source": [
        "target_df_count = target_df.groupby(['action_taken','action_taken_name'])['action_taken'].count()\n",
        "target_df_count"
      ],
      "metadata": {
        "colab": {
          "base_uri": "https://localhost:8080/"
        },
        "id": "FPc0kv772EyL",
        "outputId": "d164f82c-f6b3-4be5-a977-e7d50ecbe347"
      },
      "execution_count": 14,
      "outputs": [
        {
          "output_type": "execute_result",
          "data": {
            "text/plain": [
              "action_taken  action_taken_name                                  \n",
              "1             Loan originated                                        808629\n",
              "2             Application approved but not accepted                   46278\n",
              "3             Application denied by financial institution            207505\n",
              "4             Application withdrawn by applicant                     217332\n",
              "5             File closed for incompleteness                          70333\n",
              "6             Loan purchased by the institution                      117033\n",
              "7             Preapproval request denied by financial institution        24\n",
              "8             Preapproval request approved but not accepted              13\n",
              "Name: action_taken, dtype: int64"
            ]
          },
          "metadata": {},
          "execution_count": 14
        }
      ]
    },
    {
      "cell_type": "code",
      "source": [
        "preapproval_df_count = preapproval_df.groupby(['preapproval_name','preapproval'])['preapproval'].count()\n",
        "preapproval_df_count\n"
      ],
      "metadata": {
        "colab": {
          "base_uri": "https://localhost:8080/"
        },
        "id": "9BaE4gua2EvD",
        "outputId": "43851b63-4012-48fe-fa95-24d14379e8c5"
      },
      "execution_count": 15,
      "outputs": [
        {
          "output_type": "execute_result",
          "data": {
            "text/plain": [
              "preapproval_name               preapproval\n",
              "Not applicable                 3              1267828\n",
              "Preapproval was not requested  2               172060\n",
              "Preapproval was requested      1                27259\n",
              "Name: preapproval, dtype: int64"
            ]
          },
          "metadata": {},
          "execution_count": 15
        }
      ]
    },
    {
      "cell_type": "code",
      "source": [
        "metric_df = pd.concat([target_df, preapproval_df], axis=1)"
      ],
      "metadata": {
        "id": "-cWt3KXF2Er5"
      },
      "execution_count": 16,
      "outputs": []
    },
    {
      "cell_type": "code",
      "source": [
        "pa_req_df = metric_df.loc[metric_df['preapproval'] == 1]\n",
        "pa_req_df.info()"
      ],
      "metadata": {
        "colab": {
          "base_uri": "https://localhost:8080/"
        },
        "id": "stSj5R3q2Eo9",
        "outputId": "89c2ea7d-b44a-450e-a5ae-58cb6639fc2a"
      },
      "execution_count": 17,
      "outputs": [
        {
          "output_type": "stream",
          "name": "stdout",
          "text": [
            "<class 'pandas.core.frame.DataFrame'>\n",
            "Int64Index: 27259 entries, 2117 to 1473035\n",
            "Data columns (total 4 columns):\n",
            " #   Column             Non-Null Count  Dtype \n",
            "---  ------             --------------  ----- \n",
            " 0   action_taken_name  27259 non-null  object\n",
            " 1   action_taken       27259 non-null  int64 \n",
            " 2   preapproval_name   27259 non-null  object\n",
            " 3   preapproval        27259 non-null  int64 \n",
            "dtypes: int64(2), object(2)\n",
            "memory usage: 1.0+ MB\n"
          ]
        }
      ]
    },
    {
      "cell_type": "code",
      "source": [
        "pa_req_df_count = pa_req_df.groupby(['action_taken','action_taken_name'])['action_taken'].count()\n",
        "pa_req_df_count"
      ],
      "metadata": {
        "colab": {
          "base_uri": "https://localhost:8080/"
        },
        "id": "Dv5Ol5BE2EjU",
        "outputId": "3d8b6f78-d146-430d-aca9-575df42002dd"
      },
      "execution_count": 18,
      "outputs": [
        {
          "output_type": "execute_result",
          "data": {
            "text/plain": [
              "action_taken  action_taken_name                                  \n",
              "1             Loan originated                                        20789\n",
              "2             Application approved but not accepted                   1243\n",
              "3             Application denied by financial institution             1540\n",
              "4             Application withdrawn by applicant                      3278\n",
              "5             File closed for incompleteness                           372\n",
              "7             Preapproval request denied by financial institution       24\n",
              "8             Preapproval request approved but not accepted             13\n",
              "Name: action_taken, dtype: int64"
            ]
          },
          "metadata": {},
          "execution_count": 18
        }
      ]
    },
    {
      "cell_type": "code",
      "source": [
        "pa_origination = len(pa_req_df.loc[pa_req_df['action_taken']==1])\n",
        "pa_origination_rate = pa_origination / len(pa_req_df) * 100\n",
        "print(f'Loan Origination: {pa_origination_rate:.2f}%')"
      ],
      "metadata": {
        "colab": {
          "base_uri": "https://localhost:8080/"
        },
        "id": "rA4BWBZ566Ij",
        "outputId": "f1cf8765-1b4c-4fce-8961-defa83921ec9"
      },
      "execution_count": 19,
      "outputs": [
        {
          "output_type": "stream",
          "name": "stdout",
          "text": [
            "Loan Origination: 76.26%\n"
          ]
        }
      ]
    },
    {
      "cell_type": "markdown",
      "source": [
        "## Cleaning ML Data\n",
        "1. remove rows with applications withdrawn by applicant action_taken == 3\n",
        "2. remove rows with application closed for incompleteness action_taken == 5"
      ],
      "metadata": {
        "id": "FKEtPSkx8Ctw"
      }
    },
    {
      "cell_type": "code",
      "source": [
        "len(ml_df)"
      ],
      "metadata": {
        "colab": {
          "base_uri": "https://localhost:8080/"
        },
        "id": "lxpmyPvr9E5q",
        "outputId": "69ec44fe-6eb0-4e88-b7a6-77a13f6061bb"
      },
      "execution_count": 20,
      "outputs": [
        {
          "output_type": "execute_result",
          "data": {
            "text/plain": [
              "1467147"
            ]
          },
          "metadata": {},
          "execution_count": 20
        }
      ]
    },
    {
      "cell_type": "code",
      "source": [
        "def fix_target_data(member):\n",
        "  if member == 1:\n",
        "    return 1 \n",
        "  else:\n",
        "    return 0"
      ],
      "metadata": {
        "id": "ZFHRT01i91Z-"
      },
      "execution_count": 21,
      "outputs": []
    },
    {
      "cell_type": "code",
      "source": [
        "ml_df['action_taken'] = ml_df['action_taken'].apply(fix_target_data)"
      ],
      "metadata": {
        "id": "UYVz3Q-t91XJ"
      },
      "execution_count": 22,
      "outputs": []
    },
    {
      "cell_type": "code",
      "source": [
        "ml_df = ml_df.drop(columns=['preapproval','preapproval_name','action_taken_name'])"
      ],
      "metadata": {
        "id": "PDZzVqei91Us"
      },
      "execution_count": 23,
      "outputs": []
    },
    {
      "cell_type": "code",
      "source": [
        "row_count = len(ml_df)\n",
        "column_count = len(ml_df.columns)\n",
        "\n",
        "print(f'Row Count: {row_count} | Column Count: {column_count}')"
      ],
      "metadata": {
        "id": "AP-b4OjmqZJu",
        "colab": {
          "base_uri": "https://localhost:8080/"
        },
        "outputId": "fba4df45-9ad5-4462-b722-8d80ea4d6cb3"
      },
      "execution_count": 24,
      "outputs": [
        {
          "output_type": "stream",
          "name": "stdout",
          "text": [
            "Row Count: 1467147 | Column Count: 17\n"
          ]
        }
      ]
    },
    {
      "cell_type": "code",
      "source": [
        "ml_df.dtypes"
      ],
      "metadata": {
        "colab": {
          "base_uri": "https://localhost:8080/"
        },
        "id": "L6domrcPsKSX",
        "outputId": "8d9dad35-d0a6-4b56-b38b-5b20cefcb0ba"
      },
      "execution_count": 25,
      "outputs": [
        {
          "output_type": "execute_result",
          "data": {
            "text/plain": [
              "loan_amount_000s                    int64\n",
              "applicant_income_000s               int64\n",
              "population                          int64\n",
              "minority_population               float64\n",
              "census_tract_number               float64\n",
              "hud_median_family_income            int64\n",
              "tract_to_msamd_income             float64\n",
              "number_of_owner_occupied_units      int64\n",
              "number_of_1_to_4_family_units       int64\n",
              "agency_abbr                        object\n",
              "loan_type_name                     object\n",
              "property_type_name                 object\n",
              "loan_purpose_name                  object\n",
              "owner_occupancy_name               object\n",
              "msamd_name                         object\n",
              "county_name                        object\n",
              "action_taken                        int64\n",
              "dtype: object"
            ]
          },
          "metadata": {},
          "execution_count": 25
        }
      ]
    },
    {
      "cell_type": "code",
      "source": [
        "def get_categorical_columns(data):\n",
        "  data = data.copy()\n",
        "\n",
        "  encoded_columns = data.dtypes[data.dtypes == 'object'].index.tolist()\n",
        "\n",
        "  return encoded_columns"
      ],
      "metadata": {
        "id": "aqK_gvYYqZHP"
      },
      "execution_count": 26,
      "outputs": []
    },
    {
      "cell_type": "code",
      "source": [
        "ml_cat = get_categorical_columns(ml_df)"
      ],
      "metadata": {
        "id": "DbECsYgRw0IB"
      },
      "execution_count": 27,
      "outputs": []
    },
    {
      "cell_type": "code",
      "source": [
        "len(ml_cat)"
      ],
      "metadata": {
        "id": "pi8VFN2BlcXU",
        "colab": {
          "base_uri": "https://localhost:8080/"
        },
        "outputId": "11ef9b41-2417-4f27-fd08-3bc2c7f297ac"
      },
      "execution_count": 28,
      "outputs": [
        {
          "output_type": "execute_result",
          "data": {
            "text/plain": [
              "7"
            ]
          },
          "metadata": {},
          "execution_count": 28
        }
      ]
    },
    {
      "cell_type": "code",
      "source": [
        "ml_df[ml_cat].nunique()"
      ],
      "metadata": {
        "id": "4suOXUt7lcU2",
        "colab": {
          "base_uri": "https://localhost:8080/"
        },
        "outputId": "2eb75f9b-4044-4bcf-e941-b85292885332"
      },
      "execution_count": 29,
      "outputs": [
        {
          "output_type": "execute_result",
          "data": {
            "text/plain": [
              "agency_abbr              6\n",
              "loan_type_name           4\n",
              "property_type_name       2\n",
              "loan_purpose_name        3\n",
              "owner_occupancy_name     3\n",
              "msamd_name              29\n",
              "county_name             37\n",
              "dtype: int64"
            ]
          },
          "metadata": {},
          "execution_count": 29
        }
      ]
    },
    {
      "cell_type": "code",
      "source": [
        "for cat in ml_cat:\n",
        "  if not os.path.isdir('./eda'):\n",
        "    os.makedirs('./eda')\n",
        "    \n",
        "  with open(f'./eda/{cat}_value_counts.txt','w') as txt_file:\n",
        "    col_value_counts = ml_df[cat].value_counts()\n",
        "\n",
        "    txt_file.write(str(col_value_counts))\n",
        "    \n",
        "    print(col_value_counts)"
      ],
      "metadata": {
        "id": "qQPNeunOlcSe",
        "colab": {
          "base_uri": "https://localhost:8080/"
        },
        "outputId": "32c1c9d2-ba98-4623-e64d-266fc977fc18"
      },
      "execution_count": 30,
      "outputs": [
        {
          "output_type": "stream",
          "name": "stdout",
          "text": [
            "HUD     859143\n",
            "CFPB    463242\n",
            "NCUA     70840\n",
            "FDIC     36433\n",
            "OCC      27013\n",
            "FRS      10476\n",
            "Name: agency_abbr, dtype: int64\n",
            "Conventional          1185900\n",
            "FHA-insured            184867\n",
            "VA-guaranteed           93149\n",
            "FSA/RHS-guaranteed       3231\n",
            "Name: loan_type_name, dtype: int64\n",
            "One-to-four family dwelling (other than manufactured housing)    1442046\n",
            "Manufactured housing                                               25101\n",
            "Name: property_type_name, dtype: int64\n",
            "Refinancing         779360\n",
            "Home purchase       577957\n",
            "Home improvement    109830\n",
            "Name: loan_purpose_name, dtype: int64\n",
            "Owner-occupied as a principal dwelling        1301376\n",
            "Not owner-occupied as a principal dwelling     164568\n",
            "Not applicable                                   1203\n",
            "Name: owner_occupancy_name, dtype: int64\n",
            "Los Angeles, Long Beach, Glendale - CA                   305494\n",
            "Riverside, San Bernardino, Ontario - CA                  222800\n",
            "San Diego, Carlsbad - CA                                 138451\n",
            "Sacramento, Roseville, Arden-Arcade - CA                 122260\n",
            "Oakland, Hayward, Berkeley - CA                          121191\n",
            "Anaheim, Santa Ana, Irvine - CA                          116302\n",
            "San Jose, Sunnyvale, Santa Clara - CA                     67129\n",
            "San Francisco, Redwood City, South San Francisco - CA     44549\n",
            "Oxnard, Thousand Oaks, Ventura - CA                       34432\n",
            "Stockton, Lodi - CA                                       34401\n",
            "Fresno - CA                                               32126\n",
            "Bakersfield - CA                                          30852\n",
            "Vallejo, Fairfield - CA                                   24541\n",
            "Modesto - CA                                              24068\n",
            "Santa Rosa - CA                                           20928\n",
            "Santa Maria, Santa Barbara - CA                           13837\n",
            "Visalia, Porterville - CA                                 13785\n",
            "Salinas - CA                                              13197\n",
            "San Luis Obispo, Paso Robles, Arroyo Grande - CA          12297\n",
            "San Rafael - CA                                           10482\n",
            "Santa Cruz, Watsonville - CA                               9720\n",
            "Merced - CA                                                9550\n",
            "Chico - CA                                                 8713\n",
            "Yuba City - CA                                             7738\n",
            "Redding - CA                                               7643\n",
            "Napa - CA                                                  6041\n",
            "Madera - CA                                                5451\n",
            "El Centro - CA                                             4842\n",
            "Hanford, Corcoran - CA                                     4327\n",
            "Name: msamd_name, dtype: int64\n",
            "Los Angeles County        305494\n",
            "San Diego County          138451\n",
            "Riverside County          125358\n",
            "Orange County             116302\n",
            "San Bernardino County      97442\n",
            "Sacramento County          76235\n",
            "Santa Clara County         63877\n",
            "Alameda County             63119\n",
            "Contra Costa County        58072\n",
            "Ventura County             34432\n",
            "San Joaquin County         34401\n",
            "Fresno County              32126\n",
            "Kern County                30852\n",
            "Placer County              25639\n",
            "Solano County              24541\n",
            "San Mateo County           24519\n",
            "Stanislaus County          24068\n",
            "Sonoma County              20928\n",
            "San Francisco County       20030\n",
            "Santa Barbara County       13837\n",
            "Tulare County              13785\n",
            "Monterey County            13197\n",
            "El Dorado County           12790\n",
            "San Luis Obispo County     12297\n",
            "Marin County               10482\n",
            "Santa Cruz County           9720\n",
            "Merced County               9550\n",
            "Butte County                8713\n",
            "Shasta County               7643\n",
            "Yolo County                 7596\n",
            "Napa County                 6041\n",
            "Madera County               5451\n",
            "Imperial County             4842\n",
            "Kings County                4327\n",
            "Sutter County               3939\n",
            "Yuba County                 3799\n",
            "San Benito County           3252\n",
            "Name: county_name, dtype: int64\n"
          ]
        }
      ]
    },
    {
      "cell_type": "code",
      "source": [
        "def make_buckets(data, column, cutoff):\n",
        "    data.copy()\n",
        "    \n",
        "    label_list = data[column].value_counts()\n",
        "\n",
        "    replace_list = list(label_list[label_list < cutoff].index)\n",
        "\n",
        "    for item in replace_list:\n",
        "        data[column] = data[column].replace(item,'other')\n",
        "    \n",
        "    return data"
      ],
      "metadata": {
        "id": "27AIJvM0lcP6"
      },
      "execution_count": 31,
      "outputs": []
    },
    {
      "cell_type": "code",
      "source": [
        "# reduce the number of msamd and counties\n",
        "ml_df_bin = make_buckets(ml_df, 'msamd_name', 10000)\n",
        "ml_df_bin = make_buckets(ml_df, 'county_name', 10000)"
      ],
      "metadata": {
        "id": "e-Kcf1SrlcLN"
      },
      "execution_count": 32,
      "outputs": []
    },
    {
      "cell_type": "code",
      "source": [
        "ml_df_bin[ml_cat].nunique()"
      ],
      "metadata": {
        "id": "Md49F8kxNwy4",
        "colab": {
          "base_uri": "https://localhost:8080/"
        },
        "outputId": "2cb57d5c-d6ad-4554-bb59-ee971373a9ab"
      },
      "execution_count": 33,
      "outputs": [
        {
          "output_type": "execute_result",
          "data": {
            "text/plain": [
              "agency_abbr              6\n",
              "loan_type_name           4\n",
              "property_type_name       2\n",
              "loan_purpose_name        3\n",
              "owner_occupancy_name     3\n",
              "msamd_name              21\n",
              "county_name             26\n",
              "dtype: int64"
            ]
          },
          "metadata": {},
          "execution_count": 33
        }
      ]
    },
    {
      "cell_type": "code",
      "source": [
        "def encode_data(data, encoded_columns):\n",
        "    data = data.copy()\n",
        "\n",
        "    # make df of columns to be encoded\n",
        "    enc_df = data[encoded_columns]\n",
        "\n",
        "    #initialize the encoder\n",
        "    enc = OneHotEncoder(sparse=False)\n",
        "    #fit and transform the encoded columns\n",
        "    encoded = enc.fit_transform(enc_df)\n",
        "\n",
        "    encoded_df = pd.DataFrame(encoded)\n",
        "\n",
        "    encoded_df.columns = enc.get_feature_names_out(encoded_columns)\n",
        "\n",
        "    encoded_df = encoded_df.drop(columns=['property_type_name_Manufactured housing'])\n",
        "\n",
        "    data = data.merge(encoded_df, left_index=True, right_index=True).drop(columns=encoded_columns, axis=1)\n",
        "\n",
        "    print('encode_data: Done!')\n",
        "    return data"
      ],
      "metadata": {
        "id": "vTgpNR-4waL8"
      },
      "execution_count": 34,
      "outputs": []
    },
    {
      "cell_type": "code",
      "source": [
        "ml_df_encoded = encode_data(ml_df_bin, ml_cat)\n",
        "ml_df_encoded.columns"
      ],
      "metadata": {
        "colab": {
          "base_uri": "https://localhost:8080/"
        },
        "id": "GycirPyYwaOx",
        "outputId": "954ef38c-a931-4630-c109-08ac18c44e0d"
      },
      "execution_count": 35,
      "outputs": [
        {
          "output_type": "stream",
          "name": "stdout",
          "text": [
            "encode_data: Done!\n"
          ]
        },
        {
          "output_type": "execute_result",
          "data": {
            "text/plain": [
              "Index(['loan_amount_000s', 'applicant_income_000s', 'population',\n",
              "       'minority_population', 'census_tract_number',\n",
              "       'hud_median_family_income', 'tract_to_msamd_income',\n",
              "       'number_of_owner_occupied_units', 'number_of_1_to_4_family_units',\n",
              "       'action_taken', 'agency_abbr_CFPB', 'agency_abbr_FDIC',\n",
              "       'agency_abbr_FRS', 'agency_abbr_HUD', 'agency_abbr_NCUA',\n",
              "       'agency_abbr_OCC', 'loan_type_name_Conventional',\n",
              "       'loan_type_name_FHA-insured', 'loan_type_name_FSA/RHS-guaranteed',\n",
              "       'loan_type_name_VA-guaranteed',\n",
              "       'property_type_name_One-to-four family dwelling (other than manufactured housing)',\n",
              "       'loan_purpose_name_Home improvement', 'loan_purpose_name_Home purchase',\n",
              "       'loan_purpose_name_Refinancing', 'owner_occupancy_name_Not applicable',\n",
              "       'owner_occupancy_name_Not owner-occupied as a principal dwelling',\n",
              "       'owner_occupancy_name_Owner-occupied as a principal dwelling',\n",
              "       'msamd_name_Anaheim, Santa Ana, Irvine - CA',\n",
              "       'msamd_name_Bakersfield - CA', 'msamd_name_Fresno - CA',\n",
              "       'msamd_name_Los Angeles, Long Beach, Glendale - CA',\n",
              "       'msamd_name_Modesto - CA', 'msamd_name_Oakland, Hayward, Berkeley - CA',\n",
              "       'msamd_name_Oxnard, Thousand Oaks, Ventura - CA',\n",
              "       'msamd_name_Riverside, San Bernardino, Ontario - CA',\n",
              "       'msamd_name_Sacramento, Roseville, Arden-Arcade - CA',\n",
              "       'msamd_name_Salinas - CA', 'msamd_name_San Diego, Carlsbad - CA',\n",
              "       'msamd_name_San Francisco, Redwood City, South San Francisco - CA',\n",
              "       'msamd_name_San Jose, Sunnyvale, Santa Clara - CA',\n",
              "       'msamd_name_San Luis Obispo, Paso Robles, Arroyo Grande - CA',\n",
              "       'msamd_name_San Rafael - CA',\n",
              "       'msamd_name_Santa Maria, Santa Barbara - CA',\n",
              "       'msamd_name_Santa Rosa - CA', 'msamd_name_Stockton, Lodi - CA',\n",
              "       'msamd_name_Vallejo, Fairfield - CA',\n",
              "       'msamd_name_Visalia, Porterville - CA', 'msamd_name_other',\n",
              "       'county_name_Alameda County', 'county_name_Contra Costa County',\n",
              "       'county_name_El Dorado County', 'county_name_Fresno County',\n",
              "       'county_name_Kern County', 'county_name_Los Angeles County',\n",
              "       'county_name_Marin County', 'county_name_Monterey County',\n",
              "       'county_name_Orange County', 'county_name_Placer County',\n",
              "       'county_name_Riverside County', 'county_name_Sacramento County',\n",
              "       'county_name_San Bernardino County', 'county_name_San Diego County',\n",
              "       'county_name_San Francisco County', 'county_name_San Joaquin County',\n",
              "       'county_name_San Luis Obispo County', 'county_name_San Mateo County',\n",
              "       'county_name_Santa Barbara County', 'county_name_Santa Clara County',\n",
              "       'county_name_Solano County', 'county_name_Sonoma County',\n",
              "       'county_name_Stanislaus County', 'county_name_Tulare County',\n",
              "       'county_name_Ventura County', 'county_name_other'],\n",
              "      dtype='object')"
            ]
          },
          "metadata": {},
          "execution_count": 35
        }
      ]
    },
    {
      "cell_type": "markdown",
      "source": [
        "## Machine Learning Process\n",
        "### Begin Preprocessing: Input/Target Split, Train/Test Split, Standardization"
      ],
      "metadata": {
        "id": "jHI7n8JNG1v0"
      }
    },
    {
      "cell_type": "code",
      "source": [
        "def split_target(data, target):\n",
        "  data = data.copy()\n",
        "\n",
        "  y = data[target]\n",
        "  X = data.drop(columns=target)\n",
        "\n",
        "  print('split_target: Done!')\n",
        "  return X, y"
      ],
      "metadata": {
        "id": "NpgkkaNL1pQw"
      },
      "execution_count": 36,
      "outputs": []
    },
    {
      "cell_type": "code",
      "source": [
        "X, y = split_target(ml_df_encoded, 'action_taken')"
      ],
      "metadata": {
        "id": "hpj0PXXw1pH2",
        "colab": {
          "base_uri": "https://localhost:8080/"
        },
        "outputId": "50959921-6bf0-4f0b-e6e2-513c3a263837"
      },
      "execution_count": 37,
      "outputs": [
        {
          "output_type": "stream",
          "name": "stdout",
          "text": [
            "split_target: Done!\n"
          ]
        }
      ]
    },
    {
      "cell_type": "code",
      "source": [
        "# train_test_split \n",
        "X_train, X_test, y_train, y_test = train_test_split(X, y, random_state=1, stratify=y)"
      ],
      "metadata": {
        "id": "s_s7eD1O1o6Q"
      },
      "execution_count": 38,
      "outputs": []
    },
    {
      "cell_type": "code",
      "source": [
        "def scale_data(train, test):\n",
        "  scaler = StandardScaler()\n",
        "\n",
        "  t_scaler = scaler.fit(train)\n",
        "\n",
        "  train_scaled = t_scaler.transform(train)\n",
        "  test_scaled = t_scaler.transform(test)\n",
        "\n",
        "  print('scale_data: Done!')\n",
        "  return train_scaled, test_scaled"
      ],
      "metadata": {
        "id": "_D-o8rdtHcJc"
      },
      "execution_count": 39,
      "outputs": []
    },
    {
      "cell_type": "code",
      "source": [
        "X_train_scaled, X_test_scaled = scale_data(X_train, X_test)"
      ],
      "metadata": {
        "id": "xF9_C7d9Hwuo",
        "colab": {
          "base_uri": "https://localhost:8080/"
        },
        "outputId": "fadce292-af76-49fc-c932-c841fb5e8023"
      },
      "execution_count": 40,
      "outputs": [
        {
          "output_type": "stream",
          "name": "stdout",
          "text": [
            "scale_data: Done!\n"
          ]
        }
      ]
    },
    {
      "cell_type": "markdown",
      "source": [
        "### Begin training balanced random forest model "
      ],
      "metadata": {
        "id": "8lnR2k9qH8hB"
      }
    },
    {
      "cell_type": "code",
      "source": [
        "def brfc_model(X_train, X_test, y_train, y_test):\n",
        "    model = BalancedRandomForestClassifier()\n",
        "    model.fit(X_train, y_train)\n",
        "    y_pred = model.predict(X_test)\n",
        "    brfc_accuracy = balanced_accuracy_score(y_test, y_pred)\n",
        "    print('Balanced Accuracy Score: Balanced Random Forest Classifier')\n",
        "    print(f'Accuracy Score: {brfc_accuracy}')\n",
        "\n",
        "    return model, y_pred, brfc_accuracy"
      ],
      "metadata": {
        "id": "JuZdaG5VH1NB"
      },
      "execution_count": 41,
      "outputs": []
    },
    {
      "cell_type": "code",
      "source": [
        "brfc, brfc_0_pred, brfc_0_accuracy = brfc_model(X_train_scaled, X_test_scaled, y_train, y_test)"
      ],
      "metadata": {
        "colab": {
          "base_uri": "https://localhost:8080/"
        },
        "id": "7sK3RoUqnHSE",
        "outputId": "2bcbe395-626c-46d1-b9a8-c677f774d533"
      },
      "execution_count": 42,
      "outputs": [
        {
          "output_type": "stream",
          "name": "stdout",
          "text": [
            "Balanced Accuracy Score: Balanced Random Forest Classifier\n",
            "Accuracy Score: 0.5352046066757149\n"
          ]
        }
      ]
    },
    {
      "cell_type": "code",
      "source": [
        "def model_metrics(model_name, test, pred, file_title):\n",
        "  if not os.path.isdir('./ml'):\n",
        "    os.makedirs('./ml')\n",
        "      \n",
        "  with open(f'./ml/{file_title}_results.txt','w') as txt_file:\n",
        "    model_accuracy = balanced_accuracy_score(test, pred)\n",
        "    cm = confusion_matrix(test, pred)\n",
        "    cm_df = pd.DataFrame(cm, columns=['Predicted 0','Predicted 1'], index=['Actual 0','Actual 1'])\n",
        "    crib = classification_report_imbalanced(test,pred)\n",
        "    txt_file.write(f'Accuracy Score: {model_accuracy} \\n\\n')\n",
        "    txt_file.write(str(cm_df))\n",
        "    txt_file.write(f'\\n\\n {crib}')\n",
        "    print(model_name)\n",
        "    print(f'Accuracy Score: {model_accuracy:.4f}')\n",
        "    print(cm_df)\n",
        "    print(crib)"
      ],
      "metadata": {
        "id": "P2_O9MwDrVG2"
      },
      "execution_count": 43,
      "outputs": []
    },
    {
      "cell_type": "code",
      "source": [
        "brfc_model_name = 'Balanced Random Forest Classifier Initial Test'\n",
        "model_metrics(model_name=brfc_model_name, test=y_test, pred=brfc_0_pred, file_title='brfc_0')"
      ],
      "metadata": {
        "id": "MnoQ-GrRMWmH",
        "colab": {
          "base_uri": "https://localhost:8080/"
        },
        "outputId": "5f22d7fb-1973-4095-f4f7-6abe0e1ab249"
      },
      "execution_count": 44,
      "outputs": [
        {
          "output_type": "stream",
          "name": "stdout",
          "text": [
            "Balanced Random Forest Classifier Initial Test\n",
            "Accuracy Score: 0.5352\n",
            "          Predicted 0  Predicted 1\n",
            "Actual 0        89092        74946\n",
            "Actual 1        95144       106130\n",
            "                   pre       rec       spe        f1       geo       iba       sup\n",
            "\n",
            "          0       0.48      0.54      0.53      0.51      0.54      0.29    164038\n",
            "          1       0.59      0.53      0.54      0.56      0.54      0.29    201274\n",
            "\n",
            "avg / total       0.54      0.53      0.54      0.54      0.54      0.29    365312\n",
            "\n"
          ]
        }
      ]
    },
    {
      "cell_type": "code",
      "source": [
        "def get_feature_importances(model, input_features, file_title, graph_title, fig_size):\n",
        "  if not os.path.isdir('./ml'):\n",
        "    os.makedirs('./ml')\n",
        "      \n",
        "  with open(f'./ml/{file_title}_feature_importances.txt','w') as txt_file:\n",
        "  \n",
        "    importances = model.feature_importances_\n",
        "  \n",
        "    zipped_importances = sorted(zip(importances, input_features.columns), reverse=True)\n",
        "    importance_df = pd.DataFrame({'importance':[i[0] for i in zipped_importances], 'parameter':[i[1] for i in zipped_importances]})\n",
        "\n",
        "    importance_df.plot.barh('parameter', y='importance', figsize=fig_size)\n",
        "    label_ticks = np.arange(len(importance_df['parameter']))\n",
        "  \n",
        "    plt.title(f'Feature Importances - {graph_title}')\n",
        "    plt.yticks(label_ticks)\n",
        "    plt.xlabel('Input Features')\n",
        "    plt.ylabel('Importance')\n",
        "    plt.gca().invert_yaxis()\n",
        "    plt.savefig(f'./ml/feature_importances_{file_title}.png', bbox_inches='tight')\n",
        "    plt.show()\n",
        "\n",
        "    importance_df.to_csv(f'./ml/{file_title}_feature_importances')\n",
        "    txt_file.write(f'feature importances - {file_title} \\n\\n')\n",
        "    txt_file.write(importance_df.to_string())\n",
        "    print(importance_df.head(20))\n",
        "    return importance_df"
      ],
      "metadata": {
        "id": "q9gTeTbZcRUI"
      },
      "execution_count": 45,
      "outputs": []
    },
    {
      "cell_type": "code",
      "source": [
        "brfc_importances = get_feature_importances(brfc, X, file_title='brfc_0', graph_title='BRFC Initial Test', fig_size=(10,20))\n"
      ],
      "metadata": {
        "colab": {
          "base_uri": "https://localhost:8080/",
          "height": 1000
        },
        "id": "EfcmOJVhehXf",
        "outputId": "17b51304-e376-40c0-f98b-3b6fd0826624"
      },
      "execution_count": 46,
      "outputs": [
        {
          "output_type": "display_data",
          "data": {
            "text/plain": [
              "<Figure size 720x1440 with 1 Axes>"
            ],
            "image/png": "[encoded data removed]"
          },
          "metadata": {
            "needs_background": "light"
          }
        },
        {
          "output_type": "stream",
          "name": "stdout",
          "text": [
            "    importance                                          parameter\n",
            "0     0.152631                              applicant_income_000s\n",
            "1     0.149656                                   loan_amount_000s\n",
            "2     0.069807                                minority_population\n",
            "3     0.069710                              tract_to_msamd_income\n",
            "4     0.069126                                census_tract_number\n",
            "5     0.068143                                         population\n",
            "6     0.067681                      number_of_1_to_4_family_units\n",
            "7     0.067678                     number_of_owner_occupied_units\n",
            "8     0.030189                           hud_median_family_income\n",
            "9     0.013040                                    agency_abbr_HUD\n",
            "10    0.012445                                   agency_abbr_CFPB\n",
            "11    0.012081                      loan_purpose_name_Refinancing\n",
            "12    0.011346                    loan_purpose_name_Home purchase\n",
            "13    0.010048                        loan_type_name_Conventional\n",
            "14    0.008109                         loan_type_name_FHA-insured\n",
            "15    0.008026  owner_occupancy_name_Owner-occupied as a princ...\n",
            "16    0.007955  owner_occupancy_name_Not owner-occupied as a p...\n",
            "17    0.007250                     county_name_Los Angeles County\n",
            "18    0.007198  msamd_name_Los Angeles, Long Beach, Glendale - CA\n",
            "19    0.006259                       loan_type_name_VA-guaranteed\n"
          ]
        }
      ]
    },
    {
      "cell_type": "markdown",
      "source": [
        "Since Accuracy was so low, we need to go back and look at buckets again. let's reduce MSAMD and County to 10 buckets each"
      ],
      "metadata": {
        "id": "_1t4zDuGxF5J"
      }
    },
    {
      "cell_type": "code",
      "source": [
        "ml_df_1 = make_buckets(ml_df, 'msamd_name', 34500)\n",
        "ml_df_1 = make_buckets(ml_df, 'county_name', 35000)"
      ],
      "metadata": {
        "id": "s-rZkqIoxUlF"
      },
      "execution_count": 47,
      "outputs": []
    },
    {
      "cell_type": "code",
      "source": [
        "ml_df_1.msamd_name.value_counts()"
      ],
      "metadata": {
        "colab": {
          "base_uri": "https://localhost:8080/"
        },
        "id": "ScjvcrmJxsjL",
        "outputId": "e4666011-0666-420c-c3a0-dcfc44d63e72"
      },
      "execution_count": 48,
      "outputs": [
        {
          "output_type": "execute_result",
          "data": {
            "text/plain": [
              "other                                                    328971\n",
              "Los Angeles, Long Beach, Glendale - CA                   305494\n",
              "Riverside, San Bernardino, Ontario - CA                  222800\n",
              "San Diego, Carlsbad - CA                                 138451\n",
              "Sacramento, Roseville, Arden-Arcade - CA                 122260\n",
              "Oakland, Hayward, Berkeley - CA                          121191\n",
              "Anaheim, Santa Ana, Irvine - CA                          116302\n",
              "San Jose, Sunnyvale, Santa Clara - CA                     67129\n",
              "San Francisco, Redwood City, South San Francisco - CA     44549\n",
              "Name: msamd_name, dtype: int64"
            ]
          },
          "metadata": {},
          "execution_count": 48
        }
      ]
    },
    {
      "cell_type": "code",
      "source": [
        "ml_df_1.county_name.value_counts()"
      ],
      "metadata": {
        "colab": {
          "base_uri": "https://localhost:8080/"
        },
        "id": "5B5wNWatxvlr",
        "outputId": "b7b091ac-4511-4210-f7b1-68ffdfd2d584"
      },
      "execution_count": 49,
      "outputs": [
        {
          "output_type": "execute_result",
          "data": {
            "text/plain": [
              "other                    422797\n",
              "Los Angeles County       305494\n",
              "San Diego County         138451\n",
              "Riverside County         125358\n",
              "Orange County            116302\n",
              "San Bernardino County     97442\n",
              "Sacramento County         76235\n",
              "Santa Clara County        63877\n",
              "Alameda County            63119\n",
              "Contra Costa County       58072\n",
              "Name: county_name, dtype: int64"
            ]
          },
          "metadata": {},
          "execution_count": 49
        }
      ]
    },
    {
      "cell_type": "code",
      "source": [
        "ml_df_1_encoded = encode_data(ml_df_1, ml_cat)\n",
        "ml_df_1_encoded.columns"
      ],
      "metadata": {
        "colab": {
          "base_uri": "https://localhost:8080/"
        },
        "id": "9U8z1vhEyBhh",
        "outputId": "8de54f16-fbcb-48d3-afb2-fe2480cbd768"
      },
      "execution_count": 50,
      "outputs": [
        {
          "output_type": "stream",
          "name": "stdout",
          "text": [
            "encode_data: Done!\n"
          ]
        },
        {
          "output_type": "execute_result",
          "data": {
            "text/plain": [
              "Index(['loan_amount_000s', 'applicant_income_000s', 'population',\n",
              "       'minority_population', 'census_tract_number',\n",
              "       'hud_median_family_income', 'tract_to_msamd_income',\n",
              "       'number_of_owner_occupied_units', 'number_of_1_to_4_family_units',\n",
              "       'action_taken', 'agency_abbr_CFPB', 'agency_abbr_FDIC',\n",
              "       'agency_abbr_FRS', 'agency_abbr_HUD', 'agency_abbr_NCUA',\n",
              "       'agency_abbr_OCC', 'loan_type_name_Conventional',\n",
              "       'loan_type_name_FHA-insured', 'loan_type_name_FSA/RHS-guaranteed',\n",
              "       'loan_type_name_VA-guaranteed',\n",
              "       'property_type_name_One-to-four family dwelling (other than manufactured housing)',\n",
              "       'loan_purpose_name_Home improvement', 'loan_purpose_name_Home purchase',\n",
              "       'loan_purpose_name_Refinancing', 'owner_occupancy_name_Not applicable',\n",
              "       'owner_occupancy_name_Not owner-occupied as a principal dwelling',\n",
              "       'owner_occupancy_name_Owner-occupied as a principal dwelling',\n",
              "       'msamd_name_Anaheim, Santa Ana, Irvine - CA',\n",
              "       'msamd_name_Los Angeles, Long Beach, Glendale - CA',\n",
              "       'msamd_name_Oakland, Hayward, Berkeley - CA',\n",
              "       'msamd_name_Riverside, San Bernardino, Ontario - CA',\n",
              "       'msamd_name_Sacramento, Roseville, Arden-Arcade - CA',\n",
              "       'msamd_name_San Diego, Carlsbad - CA',\n",
              "       'msamd_name_San Francisco, Redwood City, South San Francisco - CA',\n",
              "       'msamd_name_San Jose, Sunnyvale, Santa Clara - CA', 'msamd_name_other',\n",
              "       'county_name_Alameda County', 'county_name_Contra Costa County',\n",
              "       'county_name_Los Angeles County', 'county_name_Orange County',\n",
              "       'county_name_Riverside County', 'county_name_Sacramento County',\n",
              "       'county_name_San Bernardino County', 'county_name_San Diego County',\n",
              "       'county_name_Santa Clara County', 'county_name_other'],\n",
              "      dtype='object')"
            ]
          },
          "metadata": {},
          "execution_count": 50
        }
      ]
    },
    {
      "cell_type": "code",
      "source": [
        "def split_train_build_brfc(data, target, model_name, file_title, graph_title, fig_size):\n",
        "  \n",
        "  X_, y_ = split_target(data, target)\n",
        "\n",
        "  X_train_, X_test_, y_train_, y_test_ = train_test_split(X_, y_, random_state=1, stratify=y_)\n",
        "\n",
        "  X_train_scaled_, X_test_scaled_ = scale_data(X_train_, X_test_)\n",
        "\n",
        "  brfc_, brfc_pred, brfc_accuracy = brfc_model(X_train_scaled_, X_test_scaled_, y_train_, y_test_)\n",
        "\n",
        "  model_metrics(model_name=model_name, test=y_test_, pred=brfc_pred, file_title=file_title)\n",
        "\n",
        "  brfc_importances = get_feature_importances(brfc_, X_, file_title=file_title, graph_title=graph_title, fig_size=fig_size)\n",
        "\n",
        "  return brfc_, brfc_pred, brfc_importances"
      ],
      "metadata": {
        "id": "9Sj6A_r9vQ33"
      },
      "execution_count": 51,
      "outputs": []
    },
    {
      "cell_type": "code",
      "source": [
        "brfc_1, brfc_1_pred, brfc_1_importances = split_train_build_brfc(data=ml_df_1_encoded, target='action_taken', model_name='Balanced Random Forest Model Reduced - Test 1', file_title='brfc_1', graph_title='BRFC Test 1', fig_size=(10,20))"
      ],
      "metadata": {
        "colab": {
          "base_uri": "https://localhost:8080/",
          "height": 1000
        },
        "id": "A0bMSuYbvQ0q",
        "outputId": "729b844b-a70e-4fe8-9007-d23c1a29fc4c"
      },
      "execution_count": 52,
      "outputs": [
        {
          "output_type": "stream",
          "name": "stdout",
          "text": [
            "split_target: Done!\n",
            "scale_data: Done!\n",
            "Balanced Accuracy Score: Balanced Random Forest Classifier\n",
            "Accuracy Score: 0.5343081214841927\n",
            "Balanced Random Forest Model Reduced - Test 1\n",
            "Accuracy Score: 0.5343\n",
            "          Predicted 0  Predicted 1\n",
            "Actual 0        88652        75386\n",
            "Actual 1        94965       106309\n",
            "                   pre       rec       spe        f1       geo       iba       sup\n",
            "\n",
            "          0       0.48      0.54      0.53      0.51      0.53      0.29    164038\n",
            "          1       0.59      0.53      0.54      0.56      0.53      0.29    201274\n",
            "\n",
            "avg / total       0.54      0.53      0.53      0.53      0.53      0.29    365312\n",
            "\n"
          ]
        },
        {
          "output_type": "display_data",
          "data": {
            "text/plain": [
              "<Figure size 720x1440 with 1 Axes>"
            ],
            "image/png": "[encoded data removed]"
          },
          "metadata": {
            "needs_background": "light"
          }
        },
        {
          "output_type": "stream",
          "name": "stdout",
          "text": [
            "    importance                                          parameter\n",
            "0     0.166746                              applicant_income_000s\n",
            "1     0.165108                                   loan_amount_000s\n",
            "2     0.072961                              tract_to_msamd_income\n",
            "3     0.072952                                minority_population\n",
            "4     0.072075                                census_tract_number\n",
            "5     0.070957                                         population\n",
            "6     0.070634                     number_of_owner_occupied_units\n",
            "7     0.070450                      number_of_1_to_4_family_units\n",
            "8     0.030582                           hud_median_family_income\n",
            "9     0.012993                                    agency_abbr_HUD\n",
            "10    0.012503                                   agency_abbr_CFPB\n",
            "11    0.012259                      loan_purpose_name_Refinancing\n",
            "12    0.011530                    loan_purpose_name_Home purchase\n",
            "13    0.010427                        loan_type_name_Conventional\n",
            "14    0.008545                         loan_type_name_FHA-insured\n",
            "15    0.008177                                  county_name_other\n",
            "16    0.008166  owner_occupancy_name_Owner-occupied as a princ...\n",
            "17    0.008106  owner_occupancy_name_Not owner-occupied as a p...\n",
            "18    0.007498                                   msamd_name_other\n",
            "19    0.006430                     county_name_Los Angeles County\n"
          ]
        }
      ]
    },
    {
      "cell_type": "code",
      "source": [
        "ml_df_2 = ml_df.copy()"
      ],
      "metadata": {
        "id": "ns1r3mfx96rV"
      },
      "execution_count": 53,
      "outputs": []
    },
    {
      "cell_type": "code",
      "source": [
        "def encode_labels(data, cat):\n",
        "  data = data.copy()\n",
        "\n",
        "  enc_data = data[cat]\n",
        "\n",
        "  le = LabelEncoder()\n",
        "\n",
        "  for col in enc_data.columns:\n",
        "    data[col] = le.fit_transform(data[col])\n",
        "\n",
        "  return data\n"
      ],
      "metadata": {
        "id": "8uqMyLFRAUpB"
      },
      "execution_count": 54,
      "outputs": []
    },
    {
      "cell_type": "code",
      "source": [
        "ml_df_2_encoded = encode_labels(ml_df_2, ml_cat)\n",
        "ml_df_2_encoded.columns\n"
      ],
      "metadata": {
        "colab": {
          "base_uri": "https://localhost:8080/"
        },
        "id": "EBt9s7aKB6u8",
        "outputId": "59784fa6-7f27-4570-e7b0-9ac2e9f1b583"
      },
      "execution_count": 55,
      "outputs": [
        {
          "output_type": "execute_result",
          "data": {
            "text/plain": [
              "Index(['loan_amount_000s', 'applicant_income_000s', 'population',\n",
              "       'minority_population', 'census_tract_number',\n",
              "       'hud_median_family_income', 'tract_to_msamd_income',\n",
              "       'number_of_owner_occupied_units', 'number_of_1_to_4_family_units',\n",
              "       'agency_abbr', 'loan_type_name', 'property_type_name',\n",
              "       'loan_purpose_name', 'owner_occupancy_name', 'msamd_name',\n",
              "       'county_name', 'action_taken'],\n",
              "      dtype='object')"
            ]
          },
          "metadata": {},
          "execution_count": 55
        }
      ]
    },
    {
      "cell_type": "code",
      "source": [
        "brfc_2, brfc_2_pred, brfc_2_importances = split_train_build_brfc(data=ml_df_2_encoded, target='action_taken', model_name='Balanced Random Forest Model Reduced - Test 2', file_title='brfc_2', graph_title='BRFC Test 2', fig_size=(10,6))"
      ],
      "metadata": {
        "colab": {
          "base_uri": "https://localhost:8080/",
          "height": 1000
        },
        "id": "WqMMxjChDs4b",
        "outputId": "c23c8844-beec-43d4-ff00-eeb9212ca602"
      },
      "execution_count": 56,
      "outputs": [
        {
          "output_type": "stream",
          "name": "stdout",
          "text": [
            "split_target: Done!\n",
            "scale_data: Done!\n",
            "Balanced Accuracy Score: Balanced Random Forest Classifier\n",
            "Accuracy Score: 0.5791457430073801\n",
            "Balanced Random Forest Model Reduced - Test 2\n",
            "Accuracy Score: 0.5791\n",
            "          Predicted 0  Predicted 1\n",
            "Actual 0        98017        66613\n",
            "Actual 1        88360       113797\n",
            "                   pre       rec       spe        f1       geo       iba       sup\n",
            "\n",
            "          0       0.53      0.60      0.56      0.56      0.58      0.34    164630\n",
            "          1       0.63      0.56      0.60      0.59      0.58      0.33    202157\n",
            "\n",
            "avg / total       0.58      0.58      0.58      0.58      0.58      0.34    366787\n",
            "\n"
          ]
        },
        {
          "output_type": "display_data",
          "data": {
            "text/plain": [
              "<Figure size 720x432 with 1 Axes>"
            ],
            "image/png": "[encoded data removed]"
          },
          "metadata": {
            "needs_background": "light"
          }
        },
        {
          "output_type": "stream",
          "name": "stdout",
          "text": [
            "    importance                       parameter\n",
            "0     0.240978                loan_amount_000s\n",
            "1     0.235302           applicant_income_000s\n",
            "2     0.068095           tract_to_msamd_income\n",
            "3     0.067352             minority_population\n",
            "4     0.066152             census_tract_number\n",
            "5     0.064479                      population\n",
            "6     0.064062  number_of_owner_occupied_units\n",
            "7     0.063662   number_of_1_to_4_family_units\n",
            "8     0.032270                     agency_abbr\n",
            "9     0.025086               loan_purpose_name\n",
            "10    0.018390        hud_median_family_income\n",
            "11    0.015233                  loan_type_name\n",
            "12    0.012180            owner_occupancy_name\n",
            "13    0.010881                     county_name\n",
            "14    0.010036                      msamd_name\n",
            "15    0.005842              property_type_name\n"
          ]
        }
      ]
    }
  ]
}