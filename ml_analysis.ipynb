{
  "nbformat": 4,
  "nbformat_minor": 0,
  "metadata": {
    "colab": {
      "provenance": [],
      "machine_shape": "hm"
    },
    "kernelspec": {
      "name": "python3",
      "display_name": "Python 3"
    },
    "language_info": {
      "name": "python"
    },
    "accelerator": "GPU",
    "gpuClass": "premium"
  },
  "cells": [
    {
      "cell_type": "code",
      "execution_count": 1,
      "metadata": {
        "id": "LjeElzzmHj5K"
      },
      "outputs": [],
      "source": [
        "import os\n",
        "import pandas as pd\n",
        "import psycopg2\n",
        "from psycopg2 import sql\n",
        "from sklearn.preprocessing import StandardScaler, OneHotEncoder\n",
        "from sklearn.model_selection import train_test_split\n",
        "from imblearn.ensemble import BalancedRandomForestClassifier\n",
        "from sklearn.metrics import balanced_accuracy_score\n",
        "from sklearn.metrics import confusion_matrix\n",
        "from imblearn.metrics import classification_report_imbalanced\n",
        "from sklearn.preprocessing import LabelEncoder"
      ]
    },
    {
      "cell_type": "code",
      "source": [
        "text_columns = ['agency_name', 'agency_abbr', 'loan_type_name', 'property_type_name', 'loan_purpose_name', 'owner_occupancy_name', 'preapproval_name', 'action_taken_name', 'msamd_name', 'state_name', 'state_abbr', 'county_name', 'applicant_ethnicity_name', 'co_applicant_ethnicity_name', 'applicant_race_name_1', 'co_applicant_race_name_1', 'applicant_sex_name', 'co_applicant_sex_name', 'purchaser_type_name', 'hoepa_status_name', 'lien_status_name', 'application_id']\n",
        "numeric_columns = ['agency_code', 'loan_type', 'property_type', 'loan_purpose', 'owner_occupancy', 'loan_amount_000s', 'preapproval', 'action_taken', 'msamd', 'state_code', 'county_code', 'census_tract_number', 'applicant_ethnicity', 'co_applicant_ethnicity', 'applicant_race_1', 'co_applicant_race_1', 'applicant_sex', 'co_applicant_sex', 'applicant_income_000s', 'purchaser_type', 'hoepa_status', 'lien_status', 'population', 'minority_population', 'hud_median_family_income', 'tract_to_msamd_income', 'number_of_owner_occupied_units', 'number_of_1_to_4_family_units', 'application_id']"
      ],
      "metadata": {
        "id": "OrRead7Qk504"
      },
      "execution_count": 2,
      "outputs": []
    },
    {
      "cell_type": "markdown",
      "source": [
        "### Set Up connection to AWS RDS"
      ],
      "metadata": {
        "id": "WPOTF9pInxiV"
      }
    },
    {
      "cell_type": "code",
      "source": [
        "PGEND_POINT = 'hmda-final-db.cfo8yzx2osax.us-east-1.rds.amazonaws.com' # End_point\n",
        "PGDATABASE_NAME = 'hmda_db' # Database Name example: youtube_test_db\n",
        "PGUSER_NAME = 'postgres' # UserName\n",
        "PGPASSWORD = 'Password' # Password"
      ],
      "metadata": {
        "id": "g4S65DJCHu_O"
      },
      "execution_count": 3,
      "outputs": []
    },
    {
      "cell_type": "code",
      "source": [
        "def connect():\n",
        "    \n",
        "    # Set up a connection to the postgres server.\n",
        "    conn_string = \"host=\"+ PGEND_POINT +\" port=\"+ \"5432\" +\" dbname=\"+ PGDATABASE_NAME +\" user=\" + PGUSER_NAME \\\n",
        "                  +\" password=\"+ PGPASSWORD\n",
        "    \n",
        "    conn = psycopg2.connect(conn_string)\n",
        "    print(\"Connected!\")\n",
        "\n",
        "    # Create a cursor object\n",
        "    cursor = conn.cursor()\n",
        "    \n",
        "    return conn, cursor"
      ],
      "metadata": {
        "id": "sjsdfMNnIX7O"
      },
      "execution_count": 4,
      "outputs": []
    },
    {
      "cell_type": "code",
      "source": [
        "conn, cursor = connect()"
      ],
      "metadata": {
        "colab": {
          "base_uri": "https://localhost:8080/"
        },
        "id": "Ne5PWMKwIb7C",
        "outputId": "b8513ed1-55ef-46bf-e4ce-7fe92abbfa6a"
      },
      "execution_count": 5,
      "outputs": [
        {
          "output_type": "stream",
          "name": "stdout",
          "text": [
            "Connected!\n"
          ]
        }
      ]
    },
    {
      "cell_type": "markdown",
      "source": [
        "### Query Machine Learning Dataset\n",
        "Machine Learning Dataset will include categorical applicant/loan information, census data, and categoric"
      ],
      "metadata": {
        "id": "t6S1qNCvn6ir"
      }
    },
    {
      "cell_type": "code",
      "source": [
        "query = sql.SQL('''\n",
        "SELECT \n",
        "    nd.loan_amount_000s,\n",
        "    nd.applicant_income_000s,\n",
        "    nd.population,\n",
        "    nd.minority_population,\n",
        "    nd.census_tract_number,\n",
        "    nd.hud_median_family_income,\n",
        "    nd.tract_to_msamd_income,\n",
        "    nd.number_of_owner_occupied_units,\n",
        "    nd.number_of_1_to_4_family_units,\n",
        "    td.agency_abbr, \n",
        "    td.loan_type_name, \n",
        "    td.property_type_name, \n",
        "    td.loan_purpose_name,\n",
        "    td.owner_occupancy_name, \n",
        "    td.msamd_name,\n",
        "    td.county_name,\n",
        "    td.purchaser_type_name,\n",
        "    td.hoepa_status_name,\n",
        "    td.lien_status_name,\n",
        "    td.preapproval_name,\n",
        "    nd.preapproval,\n",
        "    td.action_taken_name,\n",
        "    nd.action_taken\n",
        "FROM\n",
        "    numeric_data nd \n",
        "INNER JOIN text_data td \n",
        "    ON nd.application_id = td.application_id \n",
        "ORDER BY nd.loan_amount_000s\n",
        "''')"
      ],
      "metadata": {
        "id": "s2i37oygIgOW"
      },
      "execution_count": 6,
      "outputs": []
    },
    {
      "cell_type": "code",
      "source": [
        "cur = conn.cursor()\n",
        "cur.execute(query)"
      ],
      "metadata": {
        "id": "FVfrvHIjJK0z"
      },
      "execution_count": 7,
      "outputs": []
    },
    {
      "cell_type": "code",
      "source": [
        "query_results = cur.fetchall()\n"
      ],
      "metadata": {
        "id": "OWOmTUfDlOuf"
      },
      "execution_count": 8,
      "outputs": []
    },
    {
      "cell_type": "code",
      "source": [
        "ml_columns = ['loan_amount_000s', 'applicant_income_000s', 'population', 'minority_population', 'census_tract_number', 'hud_median_family_income', 'tract_to_msamd_income', 'number_of_owner_occupied_units', 'number_of_1_to_4_family_units', 'agency_abbr', 'loan_type_name', 'property_type_name', 'loan_purpose_name', 'owner_occupancy_name', 'msamd_name', 'county_name', 'purchaser_type_name', 'hoepa_status_name', 'lien_status_name', 'preapproval_name', 'preapproval', 'action_taken_name', 'action_taken']"
      ],
      "metadata": {
        "id": "b96-nrCUoxwi"
      },
      "execution_count": 9,
      "outputs": []
    },
    {
      "cell_type": "code",
      "source": [
        "ml_df = pd.DataFrame(query_results, columns=ml_columns)\n",
        "ml_df.head()"
      ],
      "metadata": {
        "id": "daK_R9RwqZRa",
        "colab": {
          "base_uri": "https://localhost:8080/",
          "height": 577
        },
        "outputId": "7055c85a-be64-4060-da79-6b83ea2a5380"
      },
      "execution_count": 10,
      "outputs": [
        {
          "output_type": "execute_result",
          "data": {
            "text/plain": [
              "   loan_amount_000s  applicant_income_000s  population minority_population  \\\n",
              "0                 1                     41        5149    50.0499992370605   \n",
              "1                 1                     50        5495    26.9899997711182   \n",
              "2                 1                     49        7274               55.75   \n",
              "3                 1                    124        6003    56.3199996948242   \n",
              "4                 1                     66        6129    79.1600036621094   \n",
              "\n",
              "  census_tract_number  hud_median_family_income tract_to_msamd_income  \\\n",
              "0             4016.01                     64300      124.059997558594   \n",
              "1                1042                    131500      76.5500030517578   \n",
              "2              101.02                     75200      58.2200012207031   \n",
              "3             3005.02                     64300      145.520004272461   \n",
              "4               93.21                     75200      98.6999969482422   \n",
              "\n",
              "   number_of_owner_occupied_units  number_of_1_to_4_family_units agency_abbr  \\\n",
              "0                            1513                           1881         HUD   \n",
              "1                            1539                           2129        CFPB   \n",
              "2                             906                           1909         HUD   \n",
              "3                             705                           1532        CFPB   \n",
              "4                            1344                           1710         HUD   \n",
              "\n",
              "   ...                    owner_occupancy_name  \\\n",
              "0  ...  Owner-occupied as a principal dwelling   \n",
              "1  ...  Owner-occupied as a principal dwelling   \n",
              "2  ...  Owner-occupied as a principal dwelling   \n",
              "3  ...  Owner-occupied as a principal dwelling   \n",
              "4  ...  Owner-occupied as a principal dwelling   \n",
              "\n",
              "                                 msamd_name         county_name  \\\n",
              "0    Los Angeles, Long Beach, Glendale - CA  Los Angeles County   \n",
              "1                           San Rafael - CA        Marin County   \n",
              "2  Sacramento, Roseville, Arden-Arcade - CA         Yolo County   \n",
              "3    Los Angeles, Long Beach, Glendale - CA  Los Angeles County   \n",
              "4  Sacramento, Roseville, Arden-Arcade - CA   Sacramento County   \n",
              "\n",
              "                                 purchaser_type_name hoepa_status_name  \\\n",
              "0  Loan was not originated or was not sold in cal...  Not a HOEPA loan   \n",
              "1  Loan was not originated or was not sold in cal...  Not a HOEPA loan   \n",
              "2  Loan was not originated or was not sold in cal...  Not a HOEPA loan   \n",
              "3  Loan was not originated or was not sold in cal...  Not a HOEPA loan   \n",
              "4  Loan was not originated or was not sold in cal...  Not a HOEPA loan   \n",
              "\n",
              "          lien_status_name preapproval_name preapproval  \\\n",
              "0  Secured by a first lien   Not applicable           3   \n",
              "1    Not secured by a lien   Not applicable           3   \n",
              "2  Secured by a first lien   Not applicable           3   \n",
              "3           Not applicable   Not applicable           3   \n",
              "4  Secured by a first lien   Not applicable           3   \n",
              "\n",
              "                             action_taken_name action_taken  \n",
              "0  Application denied by financial institution            3  \n",
              "1  Application denied by financial institution            3  \n",
              "2  Application denied by financial institution            3  \n",
              "3            Loan purchased by the institution            6  \n",
              "4  Application denied by financial institution            3  \n",
              "\n",
              "[5 rows x 23 columns]"
            ],
            "text/html": [
              "\n",
              "  <div id=\"df-cbf73cf7-6041-4e8f-9200-4eb4575fac25\">\n",
              "    <div class=\"colab-df-container\">\n",
              "      <div>\n",
              "<style scoped>\n",
              "    .dataframe tbody tr th:only-of-type {\n",
              "        vertical-align: middle;\n",
              "    }\n",
              "\n",
              "    .dataframe tbody tr th {\n",
              "        vertical-align: top;\n",
              "    }\n",
              "\n",
              "    .dataframe thead th {\n",
              "        text-align: right;\n",
              "    }\n",
              "</style>\n",
              "<table border=\"1\" class=\"dataframe\">\n",
              "  <thead>\n",
              "    <tr style=\"text-align: right;\">\n",
              "      <th></th>\n",
              "      <th>loan_amount_000s</th>\n",
              "      <th>applicant_income_000s</th>\n",
              "      <th>population</th>\n",
              "      <th>minority_population</th>\n",
              "      <th>census_tract_number</th>\n",
              "      <th>hud_median_family_income</th>\n",
              "      <th>tract_to_msamd_income</th>\n",
              "      <th>number_of_owner_occupied_units</th>\n",
              "      <th>number_of_1_to_4_family_units</th>\n",
              "      <th>agency_abbr</th>\n",
              "      <th>...</th>\n",
              "      <th>owner_occupancy_name</th>\n",
              "      <th>msamd_name</th>\n",
              "      <th>county_name</th>\n",
              "      <th>purchaser_type_name</th>\n",
              "      <th>hoepa_status_name</th>\n",
              "      <th>lien_status_name</th>\n",
              "      <th>preapproval_name</th>\n",
              "      <th>preapproval</th>\n",
              "      <th>action_taken_name</th>\n",
              "      <th>action_taken</th>\n",
              "    </tr>\n",
              "  </thead>\n",
              "  <tbody>\n",
              "    <tr>\n",
              "      <th>0</th>\n",
              "      <td>1</td>\n",
              "      <td>41</td>\n",
              "      <td>5149</td>\n",
              "      <td>50.0499992370605</td>\n",
              "      <td>4016.01</td>\n",
              "      <td>64300</td>\n",
              "      <td>124.059997558594</td>\n",
              "      <td>1513</td>\n",
              "      <td>1881</td>\n",
              "      <td>HUD</td>\n",
              "      <td>...</td>\n",
              "      <td>Owner-occupied as a principal dwelling</td>\n",
              "      <td>Los Angeles, Long Beach, Glendale - CA</td>\n",
              "      <td>Los Angeles County</td>\n",
              "      <td>Loan was not originated or was not sold in cal...</td>\n",
              "      <td>Not a HOEPA loan</td>\n",
              "      <td>Secured by a first lien</td>\n",
              "      <td>Not applicable</td>\n",
              "      <td>3</td>\n",
              "      <td>Application denied by financial institution</td>\n",
              "      <td>3</td>\n",
              "    </tr>\n",
              "    <tr>\n",
              "      <th>1</th>\n",
              "      <td>1</td>\n",
              "      <td>50</td>\n",
              "      <td>5495</td>\n",
              "      <td>26.9899997711182</td>\n",
              "      <td>1042</td>\n",
              "      <td>131500</td>\n",
              "      <td>76.5500030517578</td>\n",
              "      <td>1539</td>\n",
              "      <td>2129</td>\n",
              "      <td>CFPB</td>\n",
              "      <td>...</td>\n",
              "      <td>Owner-occupied as a principal dwelling</td>\n",
              "      <td>San Rafael - CA</td>\n",
              "      <td>Marin County</td>\n",
              "      <td>Loan was not originated or was not sold in cal...</td>\n",
              "      <td>Not a HOEPA loan</td>\n",
              "      <td>Not secured by a lien</td>\n",
              "      <td>Not applicable</td>\n",
              "      <td>3</td>\n",
              "      <td>Application denied by financial institution</td>\n",
              "      <td>3</td>\n",
              "    </tr>\n",
              "    <tr>\n",
              "      <th>2</th>\n",
              "      <td>1</td>\n",
              "      <td>49</td>\n",
              "      <td>7274</td>\n",
              "      <td>55.75</td>\n",
              "      <td>101.02</td>\n",
              "      <td>75200</td>\n",
              "      <td>58.2200012207031</td>\n",
              "      <td>906</td>\n",
              "      <td>1909</td>\n",
              "      <td>HUD</td>\n",
              "      <td>...</td>\n",
              "      <td>Owner-occupied as a principal dwelling</td>\n",
              "      <td>Sacramento, Roseville, Arden-Arcade - CA</td>\n",
              "      <td>Yolo County</td>\n",
              "      <td>Loan was not originated or was not sold in cal...</td>\n",
              "      <td>Not a HOEPA loan</td>\n",
              "      <td>Secured by a first lien</td>\n",
              "      <td>Not applicable</td>\n",
              "      <td>3</td>\n",
              "      <td>Application denied by financial institution</td>\n",
              "      <td>3</td>\n",
              "    </tr>\n",
              "    <tr>\n",
              "      <th>3</th>\n",
              "      <td>1</td>\n",
              "      <td>124</td>\n",
              "      <td>6003</td>\n",
              "      <td>56.3199996948242</td>\n",
              "      <td>3005.02</td>\n",
              "      <td>64300</td>\n",
              "      <td>145.520004272461</td>\n",
              "      <td>705</td>\n",
              "      <td>1532</td>\n",
              "      <td>CFPB</td>\n",
              "      <td>...</td>\n",
              "      <td>Owner-occupied as a principal dwelling</td>\n",
              "      <td>Los Angeles, Long Beach, Glendale - CA</td>\n",
              "      <td>Los Angeles County</td>\n",
              "      <td>Loan was not originated or was not sold in cal...</td>\n",
              "      <td>Not a HOEPA loan</td>\n",
              "      <td>Not applicable</td>\n",
              "      <td>Not applicable</td>\n",
              "      <td>3</td>\n",
              "      <td>Loan purchased by the institution</td>\n",
              "      <td>6</td>\n",
              "    </tr>\n",
              "    <tr>\n",
              "      <th>4</th>\n",
              "      <td>1</td>\n",
              "      <td>66</td>\n",
              "      <td>6129</td>\n",
              "      <td>79.1600036621094</td>\n",
              "      <td>93.21</td>\n",
              "      <td>75200</td>\n",
              "      <td>98.6999969482422</td>\n",
              "      <td>1344</td>\n",
              "      <td>1710</td>\n",
              "      <td>HUD</td>\n",
              "      <td>...</td>\n",
              "      <td>Owner-occupied as a principal dwelling</td>\n",
              "      <td>Sacramento, Roseville, Arden-Arcade - CA</td>\n",
              "      <td>Sacramento County</td>\n",
              "      <td>Loan was not originated or was not sold in cal...</td>\n",
              "      <td>Not a HOEPA loan</td>\n",
              "      <td>Secured by a first lien</td>\n",
              "      <td>Not applicable</td>\n",
              "      <td>3</td>\n",
              "      <td>Application denied by financial institution</td>\n",
              "      <td>3</td>\n",
              "    </tr>\n",
              "  </tbody>\n",
              "</table>\n",
              "<p>5 rows × 23 columns</p>\n",
              "</div>\n",
              "      <button class=\"colab-df-convert\" onclick=\"convertToInteractive('df-cbf73cf7-6041-4e8f-9200-4eb4575fac25')\"\n",
              "              title=\"Convert this dataframe to an interactive table.\"\n",
              "              style=\"display:none;\">\n",
              "        \n",
              "  <svg xmlns=\"http://www.w3.org/2000/svg\" height=\"24px\"viewBox=\"0 0 24 24\"\n",
              "       width=\"24px\">\n",
              "    <path d=\"M0 0h24v24H0V0z\" fill=\"none\"/>\n",
              "    <path d=\"M18.56 5.44l.94 2.06.94-2.06 2.06-.94-2.06-.94-.94-2.06-.94 2.06-2.06.94zm-11 1L8.5 8.5l.94-2.06 2.06-.94-2.06-.94L8.5 2.5l-.94 2.06-2.06.94zm10 10l.94 2.06.94-2.06 2.06-.94-2.06-.94-.94-2.06-.94 2.06-2.06.94z\"/><path d=\"M17.41 7.96l-1.37-1.37c-.4-.4-.92-.59-1.43-.59-.52 0-1.04.2-1.43.59L10.3 9.45l-7.72 7.72c-.78.78-.78 2.05 0 2.83L4 21.41c.39.39.9.59 1.41.59.51 0 1.02-.2 1.41-.59l7.78-7.78 2.81-2.81c.8-.78.8-2.07 0-2.86zM5.41 20L4 18.59l7.72-7.72 1.47 1.35L5.41 20z\"/>\n",
              "  </svg>\n",
              "      </button>\n",
              "      \n",
              "  <style>\n",
              "    .colab-df-container {\n",
              "      display:flex;\n",
              "      flex-wrap:wrap;\n",
              "      gap: 12px;\n",
              "    }\n",
              "\n",
              "    .colab-df-convert {\n",
              "      background-color: #E8F0FE;\n",
              "      border: none;\n",
              "      border-radius: 50%;\n",
              "      cursor: pointer;\n",
              "      display: none;\n",
              "      fill: #1967D2;\n",
              "      height: 32px;\n",
              "      padding: 0 0 0 0;\n",
              "      width: 32px;\n",
              "    }\n",
              "\n",
              "    .colab-df-convert:hover {\n",
              "      background-color: #E2EBFA;\n",
              "      box-shadow: 0px 1px 2px rgba(60, 64, 67, 0.3), 0px 1px 3px 1px rgba(60, 64, 67, 0.15);\n",
              "      fill: #174EA6;\n",
              "    }\n",
              "\n",
              "    [theme=dark] .colab-df-convert {\n",
              "      background-color: #3B4455;\n",
              "      fill: #D2E3FC;\n",
              "    }\n",
              "\n",
              "    [theme=dark] .colab-df-convert:hover {\n",
              "      background-color: #434B5C;\n",
              "      box-shadow: 0px 1px 3px 1px rgba(0, 0, 0, 0.15);\n",
              "      filter: drop-shadow(0px 1px 2px rgba(0, 0, 0, 0.3));\n",
              "      fill: #FFFFFF;\n",
              "    }\n",
              "  </style>\n",
              "\n",
              "      <script>\n",
              "        const buttonEl =\n",
              "          document.querySelector('#df-cbf73cf7-6041-4e8f-9200-4eb4575fac25 button.colab-df-convert');\n",
              "        buttonEl.style.display =\n",
              "          google.colab.kernel.accessAllowed ? 'block' : 'none';\n",
              "\n",
              "        async function convertToInteractive(key) {\n",
              "          const element = document.querySelector('#df-cbf73cf7-6041-4e8f-9200-4eb4575fac25');\n",
              "          const dataTable =\n",
              "            await google.colab.kernel.invokeFunction('convertToInteractive',\n",
              "                                                     [key], {});\n",
              "          if (!dataTable) return;\n",
              "\n",
              "          const docLinkHtml = 'Like what you see? Visit the ' +\n",
              "            '<a target=\"_blank\" href=https://colab.research.google.com/notebooks/data_table.ipynb>data table notebook</a>'\n",
              "            + ' to learn more about interactive tables.';\n",
              "          element.innerHTML = '';\n",
              "          dataTable['output_type'] = 'display_data';\n",
              "          await google.colab.output.renderOutput(dataTable, element);\n",
              "          const docLink = document.createElement('div');\n",
              "          docLink.innerHTML = docLinkHtml;\n",
              "          element.appendChild(docLink);\n",
              "        }\n",
              "      </script>\n",
              "    </div>\n",
              "  </div>\n",
              "  "
            ]
          },
          "metadata": {},
          "execution_count": 10
        }
      ]
    },
    {
      "cell_type": "code",
      "source": [
        "ml_df.isna().sum()\n",
        "ml_df = ml_df.drop_duplicates()\n",
        "ml_df.duplicated().sum()"
      ],
      "metadata": {
        "id": "I9p_wSkOqZOv",
        "colab": {
          "base_uri": "https://localhost:8080/"
        },
        "outputId": "6a2dc2a6-2146-40f8-dbeb-39e6927dc363"
      },
      "execution_count": 11,
      "outputs": [
        {
          "output_type": "execute_result",
          "data": {
            "text/plain": [
              "0"
            ]
          },
          "metadata": {},
          "execution_count": 11
        }
      ]
    },
    {
      "cell_type": "code",
      "source": [
        "ml_df['minority_population'] = ml_df['minority_population'].astype('float64')\n",
        "ml_df['census_tract_number'] = ml_df['census_tract_number'].astype('float64')\n",
        "ml_df['tract_to_msamd_income'] = ml_df['tract_to_msamd_income'].astype('float64')"
      ],
      "metadata": {
        "id": "raOzrfuTqZMl"
      },
      "execution_count": 12,
      "outputs": []
    },
    {
      "cell_type": "code",
      "source": [
        "target_df = ml_df[['action_taken_name','action_taken']]\n",
        "preapproval_df = ml_df[['preapproval_name', 'preapproval']]"
      ],
      "metadata": {
        "id": "sYpKtr7mzmCV"
      },
      "execution_count": 13,
      "outputs": []
    },
    {
      "cell_type": "markdown",
      "source": [
        "## Target and Metric Assessment"
      ],
      "metadata": {
        "id": "2SqnGPkR2E9G"
      }
    },
    {
      "cell_type": "code",
      "source": [
        "target_df_count = target_df.groupby(['action_taken','action_taken_name'])['action_taken'].count()\n",
        "target_df_count"
      ],
      "metadata": {
        "colab": {
          "base_uri": "https://localhost:8080/"
        },
        "id": "FPc0kv772EyL",
        "outputId": "b3305e7f-7f51-430e-ddc8-d70b7c0c4edf"
      },
      "execution_count": 14,
      "outputs": [
        {
          "output_type": "execute_result",
          "data": {
            "text/plain": [
              "action_taken  action_taken_name                                  \n",
              "1             Loan originated                                        809668\n",
              "2             Application approved but not accepted                   46278\n",
              "3             Application denied by financial institution            207513\n",
              "4             Application withdrawn by applicant                     217340\n",
              "5             File closed for incompleteness                          70335\n",
              "6             Loan purchased by the institution                      120740\n",
              "7             Preapproval request denied by financial institution        24\n",
              "8             Preapproval request approved but not accepted              13\n",
              "Name: action_taken, dtype: int64"
            ]
          },
          "metadata": {},
          "execution_count": 14
        }
      ]
    },
    {
      "cell_type": "code",
      "source": [
        "preapproval_df_count = preapproval_df.groupby(['preapproval_name','preapproval'])['preapproval'].count()\n",
        "preapproval_df_count\n"
      ],
      "metadata": {
        "colab": {
          "base_uri": "https://localhost:8080/"
        },
        "id": "9BaE4gua2EvD",
        "outputId": "6cc5e86e-4fa1-4dc0-f9b2-0bf74081b8d1"
      },
      "execution_count": 15,
      "outputs": [
        {
          "output_type": "execute_result",
          "data": {
            "text/plain": [
              "preapproval_name               preapproval\n",
              "Not applicable                 3              1272458\n",
              "Preapproval was not requested  2               172193\n",
              "Preapproval was requested      1                27260\n",
              "Name: preapproval, dtype: int64"
            ]
          },
          "metadata": {},
          "execution_count": 15
        }
      ]
    },
    {
      "cell_type": "code",
      "source": [
        "metric_df = pd.concat([target_df, preapproval_df], axis=1)"
      ],
      "metadata": {
        "id": "-cWt3KXF2Er5"
      },
      "execution_count": 16,
      "outputs": []
    },
    {
      "cell_type": "code",
      "source": [
        "pa_req_df = metric_df.loc[metric_df['preapproval'] == 1]\n",
        "pa_req_df.info()"
      ],
      "metadata": {
        "colab": {
          "base_uri": "https://localhost:8080/"
        },
        "id": "stSj5R3q2Eo9",
        "outputId": "a3bde034-59e5-48ea-d12d-33bd17b163b1"
      },
      "execution_count": 17,
      "outputs": [
        {
          "output_type": "stream",
          "name": "stdout",
          "text": [
            "<class 'pandas.core.frame.DataFrame'>\n",
            "Int64Index: 27260 entries, 2315 to 1473035\n",
            "Data columns (total 4 columns):\n",
            " #   Column             Non-Null Count  Dtype \n",
            "---  ------             --------------  ----- \n",
            " 0   action_taken_name  27260 non-null  object\n",
            " 1   action_taken       27260 non-null  int64 \n",
            " 2   preapproval_name   27260 non-null  object\n",
            " 3   preapproval        27260 non-null  int64 \n",
            "dtypes: int64(2), object(2)\n",
            "memory usage: 1.0+ MB\n"
          ]
        }
      ]
    },
    {
      "cell_type": "code",
      "source": [
        "pa_req_df_count = pa_req_df.groupby(['action_taken','action_taken_name'])['action_taken'].count()\n",
        "pa_req_df_count"
      ],
      "metadata": {
        "colab": {
          "base_uri": "https://localhost:8080/"
        },
        "id": "Dv5Ol5BE2EjU",
        "outputId": "20a4ee0c-ed0c-4749-fc3d-80fbe9340972"
      },
      "execution_count": 18,
      "outputs": [
        {
          "output_type": "execute_result",
          "data": {
            "text/plain": [
              "action_taken  action_taken_name                                  \n",
              "1             Loan originated                                        20790\n",
              "2             Application approved but not accepted                   1243\n",
              "3             Application denied by financial institution             1540\n",
              "4             Application withdrawn by applicant                      3278\n",
              "5             File closed for incompleteness                           372\n",
              "7             Preapproval request denied by financial institution       24\n",
              "8             Preapproval request approved but not accepted             13\n",
              "Name: action_taken, dtype: int64"
            ]
          },
          "metadata": {},
          "execution_count": 18
        }
      ]
    },
    {
      "cell_type": "code",
      "source": [
        "pa_origination = len(pa_req_df.loc[pa_req_df['action_taken']==1])\n",
        "pa_origination_rate = pa_origination / len(pa_req_df) * 100\n",
        "print(f'Loan Origination: {pa_origination_rate:.2f}%')"
      ],
      "metadata": {
        "colab": {
          "base_uri": "https://localhost:8080/"
        },
        "id": "rA4BWBZ566Ij",
        "outputId": "5dd3afa5-77ba-44a3-e6cb-93c48ad61a04"
      },
      "execution_count": 19,
      "outputs": [
        {
          "output_type": "stream",
          "name": "stdout",
          "text": [
            "Loan Origination: 76.27%\n"
          ]
        }
      ]
    },
    {
      "cell_type": "markdown",
      "source": [
        "## Cleaning ML Data\n",
        "1. remove rows with applications withdrawn by applicant action_taken == 3\n",
        "2. remove rows with application closed for incompleteness action_taken == 5"
      ],
      "metadata": {
        "id": "FKEtPSkx8Ctw"
      }
    },
    {
      "cell_type": "code",
      "source": [
        "# ml_df = ml_df.loc[ml_df['action_taken'] != 4 ].loc[ml_df['action_taken'] != 5]"
      ],
      "metadata": {
        "id": "QUU5wR2z9FCB"
      },
      "execution_count": 20,
      "outputs": []
    },
    {
      "cell_type": "code",
      "source": [
        "len(ml_df)"
      ],
      "metadata": {
        "colab": {
          "base_uri": "https://localhost:8080/"
        },
        "id": "lxpmyPvr9E5q",
        "outputId": "9241bc19-9f0c-4a1e-e511-340cd0d69e7f"
      },
      "execution_count": 21,
      "outputs": [
        {
          "output_type": "execute_result",
          "data": {
            "text/plain": [
              "1471911"
            ]
          },
          "metadata": {},
          "execution_count": 21
        }
      ]
    },
    {
      "cell_type": "code",
      "source": [
        "def fix_target_data(member):\n",
        "  if member == 1:\n",
        "    return 1 \n",
        "  else:\n",
        "    return 0"
      ],
      "metadata": {
        "id": "ZFHRT01i91Z-"
      },
      "execution_count": 22,
      "outputs": []
    },
    {
      "cell_type": "code",
      "source": [
        "ml_df['action_taken'] = ml_df['action_taken'].apply(fix_target_data)"
      ],
      "metadata": {
        "id": "UYVz3Q-t91XJ"
      },
      "execution_count": 23,
      "outputs": []
    },
    {
      "cell_type": "code",
      "source": [
        "ml_df = ml_df.drop(columns=['preapproval','preapproval_name','action_taken_name'])"
      ],
      "metadata": {
        "id": "PDZzVqei91Us"
      },
      "execution_count": 24,
      "outputs": []
    },
    {
      "cell_type": "code",
      "source": [
        "row_count = len(ml_df)\n",
        "column_count = len(ml_df.columns)\n",
        "\n",
        "print(f'Row Count: {row_count} | Column Count: {column_count}')"
      ],
      "metadata": {
        "id": "AP-b4OjmqZJu",
        "colab": {
          "base_uri": "https://localhost:8080/"
        },
        "outputId": "a2d88d44-ddab-4b15-d4b5-33406c2b5d98"
      },
      "execution_count": 25,
      "outputs": [
        {
          "output_type": "stream",
          "name": "stdout",
          "text": [
            "Row Count: 1471911 | Column Count: 20\n"
          ]
        }
      ]
    },
    {
      "cell_type": "code",
      "source": [
        "ml_df.dtypes"
      ],
      "metadata": {
        "colab": {
          "base_uri": "https://localhost:8080/"
        },
        "id": "L6domrcPsKSX",
        "outputId": "99e3248f-f99a-43e1-d919-cc9835668d81"
      },
      "execution_count": 26,
      "outputs": [
        {
          "output_type": "execute_result",
          "data": {
            "text/plain": [
              "loan_amount_000s                    int64\n",
              "applicant_income_000s               int64\n",
              "population                          int64\n",
              "minority_population               float64\n",
              "census_tract_number               float64\n",
              "hud_median_family_income            int64\n",
              "tract_to_msamd_income             float64\n",
              "number_of_owner_occupied_units      int64\n",
              "number_of_1_to_4_family_units       int64\n",
              "agency_abbr                        object\n",
              "loan_type_name                     object\n",
              "property_type_name                 object\n",
              "loan_purpose_name                  object\n",
              "owner_occupancy_name               object\n",
              "msamd_name                         object\n",
              "county_name                        object\n",
              "purchaser_type_name                object\n",
              "hoepa_status_name                  object\n",
              "lien_status_name                   object\n",
              "action_taken                        int64\n",
              "dtype: object"
            ]
          },
          "metadata": {},
          "execution_count": 26
        }
      ]
    },
    {
      "cell_type": "code",
      "source": [
        "def get_categorical_columns(data):\n",
        "  data = data.copy()\n",
        "\n",
        "  encoded_columns = data.dtypes[data.dtypes == 'object'].index.tolist()\n",
        "\n",
        "  return encoded_columns"
      ],
      "metadata": {
        "id": "aqK_gvYYqZHP"
      },
      "execution_count": 27,
      "outputs": []
    },
    {
      "cell_type": "code",
      "source": [
        "ml_cat = get_categorical_columns(ml_df)"
      ],
      "metadata": {
        "id": "DbECsYgRw0IB"
      },
      "execution_count": 28,
      "outputs": []
    },
    {
      "cell_type": "code",
      "source": [
        "len(ml_cat)"
      ],
      "metadata": {
        "id": "pi8VFN2BlcXU",
        "colab": {
          "base_uri": "https://localhost:8080/"
        },
        "outputId": "150b2d19-2f94-4567-d9e5-24dea346f913"
      },
      "execution_count": 29,
      "outputs": [
        {
          "output_type": "execute_result",
          "data": {
            "text/plain": [
              "10"
            ]
          },
          "metadata": {},
          "execution_count": 29
        }
      ]
    },
    {
      "cell_type": "code",
      "source": [
        "ml_df[ml_cat].nunique()"
      ],
      "metadata": {
        "id": "4suOXUt7lcU2",
        "colab": {
          "base_uri": "https://localhost:8080/"
        },
        "outputId": "59fabee2-d55b-477e-8a81-d09f4dbdf910"
      },
      "execution_count": 30,
      "outputs": [
        {
          "output_type": "execute_result",
          "data": {
            "text/plain": [
              "agency_abbr              6\n",
              "loan_type_name           4\n",
              "property_type_name       2\n",
              "loan_purpose_name        3\n",
              "owner_occupancy_name     3\n",
              "msamd_name              29\n",
              "county_name             37\n",
              "purchaser_type_name     10\n",
              "hoepa_status_name        2\n",
              "lien_status_name         4\n",
              "dtype: int64"
            ]
          },
          "metadata": {},
          "execution_count": 30
        }
      ]
    },
    {
      "cell_type": "code",
      "source": [
        "for cat in ml_cat:\n",
        "  if not os.path.isdir('./eda'):\n",
        "    os.makedirs('./eda')\n",
        "    \n",
        "  with open(f'./eda/{cat}_value_counts.txt','w') as txt_file:\n",
        "    col_value_counts = ml_df[cat].value_counts()\n",
        "\n",
        "    txt_file.write(str(col_value_counts))\n",
        "    \n",
        "    print(col_value_counts)"
      ],
      "metadata": {
        "id": "qQPNeunOlcSe",
        "colab": {
          "base_uri": "https://localhost:8080/"
        },
        "outputId": "6a0c93af-b168-4738-d5e1-e2abe432b506"
      },
      "execution_count": 31,
      "outputs": [
        {
          "output_type": "stream",
          "name": "stdout",
          "text": [
            "HUD     860158\n",
            "CFPB    466969\n",
            "NCUA     70844\n",
            "FDIC     36445\n",
            "OCC      27019\n",
            "FRS      10476\n",
            "Name: agency_abbr, dtype: int64\n",
            "Conventional          1190183\n",
            "FHA-insured            185171\n",
            "VA-guaranteed           93325\n",
            "FSA/RHS-guaranteed       3232\n",
            "Name: loan_type_name, dtype: int64\n",
            "One-to-four family dwelling (other than manufactured housing)    1446807\n",
            "Manufactured housing                                               25104\n",
            "Name: property_type_name, dtype: int64\n",
            "Refinancing         782004\n",
            "Home purchase       579724\n",
            "Home improvement    110183\n",
            "Name: loan_purpose_name, dtype: int64\n",
            "Owner-occupied as a principal dwelling        1305594\n",
            "Not owner-occupied as a principal dwelling     165114\n",
            "Not applicable                                   1203\n",
            "Name: owner_occupancy_name, dtype: int64\n",
            "Los Angeles, Long Beach, Glendale - CA                   306983\n",
            "Riverside, San Bernardino, Ontario - CA                  223395\n",
            "San Diego, Carlsbad - CA                                 138783\n",
            "Sacramento, Roseville, Arden-Arcade - CA                 122479\n",
            "Oakland, Hayward, Berkeley - CA                          121615\n",
            "Anaheim, Santa Ana, Irvine - CA                          117071\n",
            "San Jose, Sunnyvale, Santa Clara - CA                     67416\n",
            "San Francisco, Redwood City, South San Francisco - CA     44697\n",
            "Oxnard, Thousand Oaks, Ventura - CA                       34531\n",
            "Stockton, Lodi - CA                                       34450\n",
            "Fresno - CA                                               32173\n",
            "Bakersfield - CA                                          30910\n",
            "Vallejo, Fairfield - CA                                   24568\n",
            "Modesto - CA                                              24102\n",
            "Santa Rosa - CA                                           20959\n",
            "Santa Maria, Santa Barbara - CA                           13863\n",
            "Visalia, Porterville - CA                                 13804\n",
            "Salinas - CA                                              13216\n",
            "San Luis Obispo, Paso Robles, Arroyo Grande - CA          12314\n",
            "San Rafael - CA                                           10496\n",
            "Santa Cruz, Watsonville - CA                               9728\n",
            "Merced - CA                                                9560\n",
            "Chico - CA                                                 8716\n",
            "Yuba City - CA                                             7752\n",
            "Redding - CA                                               7649\n",
            "Napa - CA                                                  6048\n",
            "Madera - CA                                                5453\n",
            "El Centro - CA                                             4849\n",
            "Hanford, Corcoran - CA                                     4331\n",
            "Name: msamd_name, dtype: int64\n",
            "Los Angeles County        306983\n",
            "San Diego County          138783\n",
            "Riverside County          125636\n",
            "Orange County             117071\n",
            "San Bernardino County      97759\n",
            "Sacramento County          76397\n",
            "Santa Clara County         64159\n",
            "Alameda County             63347\n",
            "Contra Costa County        58268\n",
            "Ventura County             34531\n",
            "San Joaquin County         34450\n",
            "Fresno County              32173\n",
            "Kern County                30910\n",
            "Placer County              25670\n",
            "San Mateo County           24592\n",
            "Solano County              24568\n",
            "Stanislaus County          24102\n",
            "Sonoma County              20959\n",
            "San Francisco County       20105\n",
            "Santa Barbara County       13863\n",
            "Tulare County              13804\n",
            "Monterey County            13216\n",
            "El Dorado County           12808\n",
            "San Luis Obispo County     12314\n",
            "Marin County               10496\n",
            "Santa Cruz County           9728\n",
            "Merced County               9560\n",
            "Butte County                8716\n",
            "Shasta County               7649\n",
            "Yolo County                 7604\n",
            "Napa County                 6048\n",
            "Madera County               5453\n",
            "Imperial County             4849\n",
            "Kings County                4331\n",
            "Sutter County               3944\n",
            "Yuba County                 3808\n",
            "San Benito County           3257\n",
            "Name: county_name, dtype: int64\n",
            "Loan was not originated or was not sold in calendar year covered by register    785855\n",
            "Fannie Mae (FNMA)                                                               231027\n",
            "Freddie Mac (FHLMC)                                                             145419\n",
            "Ginnie Mae (GNMA)                                                                91902\n",
            "Commercial bank, savings bank or savings association                             85576\n",
            "Life insurance company, credit union, mortgage bank, or finance company          75933\n",
            "Other type of purchaser                                                          30041\n",
            "Private securitization                                                           15390\n",
            "Affiliate institution                                                            10748\n",
            "Farmer Mac (FAMC)                                                                   20\n",
            "Name: purchaser_type_name, dtype: int64\n",
            "Not a HOEPA loan    1471632\n",
            "HOEPA loan              279\n",
            "Name: hoepa_status_name, dtype: int64\n",
            "Secured by a first lien          1287256\n",
            "Not applicable                    120740\n",
            "Secured by a subordinate lien      45427\n",
            "Not secured by a lien              18488\n",
            "Name: lien_status_name, dtype: int64\n"
          ]
        }
      ]
    },
    {
      "cell_type": "code",
      "source": [
        "def make_buckets(data, column, cutoff):\n",
        "    data.copy()\n",
        "    \n",
        "    label_list = data[column].value_counts()\n",
        "\n",
        "    replace_list = list(label_list[label_list < cutoff].index)\n",
        "\n",
        "    for item in replace_list:\n",
        "        data[column] = data[column].replace(item,'other')\n",
        "    \n",
        "    return data"
      ],
      "metadata": {
        "id": "27AIJvM0lcP6"
      },
      "execution_count": 32,
      "outputs": []
    },
    {
      "cell_type": "code",
      "source": [
        "# reduce the number of msamd and counties\n",
        "ml_df = make_buckets(ml_df, 'msamd_name', 10000)\n",
        "ml_df = make_buckets(ml_df, 'county_name', 10000)"
      ],
      "metadata": {
        "id": "e-Kcf1SrlcLN"
      },
      "execution_count": 33,
      "outputs": []
    },
    {
      "cell_type": "code",
      "source": [
        "ml_df[ml_cat].nunique()"
      ],
      "metadata": {
        "id": "Md49F8kxNwy4",
        "colab": {
          "base_uri": "https://localhost:8080/"
        },
        "outputId": "2b4e5390-2181-490c-c170-b7d6de7f837c"
      },
      "execution_count": 34,
      "outputs": [
        {
          "output_type": "execute_result",
          "data": {
            "text/plain": [
              "agency_abbr              6\n",
              "loan_type_name           4\n",
              "property_type_name       2\n",
              "loan_purpose_name        3\n",
              "owner_occupancy_name     3\n",
              "msamd_name              21\n",
              "county_name             26\n",
              "purchaser_type_name     10\n",
              "hoepa_status_name        2\n",
              "lien_status_name         4\n",
              "dtype: int64"
            ]
          },
          "metadata": {},
          "execution_count": 34
        }
      ]
    },
    {
      "cell_type": "code",
      "source": [
        "# note that columns with two values will produce two encoded columns in the preprocessing steps. Make sure to delete one of those encoded columns\n",
        "# drop(columns='property_type_name Manufactured Housing','hoepa_status_name HOEPA loan')\n",
        "ml_df['property_type_name'].value_counts()\n",
        "ml_df['hoepa_status_name'].value_counts()"
      ],
      "metadata": {
        "colab": {
          "base_uri": "https://localhost:8080/"
        },
        "id": "sIeDlSbCptAp",
        "outputId": "8c8b4bbe-e272-4e01-e34c-741f23dbc3f3"
      },
      "execution_count": 35,
      "outputs": [
        {
          "output_type": "execute_result",
          "data": {
            "text/plain": [
              "Not a HOEPA loan    1471632\n",
              "HOEPA loan              279\n",
              "Name: hoepa_status_name, dtype: int64"
            ]
          },
          "metadata": {},
          "execution_count": 35
        }
      ]
    },
    {
      "cell_type": "code",
      "source": [
        "# need to correct buckets for lien_status"
      ],
      "metadata": {
        "id": "DshpEHP60kDd"
      },
      "execution_count": 36,
      "outputs": []
    },
    {
      "cell_type": "code",
      "source": [
        "def fix_lien_status(member):\n",
        "  if member == 'Not applicable' or member == 'Not secured by a lien':\n",
        "    return 'Not secured by a lien'\n",
        "  else:\n",
        "    return member"
      ],
      "metadata": {
        "id": "S5GExTSs0j3Z"
      },
      "execution_count": 37,
      "outputs": []
    },
    {
      "cell_type": "code",
      "source": [
        "ml_df['lien_status_name'] = ml_df['lien_status_name'].apply(fix_lien_status)\n",
        "ml_df.lien_status_name.value_counts()"
      ],
      "metadata": {
        "colab": {
          "base_uri": "https://localhost:8080/"
        },
        "id": "ckX0J39x1NWU",
        "outputId": "f117a2f1-0892-468b-c20b-394380b026c9"
      },
      "execution_count": 38,
      "outputs": [
        {
          "output_type": "execute_result",
          "data": {
            "text/plain": [
              "Secured by a first lien          1287256\n",
              "Not secured by a lien             139228\n",
              "Secured by a subordinate lien      45427\n",
              "Name: lien_status_name, dtype: int64"
            ]
          },
          "metadata": {},
          "execution_count": 38
        }
      ]
    },
    {
      "cell_type": "code",
      "source": [
        "def encode_data(data, encoded_columns):\n",
        "    data = data.copy()\n",
        "\n",
        "    # make df of columns to be encoded\n",
        "    enc_df = data[encoded_columns]\n",
        "\n",
        "    #initialize the encoder\n",
        "    enc = OneHotEncoder(sparse=False)\n",
        "    #fit and transform the encoded columns\n",
        "    encoded = enc.fit_transform(enc_df)\n",
        "\n",
        "    encoded_df = pd.DataFrame(encoded)\n",
        "\n",
        "    encoded_df.columns = enc.get_feature_names_out(encoded_columns)\n",
        "\n",
        "    encoded_df = encoded_df.drop(columns=['property_type_name_Manufactured housing','hoepa_status_name_Not a HOEPA loan',])\n",
        "\n",
        "    data = data.merge(encoded_df, left_index=True, right_index=True).drop(columns=encoded_columns, axis=1)\n",
        "\n",
        "    print('encode_data: Done!')\n",
        "    return data"
      ],
      "metadata": {
        "id": "vTgpNR-4waL8"
      },
      "execution_count": 39,
      "outputs": []
    },
    {
      "cell_type": "code",
      "source": [
        "ml_df_encoded = encode_data(ml_df, ml_cat)\n",
        "ml_df_encoded.columns"
      ],
      "metadata": {
        "colab": {
          "base_uri": "https://localhost:8080/"
        },
        "id": "GycirPyYwaOx",
        "outputId": "140aebab-22c6-4627-a425-06478c565225"
      },
      "execution_count": 40,
      "outputs": [
        {
          "output_type": "stream",
          "name": "stdout",
          "text": [
            "encode_data: Done!\n"
          ]
        },
        {
          "output_type": "execute_result",
          "data": {
            "text/plain": [
              "Index(['loan_amount_000s', 'applicant_income_000s', 'population',\n",
              "       'minority_population', 'census_tract_number',\n",
              "       'hud_median_family_income', 'tract_to_msamd_income',\n",
              "       'number_of_owner_occupied_units', 'number_of_1_to_4_family_units',\n",
              "       'action_taken', 'agency_abbr_CFPB', 'agency_abbr_FDIC',\n",
              "       'agency_abbr_FRS', 'agency_abbr_HUD', 'agency_abbr_NCUA',\n",
              "       'agency_abbr_OCC', 'loan_type_name_Conventional',\n",
              "       'loan_type_name_FHA-insured', 'loan_type_name_FSA/RHS-guaranteed',\n",
              "       'loan_type_name_VA-guaranteed',\n",
              "       'property_type_name_One-to-four family dwelling (other than manufactured housing)',\n",
              "       'loan_purpose_name_Home improvement', 'loan_purpose_name_Home purchase',\n",
              "       'loan_purpose_name_Refinancing', 'owner_occupancy_name_Not applicable',\n",
              "       'owner_occupancy_name_Not owner-occupied as a principal dwelling',\n",
              "       'owner_occupancy_name_Owner-occupied as a principal dwelling',\n",
              "       'msamd_name_Anaheim, Santa Ana, Irvine - CA',\n",
              "       'msamd_name_Bakersfield - CA', 'msamd_name_Fresno - CA',\n",
              "       'msamd_name_Los Angeles, Long Beach, Glendale - CA',\n",
              "       'msamd_name_Modesto - CA', 'msamd_name_Oakland, Hayward, Berkeley - CA',\n",
              "       'msamd_name_Oxnard, Thousand Oaks, Ventura - CA',\n",
              "       'msamd_name_Riverside, San Bernardino, Ontario - CA',\n",
              "       'msamd_name_Sacramento, Roseville, Arden-Arcade - CA',\n",
              "       'msamd_name_Salinas - CA', 'msamd_name_San Diego, Carlsbad - CA',\n",
              "       'msamd_name_San Francisco, Redwood City, South San Francisco - CA',\n",
              "       'msamd_name_San Jose, Sunnyvale, Santa Clara - CA',\n",
              "       'msamd_name_San Luis Obispo, Paso Robles, Arroyo Grande - CA',\n",
              "       'msamd_name_San Rafael - CA',\n",
              "       'msamd_name_Santa Maria, Santa Barbara - CA',\n",
              "       'msamd_name_Santa Rosa - CA', 'msamd_name_Stockton, Lodi - CA',\n",
              "       'msamd_name_Vallejo, Fairfield - CA',\n",
              "       'msamd_name_Visalia, Porterville - CA', 'msamd_name_other',\n",
              "       'county_name_Alameda County', 'county_name_Contra Costa County',\n",
              "       'county_name_El Dorado County', 'county_name_Fresno County',\n",
              "       'county_name_Kern County', 'county_name_Los Angeles County',\n",
              "       'county_name_Marin County', 'county_name_Monterey County',\n",
              "       'county_name_Orange County', 'county_name_Placer County',\n",
              "       'county_name_Riverside County', 'county_name_Sacramento County',\n",
              "       'county_name_San Bernardino County', 'county_name_San Diego County',\n",
              "       'county_name_San Francisco County', 'county_name_San Joaquin County',\n",
              "       'county_name_San Luis Obispo County', 'county_name_San Mateo County',\n",
              "       'county_name_Santa Barbara County', 'county_name_Santa Clara County',\n",
              "       'county_name_Solano County', 'county_name_Sonoma County',\n",
              "       'county_name_Stanislaus County', 'county_name_Tulare County',\n",
              "       'county_name_Ventura County', 'county_name_other',\n",
              "       'purchaser_type_name_Affiliate institution',\n",
              "       'purchaser_type_name_Commercial bank, savings bank or savings association',\n",
              "       'purchaser_type_name_Fannie Mae (FNMA)',\n",
              "       'purchaser_type_name_Farmer Mac (FAMC)',\n",
              "       'purchaser_type_name_Freddie Mac (FHLMC)',\n",
              "       'purchaser_type_name_Ginnie Mae (GNMA)',\n",
              "       'purchaser_type_name_Life insurance company, credit union, mortgage bank, or finance company',\n",
              "       'purchaser_type_name_Loan was not originated or was not sold in calendar year covered by register',\n",
              "       'purchaser_type_name_Other type of purchaser',\n",
              "       'purchaser_type_name_Private securitization',\n",
              "       'hoepa_status_name_HOEPA loan',\n",
              "       'lien_status_name_Not secured by a lien',\n",
              "       'lien_status_name_Secured by a first lien',\n",
              "       'lien_status_name_Secured by a subordinate lien'],\n",
              "      dtype='object')"
            ]
          },
          "metadata": {},
          "execution_count": 40
        }
      ]
    },
    {
      "cell_type": "markdown",
      "source": [
        "## Machine Learning Process\n",
        "### Begin Preprocessing: Input/Target Split, Train/Test Split, Standardization"
      ],
      "metadata": {
        "id": "jHI7n8JNG1v0"
      }
    },
    {
      "cell_type": "code",
      "source": [
        "def split_target(data, target):\n",
        "  data = data.copy()\n",
        "\n",
        "  y = data[target]\n",
        "  X = data.drop(columns=target)\n",
        "\n",
        "  print('split_target: Done!')\n",
        "  return X, y"
      ],
      "metadata": {
        "id": "NpgkkaNL1pQw"
      },
      "execution_count": 41,
      "outputs": []
    },
    {
      "cell_type": "code",
      "source": [
        "X, y = split_target(ml_df_encoded, 'action_taken')"
      ],
      "metadata": {
        "id": "hpj0PXXw1pH2",
        "colab": {
          "base_uri": "https://localhost:8080/"
        },
        "outputId": "cf8ee1ff-9263-4d6b-bc78-d4d523b83889"
      },
      "execution_count": 42,
      "outputs": [
        {
          "output_type": "stream",
          "name": "stdout",
          "text": [
            "split_target: Done!\n"
          ]
        }
      ]
    },
    {
      "cell_type": "code",
      "source": [
        "# train_test_split \n",
        "X_train, X_test, y_train, y_test = train_test_split(X, y, random_state=1, stratify=y)"
      ],
      "metadata": {
        "id": "s_s7eD1O1o6Q"
      },
      "execution_count": 43,
      "outputs": []
    },
    {
      "cell_type": "code",
      "source": [
        "def scale_data(train, test):\n",
        "  scaler = StandardScaler()\n",
        "\n",
        "  t_scaler = scaler.fit(train)\n",
        "\n",
        "  train_scaled = t_scaler.transform(train)\n",
        "  test_scaled = t_scaler.transform(test)\n",
        "\n",
        "  print('scale_data: Done!')\n",
        "  return train_scaled, test_scaled"
      ],
      "metadata": {
        "id": "_D-o8rdtHcJc"
      },
      "execution_count": 44,
      "outputs": []
    },
    {
      "cell_type": "code",
      "source": [
        "X_train_scaled, X_test_scaled = scale_data(X_train, X_test)"
      ],
      "metadata": {
        "id": "xF9_C7d9Hwuo",
        "colab": {
          "base_uri": "https://localhost:8080/"
        },
        "outputId": "f4e33bba-ed15-49e5-872a-5966c3100bab"
      },
      "execution_count": 45,
      "outputs": [
        {
          "output_type": "stream",
          "name": "stdout",
          "text": [
            "scale_data: Done!\n"
          ]
        }
      ]
    },
    {
      "cell_type": "markdown",
      "source": [
        "### Begin training balanced random forest model "
      ],
      "metadata": {
        "id": "8lnR2k9qH8hB"
      }
    },
    {
      "cell_type": "code",
      "source": [
        "def brfc_model(X, y, test):\n",
        "  model = BalancedRandomForestClassifier()\n",
        "  model.fit(X, y)\n",
        "  pred = model.predict(test)\n",
        "  \n",
        "  print('brfc_model: Done!')\n",
        "  return model, pred"
      ],
      "metadata": {
        "id": "JuZdaG5VH1NB"
      },
      "execution_count": 46,
      "outputs": []
    },
    {
      "cell_type": "code",
      "source": [
        "brfc, brfc_y_pred = brfc_model(X_train_scaled, y_train, X_test_scaled)"
      ],
      "metadata": {
        "colab": {
          "base_uri": "https://localhost:8080/"
        },
        "id": "7sK3RoUqnHSE",
        "outputId": "d5fa575c-d638-49be-a4ed-08c1f2d775b6"
      },
      "execution_count": 47,
      "outputs": [
        {
          "output_type": "stream",
          "name": "stdout",
          "text": [
            "brfc_model: Done!\n"
          ]
        }
      ]
    },
    {
      "cell_type": "code",
      "source": [
        "brfc_accuracy = balanced_accuracy_score(y_test, brfc_y_pred)\n",
        "print('Balanced Accuracy Score: Balanced Random Forest Classifier')\n",
        "print(f'Accuracy Score: {brfc_accuracy}')"
      ],
      "metadata": {
        "id": "KPTO5oLrIsi_",
        "colab": {
          "base_uri": "https://localhost:8080/"
        },
        "outputId": "1eccbc01-bb49-4a8c-df6e-2eef71412d71"
      },
      "execution_count": 48,
      "outputs": [
        {
          "output_type": "stream",
          "name": "stdout",
          "text": [
            "Balanced Accuracy Score: Balanced Random Forest Classifier\n",
            "Accuracy Score: 0.5385766050889399\n"
          ]
        }
      ]
    },
    {
      "cell_type": "code",
      "source": [
        "def model_metrics(model, test, pred, title):\n",
        "  if not os.path.isdir('./ml'):\n",
        "    os.makedirs('./ml')\n",
        "      \n",
        "  with open(f'./ml/{title}_results.txt','w') as txt_file:\n",
        "    model_accuracy = balanced_accuracy_score(test, pred)\n",
        "    cm = confusion_matrix(test, pred)\n",
        "    cm_df = pd.DataFrame(cm, columns=['Predicted 0','Predicted 1'], index=['Actual 0','Actual 1'])\n",
        "    crib = classification_report_imbalanced(test,pred)\n",
        "    txt_file.write(f'Accuracy Score: {model_accuracy} \\n\\n')\n",
        "    txt_file.write(str(cm_df))\n",
        "    txt_file.write(f'\\n\\n {crib}')\n",
        "    print(model)\n",
        "    print(f'Accuracy Score: {model_accuracy:.4f}')\n",
        "    print(cm_df)\n",
        "    print(crib)"
      ],
      "metadata": {
        "id": "P2_O9MwDrVG2"
      },
      "execution_count": 49,
      "outputs": []
    },
    {
      "cell_type": "code",
      "source": [
        "brfc_model_name = 'Balanced Random Forest Classifier'\n",
        "model_metrics(model=brfc_model_name, test=y_test, pred=brfc_y_pred, title='brfc_0')"
      ],
      "metadata": {
        "id": "MnoQ-GrRMWmH",
        "colab": {
          "base_uri": "https://localhost:8080/"
        },
        "outputId": "c5df8197-d34c-4513-cae5-8d305af77188"
      },
      "execution_count": 50,
      "outputs": [
        {
          "output_type": "stream",
          "name": "stdout",
          "text": [
            "Balanced Random Forest Classifier\n",
            "Accuracy Score: 0.5386\n",
            "          Predicted 0  Predicted 1\n",
            "Actual 0        90056        75372\n",
            "Actual 1        94504       107761\n",
            "                   pre       rec       spe        f1       geo       iba       sup\n",
            "\n",
            "          0       0.49      0.54      0.53      0.51      0.54      0.29    165428\n",
            "          1       0.59      0.53      0.54      0.56      0.54      0.29    202265\n",
            "\n",
            "avg / total       0.54      0.54      0.54      0.54      0.54      0.29    367693\n",
            "\n"
          ]
        }
      ]
    },
    {
      "cell_type": "code",
      "source": [
        "def get_feature_importances(model, data, title):\n",
        "  if not os.path.isdir('./ml'):\n",
        "    os.makedirs('./ml')\n",
        "      \n",
        "  with open(f'./ml/{title}_feature_importances.txt','w') as txt_file:\n",
        "  \n",
        "    importances = model.feature_importances_\n",
        "  \n",
        "    zipped_importances = sorted(zip(importances, data.columns), reverse=True)\n",
        "    importance_df = pd.DataFrame({'importance':[i[0] for i in zipped_importances], 'parameter':[i[1] for i in zipped_importances]})\n",
        "\n",
        "    txt_file.write(f'feature importances - {title} \\n\\n')\n",
        "    txt_file.write(importance_df.to_string())\n",
        "    print(importance_df.head(20))\n",
        "    return importance_df"
      ],
      "metadata": {
        "id": "q9gTeTbZcRUI"
      },
      "execution_count": 51,
      "outputs": []
    },
    {
      "cell_type": "code",
      "source": [
        "brfc_importances = get_feature_importances(brfc, X, title='brfc_0')\n"
      ],
      "metadata": {
        "colab": {
          "base_uri": "https://localhost:8080/"
        },
        "id": "EfcmOJVhehXf",
        "outputId": "9b7b5a7b-1efa-41ac-f1c0-cd715f9b9fbb"
      },
      "execution_count": 52,
      "outputs": [
        {
          "output_type": "stream",
          "name": "stdout",
          "text": [
            "    importance                                          parameter\n",
            "0     0.128653                              applicant_income_000s\n",
            "1     0.123659                                   loan_amount_000s\n",
            "2     0.068657                                minority_population\n",
            "3     0.068155                              tract_to_msamd_income\n",
            "4     0.067435                                census_tract_number\n",
            "5     0.066579                                         population\n",
            "6     0.066217                     number_of_owner_occupied_units\n",
            "7     0.066050                      number_of_1_to_4_family_units\n",
            "8     0.030444                           hud_median_family_income\n",
            "9     0.014125  purchaser_type_name_Loan was not originated or...\n",
            "10    0.011760                      loan_purpose_name_Refinancing\n",
            "11    0.010970                                    agency_abbr_HUD\n",
            "12    0.010966                    loan_purpose_name_Home purchase\n",
            "13    0.010196                                   agency_abbr_CFPB\n",
            "14    0.009961              purchaser_type_name_Fannie Mae (FNMA)\n",
            "15    0.008265            purchaser_type_name_Freddie Mac (FHLMC)\n",
            "16    0.008189                        loan_type_name_Conventional\n",
            "17    0.007976  msamd_name_Los Angeles, Long Beach, Glendale - CA\n",
            "18    0.007928                     county_name_Los Angeles County\n",
            "19    0.007683  owner_occupancy_name_Owner-occupied as a princ...\n"
          ]
        }
      ]
    },
    {
      "cell_type": "markdown",
      "source": [
        "Since Accuracy was so low, we need to go back and look at buckets again. let's reduce MSAMD and County to 10 buckets each"
      ],
      "metadata": {
        "id": "_1t4zDuGxF5J"
      }
    },
    {
      "cell_type": "code",
      "source": [
        "ml_df_1 = ml_df.copy()"
      ],
      "metadata": {
        "id": "ewyndLUoxL_i"
      },
      "execution_count": 53,
      "outputs": []
    },
    {
      "cell_type": "code",
      "source": [
        "ml_df_1 = make_buckets(ml_df_1, 'msamd_name', 34500)\n",
        "ml_df_1 = make_buckets(ml_df_1, 'county_name', 35000)"
      ],
      "metadata": {
        "id": "s-rZkqIoxUlF"
      },
      "execution_count": 54,
      "outputs": []
    },
    {
      "cell_type": "code",
      "source": [
        "ml_df_1.msamd_name.value_counts()"
      ],
      "metadata": {
        "colab": {
          "base_uri": "https://localhost:8080/"
        },
        "id": "ScjvcrmJxsjL",
        "outputId": "99e480c8-ba42-4f5f-8474-9daa5cee19f8"
      },
      "execution_count": 55,
      "outputs": [
        {
          "output_type": "execute_result",
          "data": {
            "text/plain": [
              "Los Angeles, Long Beach, Glendale - CA                   306983\n",
              "other                                                    294941\n",
              "Riverside, San Bernardino, Ontario - CA                  223395\n",
              "San Diego, Carlsbad - CA                                 138783\n",
              "Sacramento, Roseville, Arden-Arcade - CA                 122479\n",
              "Oakland, Hayward, Berkeley - CA                          121615\n",
              "Anaheim, Santa Ana, Irvine - CA                          117071\n",
              "San Jose, Sunnyvale, Santa Clara - CA                     67416\n",
              "San Francisco, Redwood City, South San Francisco - CA     44697\n",
              "Oxnard, Thousand Oaks, Ventura - CA                       34531\n",
              "Name: msamd_name, dtype: int64"
            ]
          },
          "metadata": {},
          "execution_count": 55
        }
      ]
    },
    {
      "cell_type": "code",
      "source": [
        "ml_df_1.county_name.value_counts()"
      ],
      "metadata": {
        "colab": {
          "base_uri": "https://localhost:8080/"
        },
        "id": "5B5wNWatxvlr",
        "outputId": "2de4d807-7c80-409a-c586-dfcb17a2af9f"
      },
      "execution_count": 56,
      "outputs": [
        {
          "output_type": "execute_result",
          "data": {
            "text/plain": [
              "other                    423508\n",
              "Los Angeles County       306983\n",
              "San Diego County         138783\n",
              "Riverside County         125636\n",
              "Orange County            117071\n",
              "San Bernardino County     97759\n",
              "Sacramento County         76397\n",
              "Santa Clara County        64159\n",
              "Alameda County            63347\n",
              "Contra Costa County       58268\n",
              "Name: county_name, dtype: int64"
            ]
          },
          "metadata": {},
          "execution_count": 56
        }
      ]
    },
    {
      "cell_type": "code",
      "source": [
        "ml_df_1_encoded = encode_data(ml_df_1, ml_cat)\n",
        "ml_df_1_encoded.columns"
      ],
      "metadata": {
        "colab": {
          "base_uri": "https://localhost:8080/"
        },
        "id": "9U8z1vhEyBhh",
        "outputId": "ddcd5e46-fe1b-4392-89e8-33d5604998e4"
      },
      "execution_count": 57,
      "outputs": [
        {
          "output_type": "stream",
          "name": "stdout",
          "text": [
            "encode_data: Done!\n"
          ]
        },
        {
          "output_type": "execute_result",
          "data": {
            "text/plain": [
              "Index(['loan_amount_000s', 'applicant_income_000s', 'population',\n",
              "       'minority_population', 'census_tract_number',\n",
              "       'hud_median_family_income', 'tract_to_msamd_income',\n",
              "       'number_of_owner_occupied_units', 'number_of_1_to_4_family_units',\n",
              "       'action_taken', 'agency_abbr_CFPB', 'agency_abbr_FDIC',\n",
              "       'agency_abbr_FRS', 'agency_abbr_HUD', 'agency_abbr_NCUA',\n",
              "       'agency_abbr_OCC', 'loan_type_name_Conventional',\n",
              "       'loan_type_name_FHA-insured', 'loan_type_name_FSA/RHS-guaranteed',\n",
              "       'loan_type_name_VA-guaranteed',\n",
              "       'property_type_name_One-to-four family dwelling (other than manufactured housing)',\n",
              "       'loan_purpose_name_Home improvement', 'loan_purpose_name_Home purchase',\n",
              "       'loan_purpose_name_Refinancing', 'owner_occupancy_name_Not applicable',\n",
              "       'owner_occupancy_name_Not owner-occupied as a principal dwelling',\n",
              "       'owner_occupancy_name_Owner-occupied as a principal dwelling',\n",
              "       'msamd_name_Anaheim, Santa Ana, Irvine - CA',\n",
              "       'msamd_name_Los Angeles, Long Beach, Glendale - CA',\n",
              "       'msamd_name_Oakland, Hayward, Berkeley - CA',\n",
              "       'msamd_name_Oxnard, Thousand Oaks, Ventura - CA',\n",
              "       'msamd_name_Riverside, San Bernardino, Ontario - CA',\n",
              "       'msamd_name_Sacramento, Roseville, Arden-Arcade - CA',\n",
              "       'msamd_name_San Diego, Carlsbad - CA',\n",
              "       'msamd_name_San Francisco, Redwood City, South San Francisco - CA',\n",
              "       'msamd_name_San Jose, Sunnyvale, Santa Clara - CA', 'msamd_name_other',\n",
              "       'county_name_Alameda County', 'county_name_Contra Costa County',\n",
              "       'county_name_Los Angeles County', 'county_name_Orange County',\n",
              "       'county_name_Riverside County', 'county_name_Sacramento County',\n",
              "       'county_name_San Bernardino County', 'county_name_San Diego County',\n",
              "       'county_name_Santa Clara County', 'county_name_other',\n",
              "       'purchaser_type_name_Affiliate institution',\n",
              "       'purchaser_type_name_Commercial bank, savings bank or savings association',\n",
              "       'purchaser_type_name_Fannie Mae (FNMA)',\n",
              "       'purchaser_type_name_Farmer Mac (FAMC)',\n",
              "       'purchaser_type_name_Freddie Mac (FHLMC)',\n",
              "       'purchaser_type_name_Ginnie Mae (GNMA)',\n",
              "       'purchaser_type_name_Life insurance company, credit union, mortgage bank, or finance company',\n",
              "       'purchaser_type_name_Loan was not originated or was not sold in calendar year covered by register',\n",
              "       'purchaser_type_name_Other type of purchaser',\n",
              "       'purchaser_type_name_Private securitization',\n",
              "       'hoepa_status_name_HOEPA loan',\n",
              "       'lien_status_name_Not secured by a lien',\n",
              "       'lien_status_name_Secured by a first lien',\n",
              "       'lien_status_name_Secured by a subordinate lien'],\n",
              "      dtype='object')"
            ]
          },
          "metadata": {},
          "execution_count": 57
        }
      ]
    },
    {
      "cell_type": "code",
      "source": [
        "X_1, y_1 = split_target(ml_df_1_encoded, 'action_taken')"
      ],
      "metadata": {
        "colab": {
          "base_uri": "https://localhost:8080/"
        },
        "id": "P8ud824SzHR2",
        "outputId": "f7adce53-943c-4663-f599-c0478314cd4d"
      },
      "execution_count": 58,
      "outputs": [
        {
          "output_type": "stream",
          "name": "stdout",
          "text": [
            "split_target: Done!\n"
          ]
        }
      ]
    },
    {
      "cell_type": "code",
      "source": [
        "len(X_1.columns)"
      ],
      "metadata": {
        "colab": {
          "base_uri": "https://localhost:8080/"
        },
        "id": "FagcfGj9zT40",
        "outputId": "127cc221-0976-4d9d-b547-4bb5de9b5562"
      },
      "execution_count": 59,
      "outputs": [
        {
          "output_type": "execute_result",
          "data": {
            "text/plain": [
              "60"
            ]
          },
          "metadata": {},
          "execution_count": 59
        }
      ]
    },
    {
      "cell_type": "code",
      "source": [
        "X_1_train, X_1_test, y_1_train, y_1_test = train_test_split(X_1, y_1, random_state=1, stratify=y_1)"
      ],
      "metadata": {
        "id": "7XDaReMlzU05"
      },
      "execution_count": 60,
      "outputs": []
    },
    {
      "cell_type": "code",
      "source": [
        "X_1_train_scaled, X_1_test_scaled = scale_data(X_1_train, X_1_test)"
      ],
      "metadata": {
        "colab": {
          "base_uri": "https://localhost:8080/"
        },
        "id": "Qpjp5nPTznmd",
        "outputId": "0323a6d3-3dbd-495f-c149-3d70d99ff24e"
      },
      "execution_count": 61,
      "outputs": [
        {
          "output_type": "stream",
          "name": "stdout",
          "text": [
            "scale_data: Done!\n"
          ]
        }
      ]
    },
    {
      "cell_type": "code",
      "source": [
        "brfc_1, brfc_1_pred = brfc_model(X_1_train_scaled, y_1_train, X_1_test_scaled)"
      ],
      "metadata": {
        "colab": {
          "base_uri": "https://localhost:8080/"
        },
        "id": "PKKLYxo3z4Mo",
        "outputId": "9b8c49a5-9e99-4d30-9502-ae54551d6d61"
      },
      "execution_count": 62,
      "outputs": [
        {
          "output_type": "stream",
          "name": "stdout",
          "text": [
            "brfc_model: Done!\n"
          ]
        }
      ]
    },
    {
      "cell_type": "code",
      "source": [
        "brfc_1_name = 'Balanced Random Forest Classifier Reduced - Test 1'\n",
        "model_metrics(model=brfc_1_name, test=y_1_test, pred=brfc_1_pred, title='brfc_1')"
      ],
      "metadata": {
        "colab": {
          "base_uri": "https://localhost:8080/"
        },
        "id": "0IyFelqa0gs2",
        "outputId": "a28374e3-f89f-4d41-ab3c-371876df60a2"
      },
      "execution_count": 63,
      "outputs": [
        {
          "output_type": "stream",
          "name": "stdout",
          "text": [
            "Balanced Random Forest Classifier Reduced - Test 1\n",
            "Accuracy Score: 0.5385\n",
            "          Predicted 0  Predicted 1\n",
            "Actual 0        89696        75732\n",
            "Actual 1        94089       108176\n",
            "                   pre       rec       spe        f1       geo       iba       sup\n",
            "\n",
            "          0       0.49      0.54      0.53      0.51      0.54      0.29    165428\n",
            "          1       0.59      0.53      0.54      0.56      0.54      0.29    202265\n",
            "\n",
            "avg / total       0.54      0.54      0.54      0.54      0.54      0.29    367693\n",
            "\n"
          ]
        }
      ]
    },
    {
      "cell_type": "code",
      "source": [
        "brfc_1_importances = get_feature_importances(brfc_1, X_1, title='brfc_1')\n",
        "brfc_1_importances.head(20)"
      ],
      "metadata": {
        "colab": {
          "base_uri": "https://localhost:8080/",
          "height": 1000
        },
        "id": "OGFpGdHC0owJ",
        "outputId": "fbf6ed9f-d6e1-40c2-a382-bf661debf01d"
      },
      "execution_count": 64,
      "outputs": [
        {
          "output_type": "stream",
          "name": "stdout",
          "text": [
            "    importance                                          parameter\n",
            "0     0.137319                              applicant_income_000s\n",
            "1     0.132736                                   loan_amount_000s\n",
            "2     0.072548                                minority_population\n",
            "3     0.072021                              tract_to_msamd_income\n",
            "4     0.071320                                census_tract_number\n",
            "5     0.070293                                         population\n",
            "6     0.070134                     number_of_owner_occupied_units\n",
            "7     0.069833                      number_of_1_to_4_family_units\n",
            "8     0.031826                           hud_median_family_income\n",
            "9     0.014489  purchaser_type_name_Loan was not originated or...\n",
            "10    0.011863                      loan_purpose_name_Refinancing\n",
            "11    0.011250                                    agency_abbr_HUD\n",
            "12    0.011176                    loan_purpose_name_Home purchase\n",
            "13    0.010303              purchaser_type_name_Fannie Mae (FNMA)\n",
            "14    0.010223                                   agency_abbr_CFPB\n",
            "15    0.008748                                  county_name_other\n",
            "16    0.008457            purchaser_type_name_Freddie Mac (FHLMC)\n",
            "17    0.008409                        loan_type_name_Conventional\n",
            "18    0.008027                                   msamd_name_other\n",
            "19    0.007720  owner_occupancy_name_Owner-occupied as a princ...\n"
          ]
        },
        {
          "output_type": "execute_result",
          "data": {
            "text/plain": [
              "    importance                                          parameter\n",
              "0     0.137319                              applicant_income_000s\n",
              "1     0.132736                                   loan_amount_000s\n",
              "2     0.072548                                minority_population\n",
              "3     0.072021                              tract_to_msamd_income\n",
              "4     0.071320                                census_tract_number\n",
              "5     0.070293                                         population\n",
              "6     0.070134                     number_of_owner_occupied_units\n",
              "7     0.069833                      number_of_1_to_4_family_units\n",
              "8     0.031826                           hud_median_family_income\n",
              "9     0.014489  purchaser_type_name_Loan was not originated or...\n",
              "10    0.011863                      loan_purpose_name_Refinancing\n",
              "11    0.011250                                    agency_abbr_HUD\n",
              "12    0.011176                    loan_purpose_name_Home purchase\n",
              "13    0.010303              purchaser_type_name_Fannie Mae (FNMA)\n",
              "14    0.010223                                   agency_abbr_CFPB\n",
              "15    0.008748                                  county_name_other\n",
              "16    0.008457            purchaser_type_name_Freddie Mac (FHLMC)\n",
              "17    0.008409                        loan_type_name_Conventional\n",
              "18    0.008027                                   msamd_name_other\n",
              "19    0.007720  owner_occupancy_name_Owner-occupied as a princ..."
            ],
            "text/html": [
              "\n",
              "  <div id=\"df-749a906f-9f22-4333-9a7e-703788484ddf\">\n",
              "    <div class=\"colab-df-container\">\n",
              "      <div>\n",
              "<style scoped>\n",
              "    .dataframe tbody tr th:only-of-type {\n",
              "        vertical-align: middle;\n",
              "    }\n",
              "\n",
              "    .dataframe tbody tr th {\n",
              "        vertical-align: top;\n",
              "    }\n",
              "\n",
              "    .dataframe thead th {\n",
              "        text-align: right;\n",
              "    }\n",
              "</style>\n",
              "<table border=\"1\" class=\"dataframe\">\n",
              "  <thead>\n",
              "    <tr style=\"text-align: right;\">\n",
              "      <th></th>\n",
              "      <th>importance</th>\n",
              "      <th>parameter</th>\n",
              "    </tr>\n",
              "  </thead>\n",
              "  <tbody>\n",
              "    <tr>\n",
              "      <th>0</th>\n",
              "      <td>0.137319</td>\n",
              "      <td>applicant_income_000s</td>\n",
              "    </tr>\n",
              "    <tr>\n",
              "      <th>1</th>\n",
              "      <td>0.132736</td>\n",
              "      <td>loan_amount_000s</td>\n",
              "    </tr>\n",
              "    <tr>\n",
              "      <th>2</th>\n",
              "      <td>0.072548</td>\n",
              "      <td>minority_population</td>\n",
              "    </tr>\n",
              "    <tr>\n",
              "      <th>3</th>\n",
              "      <td>0.072021</td>\n",
              "      <td>tract_to_msamd_income</td>\n",
              "    </tr>\n",
              "    <tr>\n",
              "      <th>4</th>\n",
              "      <td>0.071320</td>\n",
              "      <td>census_tract_number</td>\n",
              "    </tr>\n",
              "    <tr>\n",
              "      <th>5</th>\n",
              "      <td>0.070293</td>\n",
              "      <td>population</td>\n",
              "    </tr>\n",
              "    <tr>\n",
              "      <th>6</th>\n",
              "      <td>0.070134</td>\n",
              "      <td>number_of_owner_occupied_units</td>\n",
              "    </tr>\n",
              "    <tr>\n",
              "      <th>7</th>\n",
              "      <td>0.069833</td>\n",
              "      <td>number_of_1_to_4_family_units</td>\n",
              "    </tr>\n",
              "    <tr>\n",
              "      <th>8</th>\n",
              "      <td>0.031826</td>\n",
              "      <td>hud_median_family_income</td>\n",
              "    </tr>\n",
              "    <tr>\n",
              "      <th>9</th>\n",
              "      <td>0.014489</td>\n",
              "      <td>purchaser_type_name_Loan was not originated or...</td>\n",
              "    </tr>\n",
              "    <tr>\n",
              "      <th>10</th>\n",
              "      <td>0.011863</td>\n",
              "      <td>loan_purpose_name_Refinancing</td>\n",
              "    </tr>\n",
              "    <tr>\n",
              "      <th>11</th>\n",
              "      <td>0.011250</td>\n",
              "      <td>agency_abbr_HUD</td>\n",
              "    </tr>\n",
              "    <tr>\n",
              "      <th>12</th>\n",
              "      <td>0.011176</td>\n",
              "      <td>loan_purpose_name_Home purchase</td>\n",
              "    </tr>\n",
              "    <tr>\n",
              "      <th>13</th>\n",
              "      <td>0.010303</td>\n",
              "      <td>purchaser_type_name_Fannie Mae (FNMA)</td>\n",
              "    </tr>\n",
              "    <tr>\n",
              "      <th>14</th>\n",
              "      <td>0.010223</td>\n",
              "      <td>agency_abbr_CFPB</td>\n",
              "    </tr>\n",
              "    <tr>\n",
              "      <th>15</th>\n",
              "      <td>0.008748</td>\n",
              "      <td>county_name_other</td>\n",
              "    </tr>\n",
              "    <tr>\n",
              "      <th>16</th>\n",
              "      <td>0.008457</td>\n",
              "      <td>purchaser_type_name_Freddie Mac (FHLMC)</td>\n",
              "    </tr>\n",
              "    <tr>\n",
              "      <th>17</th>\n",
              "      <td>0.008409</td>\n",
              "      <td>loan_type_name_Conventional</td>\n",
              "    </tr>\n",
              "    <tr>\n",
              "      <th>18</th>\n",
              "      <td>0.008027</td>\n",
              "      <td>msamd_name_other</td>\n",
              "    </tr>\n",
              "    <tr>\n",
              "      <th>19</th>\n",
              "      <td>0.007720</td>\n",
              "      <td>owner_occupancy_name_Owner-occupied as a princ...</td>\n",
              "    </tr>\n",
              "  </tbody>\n",
              "</table>\n",
              "</div>\n",
              "      <button class=\"colab-df-convert\" onclick=\"convertToInteractive('df-749a906f-9f22-4333-9a7e-703788484ddf')\"\n",
              "              title=\"Convert this dataframe to an interactive table.\"\n",
              "              style=\"display:none;\">\n",
              "        \n",
              "  <svg xmlns=\"http://www.w3.org/2000/svg\" height=\"24px\"viewBox=\"0 0 24 24\"\n",
              "       width=\"24px\">\n",
              "    <path d=\"M0 0h24v24H0V0z\" fill=\"none\"/>\n",
              "    <path d=\"M18.56 5.44l.94 2.06.94-2.06 2.06-.94-2.06-.94-.94-2.06-.94 2.06-2.06.94zm-11 1L8.5 8.5l.94-2.06 2.06-.94-2.06-.94L8.5 2.5l-.94 2.06-2.06.94zm10 10l.94 2.06.94-2.06 2.06-.94-2.06-.94-.94-2.06-.94 2.06-2.06.94z\"/><path d=\"M17.41 7.96l-1.37-1.37c-.4-.4-.92-.59-1.43-.59-.52 0-1.04.2-1.43.59L10.3 9.45l-7.72 7.72c-.78.78-.78 2.05 0 2.83L4 21.41c.39.39.9.59 1.41.59.51 0 1.02-.2 1.41-.59l7.78-7.78 2.81-2.81c.8-.78.8-2.07 0-2.86zM5.41 20L4 18.59l7.72-7.72 1.47 1.35L5.41 20z\"/>\n",
              "  </svg>\n",
              "      </button>\n",
              "      \n",
              "  <style>\n",
              "    .colab-df-container {\n",
              "      display:flex;\n",
              "      flex-wrap:wrap;\n",
              "      gap: 12px;\n",
              "    }\n",
              "\n",
              "    .colab-df-convert {\n",
              "      background-color: #E8F0FE;\n",
              "      border: none;\n",
              "      border-radius: 50%;\n",
              "      cursor: pointer;\n",
              "      display: none;\n",
              "      fill: #1967D2;\n",
              "      height: 32px;\n",
              "      padding: 0 0 0 0;\n",
              "      width: 32px;\n",
              "    }\n",
              "\n",
              "    .colab-df-convert:hover {\n",
              "      background-color: #E2EBFA;\n",
              "      box-shadow: 0px 1px 2px rgba(60, 64, 67, 0.3), 0px 1px 3px 1px rgba(60, 64, 67, 0.15);\n",
              "      fill: #174EA6;\n",
              "    }\n",
              "\n",
              "    [theme=dark] .colab-df-convert {\n",
              "      background-color: #3B4455;\n",
              "      fill: #D2E3FC;\n",
              "    }\n",
              "\n",
              "    [theme=dark] .colab-df-convert:hover {\n",
              "      background-color: #434B5C;\n",
              "      box-shadow: 0px 1px 3px 1px rgba(0, 0, 0, 0.15);\n",
              "      filter: drop-shadow(0px 1px 2px rgba(0, 0, 0, 0.3));\n",
              "      fill: #FFFFFF;\n",
              "    }\n",
              "  </style>\n",
              "\n",
              "      <script>\n",
              "        const buttonEl =\n",
              "          document.querySelector('#df-749a906f-9f22-4333-9a7e-703788484ddf button.colab-df-convert');\n",
              "        buttonEl.style.display =\n",
              "          google.colab.kernel.accessAllowed ? 'block' : 'none';\n",
              "\n",
              "        async function convertToInteractive(key) {\n",
              "          const element = document.querySelector('#df-749a906f-9f22-4333-9a7e-703788484ddf');\n",
              "          const dataTable =\n",
              "            await google.colab.kernel.invokeFunction('convertToInteractive',\n",
              "                                                     [key], {});\n",
              "          if (!dataTable) return;\n",
              "\n",
              "          const docLinkHtml = 'Like what you see? Visit the ' +\n",
              "            '<a target=\"_blank\" href=https://colab.research.google.com/notebooks/data_table.ipynb>data table notebook</a>'\n",
              "            + ' to learn more about interactive tables.';\n",
              "          element.innerHTML = '';\n",
              "          dataTable['output_type'] = 'display_data';\n",
              "          await google.colab.output.renderOutput(dataTable, element);\n",
              "          const docLink = document.createElement('div');\n",
              "          docLink.innerHTML = docLinkHtml;\n",
              "          element.appendChild(docLink);\n",
              "        }\n",
              "      </script>\n",
              "    </div>\n",
              "  </div>\n",
              "  "
            ]
          },
          "metadata": {},
          "execution_count": 64
        }
      ]
    },
    {
      "cell_type": "markdown",
      "source": [
        "That's not good... let's try reducing purchaser name instead"
      ],
      "metadata": {
        "id": "BEwzqqrx599d"
      }
    },
    {
      "cell_type": "code",
      "source": [
        "ml_df_2 = ml_df.copy()"
      ],
      "metadata": {
        "id": "aSbFTeiF57Cj"
      },
      "execution_count": 65,
      "outputs": []
    },
    {
      "cell_type": "code",
      "source": [
        "ml_df_2[ml_cat].nunique()"
      ],
      "metadata": {
        "colab": {
          "base_uri": "https://localhost:8080/"
        },
        "id": "R8AL1Ige56_E",
        "outputId": "e71c4f66-ef62-43a5-ca98-212a603cc0f5"
      },
      "execution_count": 66,
      "outputs": [
        {
          "output_type": "execute_result",
          "data": {
            "text/plain": [
              "agency_abbr              6\n",
              "loan_type_name           4\n",
              "property_type_name       2\n",
              "loan_purpose_name        3\n",
              "owner_occupancy_name     3\n",
              "msamd_name              21\n",
              "county_name             26\n",
              "purchaser_type_name     10\n",
              "hoepa_status_name        2\n",
              "lien_status_name         3\n",
              "dtype: int64"
            ]
          },
          "metadata": {},
          "execution_count": 66
        }
      ]
    },
    {
      "cell_type": "code",
      "source": [
        "ml_df_2 = make_buckets(ml_df_2, 'purchaser_type_name', 31000)\n"
      ],
      "metadata": {
        "id": "7hxZFCE7564E"
      },
      "execution_count": 67,
      "outputs": []
    },
    {
      "cell_type": "code",
      "source": [
        "ml_df_2[ml_cat].purchaser_type_name.value_counts()"
      ],
      "metadata": {
        "colab": {
          "base_uri": "https://localhost:8080/"
        },
        "id": "DnY4xlG27C63",
        "outputId": "07fecbae-8991-40e1-e5f9-abda6ff3b3a7"
      },
      "execution_count": 68,
      "outputs": [
        {
          "output_type": "execute_result",
          "data": {
            "text/plain": [
              "Loan was not originated or was not sold in calendar year covered by register    785855\n",
              "Fannie Mae (FNMA)                                                               231027\n",
              "Freddie Mac (FHLMC)                                                             145419\n",
              "Ginnie Mae (GNMA)                                                                91902\n",
              "Commercial bank, savings bank or savings association                             85576\n",
              "Life insurance company, credit union, mortgage bank, or finance company          75933\n",
              "other                                                                            56199\n",
              "Name: purchaser_type_name, dtype: int64"
            ]
          },
          "metadata": {},
          "execution_count": 68
        }
      ]
    },
    {
      "cell_type": "code",
      "source": [
        "ml_df_2_encoded = encode_data(ml_df_2, ml_cat)"
      ],
      "metadata": {
        "colab": {
          "base_uri": "https://localhost:8080/"
        },
        "id": "cyxToMaXAx8C",
        "outputId": "b088bdcf-6844-419f-9ab0-67c988a0f2e1"
      },
      "execution_count": 69,
      "outputs": [
        {
          "output_type": "stream",
          "name": "stdout",
          "text": [
            "encode_data: Done!\n"
          ]
        }
      ]
    },
    {
      "cell_type": "code",
      "source": [
        "def split_train_build_brfc(data, target, name, title):\n",
        "  \n",
        "  X_, y_ = split_target(data, target)\n",
        "\n",
        "  X_train_, X_test_, y_train_, y_test_ = train_test_split(X_, y_, random_state=1, stratify=y_)\n",
        "\n",
        "  X_train_scaled_, X_test_scaled_ = scale_data(X_train_, X_test_)\n",
        "\n",
        "  brfc_, brfc_pred = brfc_model(X_train_scaled_, y_train_, X_test_scaled_)\n",
        "\n",
        "  model_metrics(model=name, test=y_test_, pred=brfc_pred, title=title)\n",
        "\n",
        "  brfc_importances = get_feature_importances(brfc_, X_, title=title)\n",
        "\n",
        "  return brfc_, brfc_pred, brfc_importances"
      ],
      "metadata": {
        "id": "OvitM3CC7Elr"
      },
      "execution_count": 70,
      "outputs": []
    },
    {
      "cell_type": "code",
      "source": [
        "brfc_2, brfc_2_pred, brfc_2_importances = split_train_build_brfc(data=ml_df_2_encoded, target='action_taken', name='Balanced Random Forest Model Reduced - Test 2', title='brfc_2')"
      ],
      "metadata": {
        "colab": {
          "base_uri": "https://localhost:8080/"
        },
        "id": "e1-DGl4k9lH7",
        "outputId": "70107397-851d-4f79-ce4a-fc7ce6848509"
      },
      "execution_count": 71,
      "outputs": [
        {
          "output_type": "stream",
          "name": "stdout",
          "text": [
            "split_target: Done!\n",
            "scale_data: Done!\n",
            "brfc_model: Done!\n",
            "Balanced Random Forest Model Reduced - Test 2\n",
            "Accuracy Score: 0.5387\n",
            "          Predicted 0  Predicted 1\n",
            "Actual 0        89877        75551\n",
            "Actual 1        94243       108022\n",
            "                   pre       rec       spe        f1       geo       iba       sup\n",
            "\n",
            "          0       0.49      0.54      0.53      0.51      0.54      0.29    165428\n",
            "          1       0.59      0.53      0.54      0.56      0.54      0.29    202265\n",
            "\n",
            "avg / total       0.54      0.54      0.54      0.54      0.54      0.29    367693\n",
            "\n",
            "    importance                                          parameter\n",
            "0     0.129158                              applicant_income_000s\n",
            "1     0.124672                                   loan_amount_000s\n",
            "2     0.067179                                minority_population\n",
            "3     0.066911                              tract_to_msamd_income\n",
            "4     0.066195                                census_tract_number\n",
            "5     0.065111                                         population\n",
            "6     0.064881                     number_of_owner_occupied_units\n",
            "7     0.064738                      number_of_1_to_4_family_units\n",
            "8     0.030580                           hud_median_family_income\n",
            "9     0.014076  purchaser_type_name_Loan was not originated or...\n",
            "10    0.012216                      loan_purpose_name_Refinancing\n",
            "11    0.011803                                    agency_abbr_HUD\n",
            "12    0.011359                    loan_purpose_name_Home purchase\n",
            "13    0.010904                                   agency_abbr_CFPB\n",
            "14    0.010058              purchaser_type_name_Fannie Mae (FNMA)\n",
            "15    0.008558                        loan_type_name_Conventional\n",
            "16    0.008405            purchaser_type_name_Freddie Mac (FHLMC)\n",
            "17    0.008124                     county_name_Los Angeles County\n",
            "18    0.008121  msamd_name_Los Angeles, Long Beach, Glendale - CA\n",
            "19    0.007866  owner_occupancy_name_Owner-occupied as a princ...\n"
          ]
        }
      ]
    },
    {
      "cell_type": "code",
      "source": [
        "ml_df_3 = ml_df.copy()"
      ],
      "metadata": {
        "id": "ns1r3mfx96rV"
      },
      "execution_count": 72,
      "outputs": []
    },
    {
      "cell_type": "code",
      "source": [
        "def encode_labels(data, cat):\n",
        "  data = data.copy()\n",
        "\n",
        "  enc_data = data[cat]\n",
        "\n",
        "  le = LabelEncoder()\n",
        "\n",
        "  for col in enc_data.columns:\n",
        "    data[col] = le.fit_transform(data[col])\n",
        "\n",
        "  return data\n"
      ],
      "metadata": {
        "id": "8uqMyLFRAUpB"
      },
      "execution_count": 73,
      "outputs": []
    },
    {
      "cell_type": "code",
      "source": [
        "ml_df_3_encoded = encode_labels(ml_df_3, ml_cat)\n",
        "ml_df_3_encoded.columns\n"
      ],
      "metadata": {
        "colab": {
          "base_uri": "https://localhost:8080/"
        },
        "id": "EBt9s7aKB6u8",
        "outputId": "fd95f842-8fd5-4f5a-8421-8d202e09968b"
      },
      "execution_count": 74,
      "outputs": [
        {
          "output_type": "execute_result",
          "data": {
            "text/plain": [
              "Index(['loan_amount_000s', 'applicant_income_000s', 'population',\n",
              "       'minority_population', 'census_tract_number',\n",
              "       'hud_median_family_income', 'tract_to_msamd_income',\n",
              "       'number_of_owner_occupied_units', 'number_of_1_to_4_family_units',\n",
              "       'agency_abbr', 'loan_type_name', 'property_type_name',\n",
              "       'loan_purpose_name', 'owner_occupancy_name', 'msamd_name',\n",
              "       'county_name', 'purchaser_type_name', 'hoepa_status_name',\n",
              "       'lien_status_name', 'action_taken'],\n",
              "      dtype='object')"
            ]
          },
          "metadata": {},
          "execution_count": 74
        }
      ]
    },
    {
      "cell_type": "code",
      "source": [
        "brfc_3, brfc_3_pred, brfc_3_importances = split_train_build_brfc(data=ml_df_3_encoded, target='action_taken', name='Balanced Random Forest Model Encoded Labels - Test 3', title='brfc_3')"
      ],
      "metadata": {
        "colab": {
          "base_uri": "https://localhost:8080/"
        },
        "id": "WqMMxjChDs4b",
        "outputId": "a00de0c0-0981-4c68-e79d-f960b543ea91"
      },
      "execution_count": 75,
      "outputs": [
        {
          "output_type": "stream",
          "name": "stdout",
          "text": [
            "split_target: Done!\n",
            "scale_data: Done!\n",
            "brfc_model: Done!\n",
            "Balanced Random Forest Model Encoded Labels - Test 3\n",
            "Accuracy Score: 0.8944\n",
            "          Predicted 0  Predicted 1\n",
            "Actual 0       152761        12800\n",
            "Actual 1        27119       175298\n",
            "                   pre       rec       spe        f1       geo       iba       sup\n",
            "\n",
            "          0       0.85      0.92      0.87      0.88      0.89      0.80    165561\n",
            "          1       0.93      0.87      0.92      0.90      0.89      0.79    202417\n",
            "\n",
            "avg / total       0.89      0.89      0.90      0.89      0.89      0.80    367978\n",
            "\n",
            "    importance                       parameter\n",
            "0     0.454992             purchaser_type_name\n",
            "1     0.145060                lien_status_name\n",
            "2     0.077933                loan_amount_000s\n",
            "3     0.075475           applicant_income_000s\n",
            "4     0.058027                     agency_abbr\n",
            "5     0.025028           tract_to_msamd_income\n",
            "6     0.024296             minority_population\n",
            "7     0.023806             census_tract_number\n",
            "8     0.022593                      population\n",
            "9     0.022434  number_of_owner_occupied_units\n",
            "10    0.022275   number_of_1_to_4_family_units\n",
            "11    0.016482               loan_purpose_name\n",
            "12    0.007753        hud_median_family_income\n",
            "13    0.006101                     county_name\n",
            "14    0.005530                      msamd_name\n",
            "15    0.005199                  loan_type_name\n",
            "16    0.004061            owner_occupancy_name\n",
            "17    0.002644              property_type_name\n",
            "18    0.000310               hoepa_status_name\n"
          ]
        }
      ]
    },
    {
      "cell_type": "code",
      "source": [],
      "metadata": {
        "id": "u7XyqMrcGfIS"
      },
      "execution_count": 75,
      "outputs": []
    }
  ]
}