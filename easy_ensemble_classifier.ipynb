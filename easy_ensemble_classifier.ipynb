{
 "cells": [
  {
   "cell_type": "code",
   "execution_count": 1,
   "metadata": {},
   "outputs": [],
   "source": [
    "import numpy as np\n",
    "import pandas as pd\n",
    "from pathlib import Path\n",
    "from collections import Counter"
   ]
  },
  {
   "cell_type": "code",
   "execution_count": 2,
   "metadata": {},
   "outputs": [],
   "source": [
    "from sklearn.preprocessing import StandardScaler\n",
    "from sklearn.model_selection import train_test_split\n",
    "from imblearn.ensemble import EasyEnsembleClassifier\n",
    "\n",
    "from sklearn.metrics import balanced_accuracy_score\n",
    "from sklearn.metrics import confusion_matrix\n",
    "from imblearn.metrics import classification_report_imbalanced"
   ]
  },
  {
   "cell_type": "code",
   "execution_count": 3,
   "metadata": {},
   "outputs": [],
   "source": [
    "path = Path('./data/numeric_database.csv')\n",
    "df = pd.read_csv(path, low_memory=False)"
   ]
  },
  {
   "cell_type": "code",
   "execution_count": 4,
   "metadata": {},
   "outputs": [],
   "source": [
    "def fix_target_column(member):\n",
    "    if member == 1:\n",
    "        return 0\n",
    "    else: \n",
    "        return 1\n"
   ]
  },
  {
   "cell_type": "code",
   "execution_count": 5,
   "metadata": {},
   "outputs": [],
   "source": [
    "df['action_taken'] = df['action_taken'].apply(fix_target_column)"
   ]
  },
  {
   "cell_type": "code",
   "execution_count": 6,
   "metadata": {},
   "outputs": [
    {
     "data": {
      "text/plain": [
       "0    828891\n",
       "1    680132\n",
       "Name: action_taken, dtype: int64"
      ]
     },
     "execution_count": 6,
     "metadata": {},
     "output_type": "execute_result"
    }
   ],
   "source": [
    "df['action_taken'].value_counts()"
   ]
  },
  {
   "cell_type": "code",
   "execution_count": 7,
   "metadata": {},
   "outputs": [
    {
     "name": "stdout",
     "output_type": "stream",
     "text": [
      "<class 'pandas.core.frame.DataFrame'>\n",
      "RangeIndex: 1509023 entries, 0 to 1509022\n",
      "Data columns (total 21 columns):\n",
      " #   Column                          Non-Null Count    Dtype  \n",
      "---  ------                          --------------    -----  \n",
      " 0   population                      1509023 non-null  float64\n",
      " 1   minority_population             1509023 non-null  float64\n",
      " 2   hud_median_family_income        1509023 non-null  float64\n",
      " 3   tract_to_msamd_income           1509023 non-null  float64\n",
      " 4   number_of_owner_occupied_units  1509023 non-null  float64\n",
      " 5   number_of_1_to_4_family_units   1509023 non-null  float64\n",
      " 6   applicant_sex                   1509023 non-null  int64  \n",
      " 7   co_applicant_sex                1509023 non-null  int64  \n",
      " 8   applicant_ethnicity             1509023 non-null  int64  \n",
      " 9   co_applicant_ethnicity          1509023 non-null  int64  \n",
      " 10  applicant_race_1                1509023 non-null  int64  \n",
      " 11  co_applicant_race_1             1509023 non-null  int64  \n",
      " 12  loan_amount_000s                1509023 non-null  float64\n",
      " 13  applicant_income_000s           1509023 non-null  float64\n",
      " 14  loan_type                       1509023 non-null  int64  \n",
      " 15  loan_purpose                    1509023 non-null  int64  \n",
      " 16  purchaser_type                  1509023 non-null  int64  \n",
      " 17  property_type                   1509023 non-null  int64  \n",
      " 18  owner_occupancy                 1509023 non-null  int64  \n",
      " 19  hoepa_status                    1509023 non-null  int64  \n",
      " 20  county_code                     1509023 non-null  float64\n",
      "dtypes: float64(9), int64(12)\n",
      "memory usage: 241.8 MB\n"
     ]
    }
   ],
   "source": [
    "X = df.copy()\n",
    "X = X.drop(columns=['action_taken','sequence_number'], axis=1)\n",
    "X.info()\n"
   ]
  },
  {
   "cell_type": "code",
   "execution_count": 8,
   "metadata": {},
   "outputs": [],
   "source": [
    "y = df['action_taken'].ravel()"
   ]
  },
  {
   "cell_type": "code",
   "execution_count": 9,
   "metadata": {},
   "outputs": [],
   "source": [
    "#scale data\n",
    "scaler = StandardScaler()\n",
    "X_scaler = scaler.fit(X)\n",
    "X_scaled_df = X_scaler.transform(X)"
   ]
  },
  {
   "cell_type": "code",
   "execution_count": 10,
   "metadata": {},
   "outputs": [],
   "source": [
    "# train test split\n",
    "X_train, X_test, y_train, y_test = train_test_split(X_scaled_df, y, random_state=3, stratify=y)"
   ]
  },
  {
   "cell_type": "code",
   "execution_count": 11,
   "metadata": {},
   "outputs": [],
   "source": [
    "# Easy Ensemble Classifier \n",
    "eec_model = EasyEnsembleClassifier()\n",
    "eec_model.fit(X_train, y_train)\n",
    "\n",
    "y_pred = eec_model.predict(X_test)"
   ]
  },
  {
   "cell_type": "code",
   "execution_count": 12,
   "metadata": {},
   "outputs": [
    {
     "name": "stdout",
     "output_type": "stream",
     "text": [
      "0.828865300368754\n"
     ]
    }
   ],
   "source": [
    "#balanced accuracy score\n",
    "print(f'Balanced Accuracy Score: Easy Ensemble AdaBoost Classifier')\n",
    "print(balanced_accuracy_score(y_test, y_pred))"
   ]
  },
  {
   "cell_type": "code",
   "execution_count": 13,
   "metadata": {},
   "outputs": [
    {
     "data": {
      "text/html": [
       "<div>\n",
       "<style scoped>\n",
       "    .dataframe tbody tr th:only-of-type {\n",
       "        vertical-align: middle;\n",
       "    }\n",
       "\n",
       "    .dataframe tbody tr th {\n",
       "        vertical-align: top;\n",
       "    }\n",
       "\n",
       "    .dataframe thead th {\n",
       "        text-align: right;\n",
       "    }\n",
       "</style>\n",
       "<table border=\"1\" class=\"dataframe\">\n",
       "  <thead>\n",
       "    <tr style=\"text-align: right;\">\n",
       "      <th></th>\n",
       "      <th>Predicted 0</th>\n",
       "      <th>Predicted 1</th>\n",
       "    </tr>\n",
       "  </thead>\n",
       "  <tbody>\n",
       "    <tr>\n",
       "      <th>Actual 0</th>\n",
       "      <td>165205</td>\n",
       "      <td>42018</td>\n",
       "    </tr>\n",
       "    <tr>\n",
       "      <th>Actual 1</th>\n",
       "      <td>23720</td>\n",
       "      <td>146313</td>\n",
       "    </tr>\n",
       "  </tbody>\n",
       "</table>\n",
       "</div>"
      ],
      "text/plain": [
       "          Predicted 0  Predicted 1\n",
       "Actual 0       165205        42018\n",
       "Actual 1        23720       146313"
      ]
     },
     "execution_count": 13,
     "metadata": {},
     "output_type": "execute_result"
    }
   ],
   "source": [
    "cm = confusion_matrix(y_test, y_pred)\n",
    "cm_df = pd.DataFrame(cm, index=['Actual 0','Actual 1'], columns=['Predicted 0','Predicted 1'])\n",
    "print(f'Confusion Matrix: Easy Ensemble AdaBoost Classifier')\n",
    "cm_df.head()"
   ]
  },
  {
   "cell_type": "code",
   "execution_count": 14,
   "metadata": {},
   "outputs": [
    {
     "name": "stdout",
     "output_type": "stream",
     "text": [
      "                   pre       rec       spe        f1       geo       iba       sup\n",
      "\n",
      "          0       0.87      0.80      0.86      0.83      0.83      0.68    207223\n",
      "          1       0.78      0.86      0.80      0.82      0.83      0.69    170033\n",
      "\n",
      "avg / total       0.83      0.83      0.83      0.83      0.83      0.69    377256\n",
      "\n"
     ]
    }
   ],
   "source": [
    "print(f'Imbalanced Classification Report: Balanced Random Forest Classifier - REDUCED')\n",
    "print(classification_report_imbalanced(y_test,y_pred))"
   ]
  },
  {
   "cell_type": "code",
   "execution_count": 15,
   "metadata": {},
   "outputs": [],
   "source": [
    "X_NH = X.copy()\n",
    "X_NH = X_NH.drop(columns='hoepa_status', axis=1)"
   ]
  },
  {
   "cell_type": "code",
   "execution_count": 16,
   "metadata": {},
   "outputs": [],
   "source": [
    "X_train_NH, X_test_NH, y_train_NH, y_test_NH = train_test_split(X_NH, y, random_state=3, stratify=y)"
   ]
  },
  {
   "cell_type": "code",
   "execution_count": 17,
   "metadata": {},
   "outputs": [],
   "source": [
    "eec_model.fit(X_train_NH, y_train_NH)\n",
    "\n",
    "y_pred_NH = eec_model.predict(X_test_NH)"
   ]
  },
  {
   "cell_type": "code",
   "execution_count": 18,
   "metadata": {},
   "outputs": [
    {
     "name": "stdout",
     "output_type": "stream",
     "text": [
      "Balanced Accuracy Score: Easy Ensemble AdaBoost Classifier - NO HOEPA STATUS\n",
      "0.8286977318525881\n"
     ]
    }
   ],
   "source": [
    "print(f'Balanced Accuracy Score: Easy Ensemble AdaBoost Classifier - NO HOEPA STATUS')\n",
    "print(balanced_accuracy_score(y_test_NH, y_pred_NH))"
   ]
  },
  {
   "cell_type": "code",
   "execution_count": 19,
   "metadata": {},
   "outputs": [
    {
     "name": "stdout",
     "output_type": "stream",
     "text": [
      "Confusion Matrix: Easy Ensemble AdaBoost Classifier - NO HOEPA STAT\n"
     ]
    },
    {
     "data": {
      "text/html": [
       "<div>\n",
       "<style scoped>\n",
       "    .dataframe tbody tr th:only-of-type {\n",
       "        vertical-align: middle;\n",
       "    }\n",
       "\n",
       "    .dataframe tbody tr th {\n",
       "        vertical-align: top;\n",
       "    }\n",
       "\n",
       "    .dataframe thead th {\n",
       "        text-align: right;\n",
       "    }\n",
       "</style>\n",
       "<table border=\"1\" class=\"dataframe\">\n",
       "  <thead>\n",
       "    <tr style=\"text-align: right;\">\n",
       "      <th></th>\n",
       "      <th>Predicted 0</th>\n",
       "      <th>Predicted 1</th>\n",
       "    </tr>\n",
       "  </thead>\n",
       "  <tbody>\n",
       "    <tr>\n",
       "      <th>Actual 0</th>\n",
       "      <td>164670</td>\n",
       "      <td>42553</td>\n",
       "    </tr>\n",
       "    <tr>\n",
       "      <th>Actual 1</th>\n",
       "      <td>23338</td>\n",
       "      <td>146695</td>\n",
       "    </tr>\n",
       "  </tbody>\n",
       "</table>\n",
       "</div>"
      ],
      "text/plain": [
       "          Predicted 0  Predicted 1\n",
       "Actual 0       164670        42553\n",
       "Actual 1        23338       146695"
      ]
     },
     "execution_count": 19,
     "metadata": {},
     "output_type": "execute_result"
    }
   ],
   "source": [
    "cm_NH = confusion_matrix(y_test_NH, y_pred_NH)\n",
    "cm_df_NH = pd.DataFrame(cm_NH, index=['Actual 0','Actual 1'], columns=['Predicted 0','Predicted 1'])\n",
    "print(f'Confusion Matrix: Easy Ensemble AdaBoost Classifier - NO HOEPA STAT')\n",
    "cm_df_NH.head()"
   ]
  },
  {
   "cell_type": "code",
   "execution_count": 21,
   "metadata": {},
   "outputs": [
    {
     "name": "stdout",
     "output_type": "stream",
     "text": [
      "Imbalanced Classification Report: Balanced Random Forest Classifier - REDUCED\n",
      "                   pre       rec       spe        f1       geo       iba       sup\n",
      "\n",
      "          0       0.88      0.79      0.86      0.83      0.83      0.68    207223\n",
      "          1       0.78      0.86      0.79      0.82      0.83      0.69    170033\n",
      "\n",
      "avg / total       0.83      0.83      0.83      0.83      0.83      0.69    377256\n",
      "\n"
     ]
    }
   ],
   "source": [
    "print(f'Imbalanced Classification Report: Balanced Random Forest Classifier - REDUCED')\n",
    "print(classification_report_imbalanced(y_test_NH,y_pred_NH))"
   ]
  },
  {
   "cell_type": "code",
   "execution_count": null,
   "metadata": {},
   "outputs": [],
   "source": []
  }
 ],
 "metadata": {
  "kernelspec": {
   "display_name": "mlenv",
   "language": "python",
   "name": "mlenv"
  },
  "language_info": {
   "codemirror_mode": {
    "name": "ipython",
    "version": 3
   },
   "file_extension": ".py",
   "mimetype": "text/x-python",
   "name": "python",
   "nbconvert_exporter": "python",
   "pygments_lexer": "ipython3",
   "version": "3.9.16 (main, Jan 11 2023, 16:16:36) [MSC v.1916 64 bit (AMD64)]"
  },
  "orig_nbformat": 4
 },
 "nbformat": 4,
 "nbformat_minor": 2
}
