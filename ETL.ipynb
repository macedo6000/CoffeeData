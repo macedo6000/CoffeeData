{
  "nbformat": 4,
  "nbformat_minor": 0,
  "metadata": {
    "colab": {
      "provenance": []
    },
    "kernelspec": {
      "name": "python3",
      "display_name": "Python 3"
    },
    "language_info": {
      "name": "python"
    }
  },
  "cells": [
    {
      "cell_type": "code",
      "execution_count": null,
      "metadata": {
        "colab": {
          "base_uri": "https://localhost:8080/"
        },
        "id": "9pc2R11lKyUT",
        "outputId": "a74cb3ca-6039-49f1-c7c9-86d46040036e"
      },
      "outputs": [
        {
          "output_type": "stream",
          "name": "stdout",
          "text": [
            "Ign:1 https://developer.download.nvidia.com/compute/machine-learning/repos/ubuntu2004/x86_64  InRelease\n",
            "Hit:2 https://developer.download.nvidia.com/compute/cuda/repos/ubuntu2004/x86_64  InRelease\n",
            "Get:3 http://security.ubuntu.com/ubuntu focal-security InRelease [114 kB]\n",
            "Hit:4 http://archive.ubuntu.com/ubuntu focal InRelease\n",
            "Hit:5 https://developer.download.nvidia.com/compute/machine-learning/repos/ubuntu2004/x86_64  Release\n",
            "Hit:6 http://ppa.launchpad.net/c2d4u.team/c2d4u4.0+/ubuntu focal InRelease\n",
            "Get:7 https://cloud.r-project.org/bin/linux/ubuntu focal-cran40/ InRelease [3,622 B]\n",
            "Get:8 http://archive.ubuntu.com/ubuntu focal-updates InRelease [114 kB]\n",
            "Hit:9 http://ppa.launchpad.net/cran/libgit2/ubuntu focal InRelease\n",
            "Hit:10 http://ppa.launchpad.net/deadsnakes/ppa/ubuntu focal InRelease\n",
            "Get:11 http://archive.ubuntu.com/ubuntu focal-backports InRelease [108 kB]\n",
            "Hit:12 http://ppa.launchpad.net/graphics-drivers/ppa/ubuntu focal InRelease\n",
            "Get:14 http://archive.ubuntu.com/ubuntu focal-updates/main amd64 Packages [2,921 kB]\n",
            "Get:15 http://archive.ubuntu.com/ubuntu focal-updates/universe amd64 Packages [1,291 kB]\n",
            "Fetched 4,552 kB in 8s (553 kB/s)\n",
            "Reading package lists... Done\n"
          ]
        }
      ],
      "source": [
        "import os\n",
        "\n",
        "spark_version = 'spark-3.1.3'\n",
        "os.environ['SPARK_VERSION']=spark_version\n",
        "\n",
        "# Install Spark and Java\n",
        "!apt-get update\n",
        "!apt-get install openjdk-11-jdk-headless -qq > /dev/null\n",
        "!wget -q http://www.apache.org/dist/spark/$SPARK_VERSION/$SPARK_VERSION-bin-hadoop2.7.tgz\n",
        "!tar xf $SPARK_VERSION-bin-hadoop2.7.tgz\n",
        "!pip install -q findspark\n",
        "\n",
        "# Set Environment Variables\n",
        "import os\n",
        "os.environ[\"JAVA_HOME\"] = \"/usr/lib/jvm/java-11-openjdk-amd64\"\n",
        "os.environ[\"SPARK_HOME\"] = f\"/content/{spark_version}-bin-hadoop2.7\"\n",
        "\n",
        "# Start a SparkSession\n",
        "import findspark\n",
        "findspark.init()"
      ]
    },
    {
      "cell_type": "code",
      "source": [
        "# Download the Postgres driver that will allow Spark to interact with Postgres.\n",
        "!wget https://jdbc.postgresql.org/download/postgresql-42.2.16.jar"
      ],
      "metadata": {
        "colab": {
          "base_uri": "https://localhost:8080/"
        },
        "id": "mZOeAik5ntp-",
        "outputId": "e455eae4-a2cd-42a1-ef0f-b8a2d0acb432"
      },
      "execution_count": null,
      "outputs": [
        {
          "output_type": "stream",
          "name": "stdout",
          "text": [
            "--2023-02-04 07:48:39--  https://jdbc.postgresql.org/download/postgresql-42.2.16.jar\n",
            "Resolving jdbc.postgresql.org (jdbc.postgresql.org)... 72.32.157.228, 2001:4800:3e1:1::228\n",
            "Connecting to jdbc.postgresql.org (jdbc.postgresql.org)|72.32.157.228|:443... connected.\n",
            "HTTP request sent, awaiting response... 200 OK\n",
            "Length: 1002883 (979K) [application/java-archive]\n",
            "Saving to: ‘postgresql-42.2.16.jar’\n",
            "\n",
            "postgresql-42.2.16. 100%[===================>] 979.38K  6.00MB/s    in 0.2s    \n",
            "\n",
            "2023-02-04 07:48:40 (6.00 MB/s) - ‘postgresql-42.2.16.jar’ saved [1002883/1002883]\n",
            "\n"
          ]
        }
      ]
    },
    {
      "cell_type": "code",
      "source": [
        "from pyspark.sql import SparkSession\n",
        "spark = SparkSession.builder.appName(\"Data_Cleaning\").config(\"spark.driver.extraClassPath\",\"/content/postgresql-42.2.16.jar\").getOrCreate()"
      ],
      "metadata": {
        "id": "jb0zZy_pLDae"
      },
      "execution_count": null,
      "outputs": []
    },
    {
      "cell_type": "code",
      "source": [
        "# read in data from s3\n",
        "from pyspark import SparkFiles\n",
        "url = 'https://hmda-data-bucket.s3.amazonaws.com/data/hmda_2017_ca_all-records_labels.csv'\n",
        "spark.sparkContext.addFile(url)\n",
        "df = spark.read.csv(SparkFiles.get('hmda_2017_ca_all-records_labels.csv'), sep=',', header=True, inferSchema=True)\n",
        "df.show()"
      ],
      "metadata": {
        "colab": {
          "base_uri": "https://localhost:8080/"
        },
        "id": "exB49hy9LKCt",
        "outputId": "ae82c32b-e924-45f3-8459-a267a9986cc9"
      },
      "execution_count": null,
      "outputs": [
        {
          "output_type": "stream",
          "name": "stdout",
          "text": [
            "+----------+-------------+--------------------+-----------+-----------+--------------+---------+--------------------+-------------+-----------------+------------+--------------------+---------------+----------------+--------------------+-----------+--------------------+------------+--------------------+-----+----------+----------+----------+--------------------+-----------+-------------------+------------------------+-------------------+---------------------------+----------------------+---------------------+----------------+---------------------+----------------+---------------------+----------------+---------------------+----------------+---------------------+----------------+------------------------+-------------------+------------------------+-------------------+------------------------+-------------------+------------------------+-------------------+------------------------+-------------------+--------------------+-------------+---------------------+----------------+---------------------+--------------------+--------------+--------------------+---------------+--------------------+---------------+--------------------+---------------+-----------+-----------------+------------+--------------------+-----------+----------------+-----------+---------------+----------+-------------------+------------------------+---------------------+------------------------------+-----------------------------+--------------------------+\n",
            "|as_of_year|respondent_id|         agency_name|agency_abbr|agency_code|loan_type_name|loan_type|  property_type_name|property_type|loan_purpose_name|loan_purpose|owner_occupancy_name|owner_occupancy|loan_amount_000s|    preapproval_name|preapproval|   action_taken_name|action_taken|          msamd_name|msamd|state_name|state_abbr|state_code|         county_name|county_code|census_tract_number|applicant_ethnicity_name|applicant_ethnicity|co_applicant_ethnicity_name|co_applicant_ethnicity|applicant_race_name_1|applicant_race_1|applicant_race_name_2|applicant_race_2|applicant_race_name_3|applicant_race_3|applicant_race_name_4|applicant_race_4|applicant_race_name_5|applicant_race_5|co_applicant_race_name_1|co_applicant_race_1|co_applicant_race_name_2|co_applicant_race_2|co_applicant_race_name_3|co_applicant_race_3|co_applicant_race_name_4|co_applicant_race_4|co_applicant_race_name_5|co_applicant_race_5|  applicant_sex_name|applicant_sex|co_applicant_sex_name|co_applicant_sex|applicant_income_000s| purchaser_type_name|purchaser_type|denial_reason_name_1|denial_reason_1|denial_reason_name_2|denial_reason_2|denial_reason_name_3|denial_reason_3|rate_spread|hoepa_status_name|hoepa_status|    lien_status_name|lien_status|edit_status_name|edit_status|sequence_number|population|minority_population|hud_median_family_income|tract_to_msamd_income|number_of_owner_occupied_units|number_of_1_to_4_family_units|application_date_indicator|\n",
            "+----------+-------------+--------------------+-----------+-----------+--------------+---------+--------------------+-------------+-----------------+------------+--------------------+---------------+----------------+--------------------+-----------+--------------------+------------+--------------------+-----+----------+----------+----------+--------------------+-----------+-------------------+------------------------+-------------------+---------------------------+----------------------+---------------------+----------------+---------------------+----------------+---------------------+----------------+---------------------+----------------+---------------------+----------------+------------------------+-------------------+------------------------+-------------------+------------------------+-------------------+------------------------+-------------------+------------------------+-------------------+--------------------+-------------+---------------------+----------------+---------------------+--------------------+--------------+--------------------+---------------+--------------------+---------------+--------------------+---------------+-----------+-----------------+------------+--------------------+-----------+----------------+-----------+---------------+----------+-------------------+------------------------+---------------------+------------------------------+-----------------------------+--------------------------+\n",
            "|      2017|   0000451965|Consumer Financia...|       CFPB|          9|  Conventional|        1|One-to-four famil...|            1| Home improvement|           2|Owner-occupied as...|              1|             570|      Not applicable|          3|Application denie...|           3|Sacramento, Rosev...|40900|California|        CA|         6|   Sacramento County|         67|              61.01|    Not Hispanic or L...|                  2|       Not Hispanic or L...|                     2|                White|               5|                 null|            null|                 null|            null|                 null|            null|                 null|            null|                   White|                  5|                    null|               null|                    null|               null|                    null|               null|                    null|               null|              Female|            2|                 Male|               1|                  144|Loan was not orig...|             0|      Credit history|              3|               Other|              9|                null|           null|       null| Not a HOEPA loan|           2|Secured by a firs...|          1|            null|       null|           null|      4824|  37.22999954223633|                   75200|    57.41999816894531|                           818|                         1626|                      null|\n",
            "|      2017|   0000146672|Consumer Financia...|       CFPB|          9|  Conventional|        1|One-to-four famil...|            1|    Home purchase|           1|Not owner-occupie...|              2|             185|      Not applicable|          3|Application denie...|           3|Riverside, San Be...|40140|California|        CA|         6|    Riverside County|         65|             432.27|    Not Hispanic or L...|                  2|            No co-applicant|                     5|                Asian|               2|                 null|            null|                 null|            null|                 null|            null|                 null|            null|         No co-applicant|                  8|                    null|               null|                    null|               null|                    null|               null|                    null|               null|              Female|            2|      No co-applicant|               5|                   51|Loan was not orig...|             0|Credit applicatio...|              7|                null|           null|                null|           null|       null| Not a HOEPA loan|           2|Secured by a firs...|          1|            null|       null|           null|      7404|  57.52000045776367|                   63200|   116.01000213623047|                          1215|                         1743|                      null|\n",
            "|      2017|   0000451965|Consumer Financia...|       CFPB|          9|  Conventional|        1|One-to-four famil...|            1|    Home purchase|           1|Owner-occupied as...|              1|            1079|      Not applicable|          3|     Loan originated|           1|Oakland, Hayward,...|36084|California|        CA|         6|      Alameda County|          1|             4038.0|    Information not p...|                  3|       Information not p...|                     3| Information not p...|               6|                 null|            null|                 null|            null|                 null|            null|                 null|            null|    Information not p...|                  6|                    null|               null|                    null|               null|                    null|               null|                    null|               null|Information not p...|            3| Information not p...|               3|                  278|Loan was not orig...|             0|                null|           null|                null|           null|                null|           null|       null| Not a HOEPA loan|           2|Secured by a firs...|          1|            null|       null|           null|      3372| 33.189998626708984|                   97400|   141.74000549316406|                           592|                         1105|                      null|\n",
            "|      2017|   13-6131491|Department of Hou...|        HUD|          7|  Conventional|        1|One-to-four famil...|            1|      Refinancing|           3|Owner-occupied as...|              1|             417|      Not applicable|          3|Application denie...|           3|Oakland, Hayward,...|36084|California|        CA|         6| Contra Costa County|         13|            3020.08|    Not Hispanic or L...|                  2|       Not Hispanic or L...|                     2|                White|               5|                 null|            null|                 null|            null|                 null|            null|                 null|            null|                   White|                  5|                    null|               null|                    null|               null|                    null|               null|                    null|               null|                Male|            1|               Female|               2|                  125|Loan was not orig...|             0|                null|           null|                null|           null|                null|           null|       null| Not a HOEPA loan|           2|Secured by a firs...|          1|            null|       null|           null|      8787|  65.12999725341797|                   97400|     97.2699966430664|                          1463|                         2164|                      null|\n",
            "|      2017|   33-0419992|Department of Hou...|        HUD|          7|   FHA-insured|        2|One-to-four famil...|            1|      Refinancing|           3|Owner-occupied as...|              1|             379|      Not applicable|          3|Application appro...|           2|Sacramento, Rosev...|40900|California|        CA|         6|   Sacramento County|         67|              58.01|    Not Hispanic or L...|                  2|            No co-applicant|                     5|                White|               5|                 null|            null|                 null|            null|                 null|            null|                 null|            null|         No co-applicant|                  8|                    null|               null|                    null|               null|                    null|               null|                    null|               null|                Male|            1|      No co-applicant|               5|                   86|Loan was not orig...|             0|                null|           null|                null|           null|                null|           null|       null| Not a HOEPA loan|           2|Secured by a firs...|          1|            null|       null|           null|      5356| 23.100000381469727|                   75200|   126.69000244140625|                          1711|                         2102|                      null|\n",
            "|      2017|   0000804963|Consumer Financia...|       CFPB|          9|  Conventional|        1|One-to-four famil...|            1|      Refinancing|           3|Owner-occupied as...|              1|             204|      Not applicable|          3|Application withd...|           4|         Fresno - CA|23420|California|        CA|         6|       Fresno County|         19|               41.0|    Not Hispanic or L...|                  2|       Not Hispanic or L...|                     2|                White|               5|                 null|            null|                 null|            null|                 null|            null|                 null|            null|                   White|                  5|                    null|               null|                    null|               null|                    null|               null|                    null|               null|                Male|            1|               Female|               2|                  278|Loan was not orig...|             0|                null|           null|                null|           null|                null|           null|       null| Not a HOEPA loan|           2|Secured by a firs...|          1|            null|       null|           null|      2817|   63.7599983215332|                   50000|   107.41000366210938|                           530|                          925|                      null|\n",
            "|      2017|   76-0561995|Department of Hou...|        HUD|          7|   FHA-insured|        2|One-to-four famil...|            1|      Refinancing|           3|Owner-occupied as...|              1|             357|      Not applicable|          3|Application withd...|           4|Riverside, San Be...|40140|California|        CA|         6|San Bernardino Co...|         71|              20.34|    Information not p...|                  3|            No co-applicant|                     5| Information not p...|               6|                 null|            null|                 null|            null|                 null|            null|                 null|            null|         No co-applicant|                  8|                    null|               null|                    null|               null|                    null|               null|                    null|               null|Information not p...|            3|      No co-applicant|               5|                   73|Loan was not orig...|             0|                null|           null|                null|           null|                null|           null|       null| Not a HOEPA loan|           2|Secured by a firs...|          1|            null|       null|           null|     15217|  67.79000091552734|                   63200|   179.02999877929688|                          2874|                         3826|                      null|\n",
            "|      2017|   72-1545376|Department of Hou...|        HUD|          7|   FHA-insured|        2|One-to-four famil...|            1|    Home purchase|           1|Owner-occupied as...|              1|             325|      Not applicable|          3|     Loan originated|           1|Riverside, San Be...|40140|California|        CA|         6|    Riverside County|         65|              432.2|    Not Hispanic or L...|                  2|            No co-applicant|                     5| Black or African ...|               3|                 null|            null|                 null|            null|                 null|            null|                 null|            null|         No co-applicant|                  8|                    null|               null|                    null|               null|                    null|               null|                    null|               null|                Male|            1|      No co-applicant|               5|                   97|Commercial bank, ...|             6|                null|           null|                null|           null|                null|           null|       null| Not a HOEPA loan|           2|Secured by a firs...|          1|            null|       null|           null|      3944|               52.0|                   63200|    75.08999633789062|                           485|                          708|                      null|\n",
            "|      2017|   80-0233937|Department of Hou...|        HUD|          7|  Conventional|        1|One-to-four famil...|            1|      Refinancing|           3|Owner-occupied as...|              1|             424|      Not applicable|          3|     Loan originated|           1|         Fresno - CA|23420|California|        CA|         6|       Fresno County|         19|              14.09|    Information not p...|                  3|            No co-applicant|                     5| Information not p...|               6|                 null|            null|                 null|            null|                 null|            null|                 null|            null|         No co-applicant|                  8|                    null|               null|                    null|               null|                    null|               null|                    null|               null|                Male|            1|      No co-applicant|               5|                  143|   Fannie Mae (FNMA)|             1|                null|           null|                null|           null|                null|           null|       null| Not a HOEPA loan|           2|Secured by a firs...|          1|            null|       null|           null|      2063|  61.95000076293945|                   50000|    193.2100067138672|                           447|                          668|                      null|\n",
            "|      2017|   0000706051|Office of the Com...|        OCC|          1|  Conventional|        1|Manufactured housing|            2|    Home purchase|           1|Owner-occupied as...|              1|             264|      Not applicable|          3|Application denie...|           3|Riverside, San Be...|40140|California|        CA|         6|    Riverside County|         65|             427.43|    Not Hispanic or L...|                  2|       Not Hispanic or L...|                     2|                White|               5|                 null|            null|                 null|            null|                 null|            null|                 null|            null|                   White|                  5|                    null|               null|                    null|               null|                    null|               null|                    null|               null|                Male|            1|                 Male|               1|                  196|Loan was not orig...|             0|          Collateral|              4|                null|           null|                null|           null|       null| Not a HOEPA loan|           2|Secured by a firs...|          1|            null|       null|           null|      2446|  45.29999923706055|                   63200|    131.9600067138672|                           570|                          700|                      null|\n",
            "|      2017|   7056000000|Department of Hou...|        HUD|          7|   FHA-insured|        2|One-to-four famil...|            1|      Refinancing|           3|Owner-occupied as...|              1|             311|      Not applicable|          3|Application denie...|           3|Oakland, Hayward,...|36084|California|        CA|         6|      Alameda County|          1|             4097.0|    Not Hispanic or L...|                  2|            No co-applicant|                     5| Black or African ...|               3|                 null|            null|                 null|            null|                 null|            null|                 null|            null|         No co-applicant|                  8|                    null|               null|                    null|               null|                    null|               null|                    null|               null|              Female|            2|      No co-applicant|               5|                   61|Loan was not orig...|             0|                null|           null|                null|           null|                null|           null|       null| Not a HOEPA loan|           2|Secured by a firs...|          1|            null|       null|           null|      5431|  97.80999755859375|                   97400|   43.119998931884766|                           608|                         1393|                      null|\n",
            "|      2017|   77-0158990|Department of Hou...|        HUD|          7|  Conventional|        1|One-to-four famil...|            1|    Home purchase|           1|Owner-occupied as...|              1|             238|      Not applicable|          3|     Loan originated|           1|Riverside, San Be...|40140|California|        CA|         6|San Bernardino Co...|         71|              99.08|      Hispanic or Latino|                  1|            No co-applicant|                     5|                White|               5|                 null|            null|                 null|            null|                 null|            null|                 null|            null|         No co-applicant|                  8|                    null|               null|                    null|               null|                    null|               null|                    null|               null|                Male|            1|      No co-applicant|               5|                   90|Life insurance co...|             7|                null|           null|                null|           null|                null|           null|       null| Not a HOEPA loan|           2|Secured by a firs...|          1|            null|       null|           null|      4824|  66.19000244140625|                   63200|                 84.0|                           873|                         1465|                      null|\n",
            "|      2017|   41-1795868|Department of Hou...|        HUD|          7|  Conventional|        1|One-to-four famil...|            1|      Refinancing|           3|Owner-occupied as...|              1|             108|      Not applicable|          3|File closed for i...|           5|Oakland, Hayward,...|36084|California|        CA|         6|      Alameda County|          1|             4104.0|      Hispanic or Latino|                  1|            No co-applicant|                     5| Information not p...|               6|                 null|            null|                 null|            null|                 null|            null|                 null|            null|         No co-applicant|                  8|                    null|               null|                    null|               null|                    null|               null|                    null|               null|              Female|            2|      No co-applicant|               5|                   22|Loan was not orig...|             0|                null|           null|                null|           null|                null|           null|       null| Not a HOEPA loan|           2|Secured by a firs...|          1|            null|       null|           null|      4344|   93.5999984741211|                   97400|    69.61000061035156|                           903|                         1316|                      null|\n",
            "|      2017|   0000451965|Consumer Financia...|       CFPB|          9|  Conventional|        1|One-to-four famil...|            1|      Refinancing|           3|Owner-occupied as...|              1|             216|      Not applicable|          3|     Loan originated|           1|Riverside, San Be...|40140|California|        CA|         6|    Riverside County|         65|             426.19|    Information not p...|                  3|       Information not p...|                     3| Information not p...|               6|                 null|            null|                 null|            null|                 null|            null|                 null|            null|    Information not p...|                  6|                    null|               null|                    null|               null|                    null|               null|                    null|               null|Information not p...|            3| Information not p...|               3|                   91|   Fannie Mae (FNMA)|             1|                null|           null|                null|           null|                null|           null|       null| Not a HOEPA loan|           2|Secured by a firs...|          1|            null|       null|           null|     11626|  82.01000213623047|                   63200|    102.0999984741211|                          1783|                         2877|                      null|\n",
            "|      2017|   0000959395|Consumer Financia...|       CFPB|          9|  Conventional|        1|One-to-four famil...|            1|      Refinancing|           3|Owner-occupied as...|              1|              93|      Not applicable|          3|     Loan originated|           1|Sacramento, Rosev...|40900|California|        CA|         6|   Sacramento County|         67|               36.0|    Information not p...|                  3|            No co-applicant|                     5| Information not p...|               6|                 null|            null|                 null|            null|                 null|            null|                 null|            null|         No co-applicant|                  8|                    null|               null|                    null|               null|                    null|               null|                    null|               null|Information not p...|            3|      No co-applicant|               5|                   57|   Fannie Mae (FNMA)|             1|                null|           null|                null|           null|                null|           null|       null| Not a HOEPA loan|           2|Secured by a firs...|          1|            null|       null|           null|      3010|  73.38999938964844|                   75200|   54.650001525878906|                           516|                         1029|                      null|\n",
            "|      2017|   47-0912342|Department of Hou...|        HUD|          7|  Conventional|        1|One-to-four famil...|            1|      Refinancing|           3|Owner-occupied as...|              1|             347|      Not applicable|          3|Application withd...|           4|Sacramento, Rosev...|40900|California|        CA|         6|   Sacramento County|         67|              93.31|      Hispanic or Latino|                  1|         Hispanic or Latino|                     1|                White|               5|                 null|            null|                 null|            null|                 null|            null|                 null|            null|                   White|                  5|                    null|               null|                    null|               null|                    null|               null|                    null|               null|                Male|            1|               Female|               2|                  157|Loan was not orig...|             0|                null|           null|                null|           null|                null|           null|       null| Not a HOEPA loan|           2|Secured by a firs...|          1|            null|       null|           null|      7670|  67.88999938964844|                   75200|   174.42999267578125|                          1582|                         2053|                      null|\n",
            "|      2017|   33-0419992|Department of Hou...|        HUD|          7|   FHA-insured|        2|One-to-four famil...|            1|      Refinancing|           3|Owner-occupied as...|              1|             331|      Not applicable|          3|Application denie...|           3|Oakland, Hayward,...|36084|California|        CA|         6|      Alameda County|          1|             4097.0|      Hispanic or Latino|                  1|         Hispanic or Latino|                     1|                White|               5|                 null|            null|                 null|            null|                 null|            null|                 null|            null|                   White|                  5|                    null|               null|                    null|               null|                    null|               null|                    null|               null|                Male|            1|               Female|               2|                   60|Loan was not orig...|             0|               Other|              9|                null|           null|                null|           null|       null| Not a HOEPA loan|           2|Secured by a firs...|          1|            null|       null|           null|      5431|  97.80999755859375|                   97400|   43.119998931884766|                           608|                         1393|                      null|\n",
            "|      2017|   0471809999|Department of Hou...|        HUD|          7|   FHA-insured|        2|One-to-four famil...|            1|    Home purchase|           1|Owner-occupied as...|              1|             145|Preapproval was n...|          2|     Loan originated|           1|         Fresno - CA|23420|California|        CA|         6|       Fresno County|         19|               41.0|      Hispanic or Latino|                  1|         Hispanic or Latino|                     1|                White|               5|                 null|            null|                 null|            null|                 null|            null|                 null|            null|                   White|                  5|                    null|               null|                    null|               null|                    null|               null|                    null|               null|                Male|            1|               Female|               2|                   30|   Ginnie Mae (GNMA)|             2|                null|           null|                null|           null|                null|           null|       null| Not a HOEPA loan|           2|Secured by a firs...|          1|            null|       null|           null|      2817|   63.7599983215332|                   50000|   107.41000366210938|                           530|                          925|                      null|\n",
            "|      2017|   33-0419992|Department of Hou...|        HUD|          7|  Conventional|        1|One-to-four famil...|            1|      Refinancing|           3|Owner-occupied as...|              1|             230|      Not applicable|          3|Application appro...|           2|Sacramento, Rosev...|40900|California|        CA|         6|   Sacramento County|         67|              61.01|      Hispanic or Latino|                  1|            No co-applicant|                     5|                White|               5|                 null|            null|                 null|            null|                 null|            null|                 null|            null|         No co-applicant|                  8|                    null|               null|                    null|               null|                    null|               null|                    null|               null|                Male|            1|      No co-applicant|               5|                   68|Loan was not orig...|             0|                null|           null|                null|           null|                null|           null|       null| Not a HOEPA loan|           2|Secured by a firs...|          1|            null|       null|           null|      4824|  37.22999954223633|                   75200|    57.41999816894531|                           818|                         1626|                      null|\n",
            "|      2017|   23-2769131|Department of Hou...|        HUD|          7|   FHA-insured|        2|One-to-four famil...|            1|    Home purchase|           1|Owner-occupied as...|              1|             386|Preapproval was n...|          2|     Loan originated|           1|Riverside, San Be...|40140|California|        CA|         6|    Riverside County|         65|             430.07|      Hispanic or Latino|                  1|            No co-applicant|                     5|                White|               5|                 null|            null|                 null|            null|                 null|            null|                 null|            null|         No co-applicant|                  8|                    null|               null|                    null|               null|                    null|               null|                    null|               null|              Female|            2|      No co-applicant|               5|                   72|   Ginnie Mae (GNMA)|             2|                null|           null|                null|           null|                null|           null|       null| Not a HOEPA loan|           2|Secured by a firs...|          1|            null|       null|           null|      6855|  42.29999923706055|                   63200|   134.47999572753906|                          1836|                         2262|                      null|\n",
            "+----------+-------------+--------------------+-----------+-----------+--------------+---------+--------------------+-------------+-----------------+------------+--------------------+---------------+----------------+--------------------+-----------+--------------------+------------+--------------------+-----+----------+----------+----------+--------------------+-----------+-------------------+------------------------+-------------------+---------------------------+----------------------+---------------------+----------------+---------------------+----------------+---------------------+----------------+---------------------+----------------+---------------------+----------------+------------------------+-------------------+------------------------+-------------------+------------------------+-------------------+------------------------+-------------------+------------------------+-------------------+--------------------+-------------+---------------------+----------------+---------------------+--------------------+--------------+--------------------+---------------+--------------------+---------------+--------------------+---------------+-----------+-----------------+------------+--------------------+-----------+----------------+-----------+---------------+----------+-------------------+------------------------+---------------------+------------------------------+-----------------------------+--------------------------+\n",
            "only showing top 20 rows\n",
            "\n"
          ]
        }
      ]
    },
    {
      "cell_type": "code",
      "source": [
        "print(f'Column Count: {len(df.columns)} | Row Count: {df.count()}')"
      ],
      "metadata": {
        "colab": {
          "base_uri": "https://localhost:8080/"
        },
        "id": "YE3Y6u4yLmXe",
        "outputId": "8c27e701-5d23-4c8f-8e41-d469e2fabcc0"
      },
      "execution_count": null,
      "outputs": [
        {
          "output_type": "stream",
          "name": "stdout",
          "text": [
            "Column Count: 78 | Row Count: 1714459\n"
          ]
        }
      ]
    },
    {
      "cell_type": "code",
      "source": [
        "def get_na_counts(data):\n",
        "  isna_dict = {}\n",
        "\n",
        "  for col in data.columns:\n",
        "    null_count = data.filter(data[col].isNull()).count()\n",
        "    isna_dict[f'{col}'] = null_count\n",
        "    \n",
        "\n",
        "  return isna_dict"
      ],
      "metadata": {
        "id": "D2HaZyGz7y2y"
      },
      "execution_count": null,
      "outputs": []
    },
    {
      "cell_type": "code",
      "source": [
        "df_isnull = get_na_counts(df)\n",
        "df_isnull"
      ],
      "metadata": {
        "colab": {
          "base_uri": "https://localhost:8080/"
        },
        "id": "GEMXqENh8OMG",
        "outputId": "c79cc25c-ea3b-4eb2-9257-d1fb1387ce4c"
      },
      "execution_count": null,
      "outputs": [
        {
          "output_type": "execute_result",
          "data": {
            "text/plain": [
              "{'as_of_year': 0,\n",
              " 'respondent_id': 0,\n",
              " 'agency_name': 0,\n",
              " 'agency_abbr': 0,\n",
              " 'agency_code': 0,\n",
              " 'loan_type_name': 0,\n",
              " 'loan_type': 0,\n",
              " 'property_type_name': 0,\n",
              " 'property_type': 0,\n",
              " 'loan_purpose_name': 0,\n",
              " 'loan_purpose': 0,\n",
              " 'owner_occupancy_name': 0,\n",
              " 'owner_occupancy': 0,\n",
              " 'loan_amount_000s': 945,\n",
              " 'preapproval_name': 0,\n",
              " 'preapproval': 0,\n",
              " 'action_taken_name': 0,\n",
              " 'action_taken': 0,\n",
              " 'msamd_name': 46808,\n",
              " 'msamd': 46529,\n",
              " 'state_name': 0,\n",
              " 'state_abbr': 0,\n",
              " 'state_code': 0,\n",
              " 'county_name': 1929,\n",
              " 'county_code': 1929,\n",
              " 'census_tract_number': 7461,\n",
              " 'applicant_ethnicity_name': 0,\n",
              " 'applicant_ethnicity': 0,\n",
              " 'co_applicant_ethnicity_name': 0,\n",
              " 'co_applicant_ethnicity': 0,\n",
              " 'applicant_race_name_1': 0,\n",
              " 'applicant_race_1': 0,\n",
              " 'applicant_race_name_2': 1701227,\n",
              " 'applicant_race_2': 1701227,\n",
              " 'applicant_race_name_3': 1713539,\n",
              " 'applicant_race_3': 1713539,\n",
              " 'applicant_race_name_4': 1714209,\n",
              " 'applicant_race_4': 1714209,\n",
              " 'applicant_race_name_5': 1714278,\n",
              " 'applicant_race_5': 1714278,\n",
              " 'co_applicant_race_name_1': 0,\n",
              " 'co_applicant_race_1': 0,\n",
              " 'co_applicant_race_name_2': 1709044,\n",
              " 'co_applicant_race_2': 1709044,\n",
              " 'co_applicant_race_name_3': 1714133,\n",
              " 'co_applicant_race_3': 1714133,\n",
              " 'co_applicant_race_name_4': 1714329,\n",
              " 'co_applicant_race_4': 1714329,\n",
              " 'co_applicant_race_name_5': 1714376,\n",
              " 'co_applicant_race_5': 1714376,\n",
              " 'applicant_sex_name': 0,\n",
              " 'applicant_sex': 0,\n",
              " 'co_applicant_sex_name': 0,\n",
              " 'co_applicant_sex': 0,\n",
              " 'applicant_income_000s': 195886,\n",
              " 'purchaser_type_name': 0,\n",
              " 'purchaser_type': 0,\n",
              " 'denial_reason_name_1': 1563937,\n",
              " 'denial_reason_1': 1563937,\n",
              " 'denial_reason_name_2': 1678908,\n",
              " 'denial_reason_2': 1678908,\n",
              " 'denial_reason_name_3': 1707994,\n",
              " 'denial_reason_3': 1707994,\n",
              " 'rate_spread': 1675072,\n",
              " 'hoepa_status_name': 0,\n",
              " 'hoepa_status': 0,\n",
              " 'lien_status_name': 0,\n",
              " 'lien_status': 0,\n",
              " 'edit_status_name': 1714459,\n",
              " 'edit_status': 1714459,\n",
              " 'sequence_number': 1714459,\n",
              " 'population': 7461,\n",
              " 'minority_population': 7461,\n",
              " 'hud_median_family_income': 7461,\n",
              " 'tract_to_msamd_income': 7461,\n",
              " 'number_of_owner_occupied_units': 7461,\n",
              " 'number_of_1_to_4_family_units': 7461,\n",
              " 'application_date_indicator': 1714459}"
            ]
          },
          "metadata": {},
          "execution_count": 7
        }
      ]
    },
    {
      "cell_type": "code",
      "source": [
        "drop_df = df.drop(\n",
        "    'as_of_year',\n",
        "    'respondent_id',\n",
        "    'edit_status',\n",
        "    'edit_status_name',\n",
        "    'sequence_number',\n",
        "    'application_date_indicator',\n",
        "    'applicant_race_2',\n",
        "    'applicant_race_3',\n",
        "    'applicant_race_4',\n",
        "    'applicant_race_5',\n",
        "    'applicant_race_name_2',\n",
        "    'applicant_race_name_3',\n",
        "    'applicant_race_name_4',\n",
        "    'applicant_race_name_5',\n",
        "    'co_applicant_race_2',\n",
        "    'co_applicant_race_3',\n",
        "    'co_applicant_race_4',\n",
        "    'co_applicant_race_5',\n",
        "    'co_applicant_race_name_2',\n",
        "    'co_applicant_race_name_3',\n",
        "    'co_applicant_race_name_4',\n",
        "    'co_applicant_race_name_5',\n",
        "    'denial_reason_1',\n",
        "    'denial_reason_2',\n",
        "    'denial_reason_3',\n",
        "    'denial_reason_name_1',\n",
        "    'denial_reason_name_2',\n",
        "    'denial_reason_name_3',\n",
        "    'rate_spread'\n",
        "    )"
      ],
      "metadata": {
        "id": "OGf8-6v60q2J"
      },
      "execution_count": null,
      "outputs": []
    },
    {
      "cell_type": "code",
      "source": [
        "print(f'Column Count: {len(drop_df.columns)} | Row Count: {drop_df.count()}')"
      ],
      "metadata": {
        "colab": {
          "base_uri": "https://localhost:8080/"
        },
        "id": "0DYBkkLX5wop",
        "outputId": "ec3510c3-c11f-484c-f349-bbf4c5a7240d"
      },
      "execution_count": null,
      "outputs": [
        {
          "output_type": "stream",
          "name": "stdout",
          "text": [
            "Column Count: 49 | Row Count: 1714459\n"
          ]
        }
      ]
    },
    {
      "cell_type": "code",
      "source": [
        "drop_df_isnull = get_na_counts(drop_df)\n",
        "drop_df_isnull"
      ],
      "metadata": {
        "colab": {
          "base_uri": "https://localhost:8080/"
        },
        "id": "pJK14zu77kQj",
        "outputId": "b9584370-e38d-4003-e760-25998415db31"
      },
      "execution_count": null,
      "outputs": [
        {
          "output_type": "execute_result",
          "data": {
            "text/plain": [
              "{'agency_name': 0,\n",
              " 'agency_abbr': 0,\n",
              " 'agency_code': 0,\n",
              " 'loan_type_name': 0,\n",
              " 'loan_type': 0,\n",
              " 'property_type_name': 0,\n",
              " 'property_type': 0,\n",
              " 'loan_purpose_name': 0,\n",
              " 'loan_purpose': 0,\n",
              " 'owner_occupancy_name': 0,\n",
              " 'owner_occupancy': 0,\n",
              " 'loan_amount_000s': 945,\n",
              " 'preapproval_name': 0,\n",
              " 'preapproval': 0,\n",
              " 'action_taken_name': 0,\n",
              " 'action_taken': 0,\n",
              " 'msamd_name': 46808,\n",
              " 'msamd': 46529,\n",
              " 'state_name': 0,\n",
              " 'state_abbr': 0,\n",
              " 'state_code': 0,\n",
              " 'county_name': 1929,\n",
              " 'county_code': 1929,\n",
              " 'census_tract_number': 7461,\n",
              " 'applicant_ethnicity_name': 0,\n",
              " 'applicant_ethnicity': 0,\n",
              " 'co_applicant_ethnicity_name': 0,\n",
              " 'co_applicant_ethnicity': 0,\n",
              " 'applicant_race_name_1': 0,\n",
              " 'applicant_race_1': 0,\n",
              " 'co_applicant_race_name_1': 0,\n",
              " 'co_applicant_race_1': 0,\n",
              " 'applicant_sex_name': 0,\n",
              " 'applicant_sex': 0,\n",
              " 'co_applicant_sex_name': 0,\n",
              " 'co_applicant_sex': 0,\n",
              " 'applicant_income_000s': 195886,\n",
              " 'purchaser_type_name': 0,\n",
              " 'purchaser_type': 0,\n",
              " 'hoepa_status_name': 0,\n",
              " 'hoepa_status': 0,\n",
              " 'lien_status_name': 0,\n",
              " 'lien_status': 0,\n",
              " 'population': 7461,\n",
              " 'minority_population': 7461,\n",
              " 'hud_median_family_income': 7461,\n",
              " 'tract_to_msamd_income': 7461,\n",
              " 'number_of_owner_occupied_units': 7461,\n",
              " 'number_of_1_to_4_family_units': 7461}"
            ]
          },
          "metadata": {},
          "execution_count": 10
        }
      ]
    },
    {
      "cell_type": "code",
      "source": [
        "from pyspark.sql.functions import monotonically_increasing_id\n",
        "\n",
        "def clean_data(data):\n",
        "  \n",
        "  data = data.dropna(how='any')\n",
        "  data = data.dropDuplicates()\n",
        "\n",
        "  clean_data = data.withColumn('application_id', monotonically_increasing_id())\n",
        "\n",
        "  return clean_data"
      ],
      "metadata": {
        "id": "JgxdOWUhLmr3"
      },
      "execution_count": null,
      "outputs": []
    },
    {
      "cell_type": "code",
      "source": [
        "cleaned_df = clean_data(drop_df)"
      ],
      "metadata": {
        "id": "mLp7Beq2V7gV"
      },
      "execution_count": null,
      "outputs": []
    },
    {
      "cell_type": "code",
      "source": [
        "print(f'Column Count: {len(cleaned_df.columns)} | Row Count: {cleaned_df.count()}')"
      ],
      "metadata": {
        "colab": {
          "base_uri": "https://localhost:8080/"
        },
        "id": "Q_ZMuwpKe1y0",
        "outputId": "32685821-7d8e-4882-a6c9-3630430219ff"
      },
      "execution_count": null,
      "outputs": [
        {
          "output_type": "stream",
          "name": "stdout",
          "text": [
            "Column Count: 50 | Row Count: 1473053\n"
          ]
        }
      ]
    },
    {
      "cell_type": "code",
      "source": [
        "df_type = []\n",
        "for dtype in cleaned_df.dtypes:\n",
        "  if dtype[1] not in df_type:\n",
        "    df_type.append(dtype[1])\n",
        "\n",
        "print(df_type)"
      ],
      "metadata": {
        "colab": {
          "base_uri": "https://localhost:8080/"
        },
        "id": "SRTxmB_Nfdkn",
        "outputId": "027c08d7-46ed-420c-9ef1-68c5c859bb87"
      },
      "execution_count": null,
      "outputs": [
        {
          "output_type": "stream",
          "name": "stdout",
          "text": [
            "['string', 'int', 'double', 'bigint']\n"
          ]
        }
      ]
    },
    {
      "cell_type": "code",
      "source": [
        "string_columns = [dtype[0] for dtype in cleaned_df.dtypes if 'string' in dtype[1]] + ['application_id']\n",
        "text_df = cleaned_df.select(string_columns)\n",
        "text_df.columns"
      ],
      "metadata": {
        "colab": {
          "base_uri": "https://localhost:8080/"
        },
        "id": "KLB_M2dMfdoY",
        "outputId": "03c69f1b-2585-458c-bf74-20ec4929eabf"
      },
      "execution_count": null,
      "outputs": [
        {
          "output_type": "execute_result",
          "data": {
            "text/plain": [
              "['agency_name',\n",
              " 'agency_abbr',\n",
              " 'loan_type_name',\n",
              " 'property_type_name',\n",
              " 'loan_purpose_name',\n",
              " 'owner_occupancy_name',\n",
              " 'preapproval_name',\n",
              " 'action_taken_name',\n",
              " 'msamd_name',\n",
              " 'state_name',\n",
              " 'state_abbr',\n",
              " 'county_name',\n",
              " 'applicant_ethnicity_name',\n",
              " 'co_applicant_ethnicity_name',\n",
              " 'applicant_race_name_1',\n",
              " 'co_applicant_race_name_1',\n",
              " 'applicant_sex_name',\n",
              " 'co_applicant_sex_name',\n",
              " 'purchaser_type_name',\n",
              " 'hoepa_status_name',\n",
              " 'lien_status_name',\n",
              " 'application_id']"
            ]
          },
          "metadata": {},
          "execution_count": 15
        }
      ]
    },
    {
      "cell_type": "code",
      "source": [
        "num_columns = [dtype[0] for dtype in cleaned_df.dtypes if 'string' not in dtype[1]]\n",
        "numeric_df = cleaned_df.select(num_columns)\n",
        "numeric_df.dtypes"
      ],
      "metadata": {
        "colab": {
          "base_uri": "https://localhost:8080/"
        },
        "id": "GoAEuTnil6Cr",
        "outputId": "b3a2b0ec-684b-48d2-b182-d7cf91a620a6"
      },
      "execution_count": null,
      "outputs": [
        {
          "output_type": "execute_result",
          "data": {
            "text/plain": [
              "[('agency_code', 'int'),\n",
              " ('loan_type', 'int'),\n",
              " ('property_type', 'int'),\n",
              " ('loan_purpose', 'int'),\n",
              " ('owner_occupancy', 'int'),\n",
              " ('loan_amount_000s', 'int'),\n",
              " ('preapproval', 'int'),\n",
              " ('action_taken', 'int'),\n",
              " ('msamd', 'int'),\n",
              " ('state_code', 'int'),\n",
              " ('county_code', 'int'),\n",
              " ('census_tract_number', 'double'),\n",
              " ('applicant_ethnicity', 'int'),\n",
              " ('co_applicant_ethnicity', 'int'),\n",
              " ('applicant_race_1', 'int'),\n",
              " ('co_applicant_race_1', 'int'),\n",
              " ('applicant_sex', 'int'),\n",
              " ('co_applicant_sex', 'int'),\n",
              " ('applicant_income_000s', 'int'),\n",
              " ('purchaser_type', 'int'),\n",
              " ('hoepa_status', 'int'),\n",
              " ('lien_status', 'int'),\n",
              " ('population', 'int'),\n",
              " ('minority_population', 'double'),\n",
              " ('hud_median_family_income', 'int'),\n",
              " ('tract_to_msamd_income', 'double'),\n",
              " ('number_of_owner_occupied_units', 'int'),\n",
              " ('number_of_1_to_4_family_units', 'int'),\n",
              " ('application_id', 'bigint')]"
            ]
          },
          "metadata": {},
          "execution_count": 16
        }
      ]
    },
    {
      "cell_type": "code",
      "source": [
        "double_types = [dtype[0] for dtype in cleaned_df.dtypes if 'double' in dtype[1]]\n",
        "double_types"
      ],
      "metadata": {
        "colab": {
          "base_uri": "https://localhost:8080/"
        },
        "id": "YYZ1inDvI67Y",
        "outputId": "5cd8293b-d4f5-4fc9-e76b-397059eb1e01"
      },
      "execution_count": null,
      "outputs": [
        {
          "output_type": "execute_result",
          "data": {
            "text/plain": [
              "['census_tract_number', 'minority_population', 'tract_to_msamd_income']"
            ]
          },
          "metadata": {},
          "execution_count": 17
        }
      ]
    },
    {
      "cell_type": "code",
      "source": [
        "print(f'text_data: Column Count: {len(text_df.columns)} | Row Count: {text_df.count()}')"
      ],
      "metadata": {
        "colab": {
          "base_uri": "https://localhost:8080/"
        },
        "id": "swWpuCeEOOEQ",
        "outputId": "f062f40a-6fe9-42cb-b619-9d67346aa304"
      },
      "execution_count": null,
      "outputs": [
        {
          "output_type": "stream",
          "name": "stdout",
          "text": [
            "text_data: Column Count: 22 | Row Count: 1473053\n"
          ]
        }
      ]
    },
    {
      "cell_type": "code",
      "source": [
        "print(f'numeric_data: Column Count: {len(numeric_df.columns)} | Row Count: {numeric_df.count()}')"
      ],
      "metadata": {
        "colab": {
          "base_uri": "https://localhost:8080/"
        },
        "id": "QOpVpva5OVnZ",
        "outputId": "c6af27b8-18ad-4483-d1bf-b3492316f7b6"
      },
      "execution_count": null,
      "outputs": [
        {
          "output_type": "stream",
          "name": "stdout",
          "text": [
            "numeric_data: Column Count: 29 | Row Count: 1473053\n"
          ]
        }
      ]
    },
    {
      "cell_type": "code",
      "source": [
        "cleaned_df.write.csv('./data/cleaned_data.csv')\n",
        "text_df.write.csv('./data/text_data.csv')\n",
        "numeric_df.write.csv('./data/numeric_data.csv')"
      ],
      "metadata": {
        "id": "a4ByyBxLJkJT"
      },
      "execution_count": null,
      "outputs": []
    },
    {
      "cell_type": "markdown",
      "source": [
        "# New Section"
      ],
      "metadata": {
        "id": "ObegMo-rRYhG"
      }
    },
    {
      "cell_type": "code",
      "source": [
        "cleaned_columns = list(cleaned_df.columns)\n",
        "text_columns = list(text_df.columns)\n",
        "numeric_columns = list(numeric_df.columns)"
      ],
      "metadata": {
        "id": "Ou5jMAHdDjVw"
      },
      "execution_count": null,
      "outputs": []
    },
    {
      "cell_type": "code",
      "source": [
        "# Configure settings for RDS\n",
        "mode = \"append\"\n",
        "jdbc_url=\"jdbc:postgresql://hmda-final-db.cfo8yzx2osax.us-east-1.rds.amazonaws.com:5432/hmda_db\"\n",
        "config = {\"user\":\"postgres\", \n",
        "          \"password\": \"Password\", \n",
        "          \"driver\":\"org.postgresql.Driver\"}"
      ],
      "metadata": {
        "id": "KupMTiQ6ltzy"
      },
      "execution_count": null,
      "outputs": []
    },
    {
      "cell_type": "code",
      "source": [
        "text_df.write.jdbc(url=jdbc_url, table='text_data', mode=mode, properties=config)"
      ],
      "metadata": {
        "id": "m13I9mimfdr0"
      },
      "execution_count": null,
      "outputs": []
    },
    {
      "cell_type": "code",
      "source": [
        "numeric_df.write.jdbc(url=jdbc_url, table='numeric_data', mode=mode, properties=config)"
      ],
      "metadata": {
        "id": "Naj9OulVfdvM"
      },
      "execution_count": null,
      "outputs": []
    },
    {
      "cell_type": "code",
      "source": [
        "print(text_columns)\n",
        "print(numeric_columns)"
      ],
      "metadata": {
        "colab": {
          "base_uri": "https://localhost:8080/"
        },
        "id": "V8ph6K66jZO1",
        "outputId": "472f64c1-93e5-4b9f-8d99-97988c1e4b29"
      },
      "execution_count": null,
      "outputs": [
        {
          "output_type": "stream",
          "name": "stdout",
          "text": [
            "['agency_name', 'agency_abbr', 'loan_type_name', 'property_type_name', 'loan_purpose_name', 'owner_occupancy_name', 'preapproval_name', 'action_taken_name', 'msamd_name', 'state_name', 'state_abbr', 'county_name', 'applicant_ethnicity_name', 'co_applicant_ethnicity_name', 'applicant_race_name_1', 'co_applicant_race_name_1', 'applicant_sex_name', 'co_applicant_sex_name', 'purchaser_type_name', 'hoepa_status_name', 'lien_status_name', 'application_id']\n",
            "['agency_code', 'loan_type', 'property_type', 'loan_purpose', 'owner_occupancy', 'loan_amount_000s', 'preapproval', 'action_taken', 'msamd', 'state_code', 'county_code', 'census_tract_number', 'applicant_ethnicity', 'co_applicant_ethnicity', 'applicant_race_1', 'co_applicant_race_1', 'applicant_sex', 'co_applicant_sex', 'applicant_income_000s', 'purchaser_type', 'hoepa_status', 'lien_status', 'population', 'minority_population', 'hud_median_family_income', 'tract_to_msamd_income', 'number_of_owner_occupied_units', 'number_of_1_to_4_family_units', 'application_id']\n"
          ]
        }
      ]
    }
  ]
}