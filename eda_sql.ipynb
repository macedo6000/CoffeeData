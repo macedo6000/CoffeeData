{
 "cells": [
  {
   "cell_type": "code",
   "execution_count": 4,
   "metadata": {},
   "outputs": [],
   "source": [
    "# import dependencies\n",
    "import pandas as pd\n",
    "from path import Path \n",
    "import numpy as np \n",
    "import os\n",
    "from random import randint"
   ]
  },
  {
   "cell_type": "code",
   "execution_count": 5,
   "metadata": {},
   "outputs": [],
   "source": [
    "def get_sql_table_schema(data, table_name):\n",
    "    data = data.copy()\n",
    "    \n",
    "    print(f'CREATE TABLE {table_name} (')\n",
    "\n",
    "    for col in data.columns:\n",
    "        if data[col].dtypes == 'int64':\n",
    "            sql_dtype = 'INTEGER'\n",
    "        elif data[col].dtypes == 'float64':\n",
    "            sql_dtype = 'NUMERIC'\n",
    "        else: \n",
    "            sql_dtype =  'VARCHAR'\n",
    "        \n",
    "        print(f'{col} {sql_dtype},')\n",
    "    \n",
    "    print(')')"
   ]
  },
  {
   "cell_type": "code",
   "execution_count": 7,
   "metadata": {},
   "outputs": [],
   "source": [
    "# raw_data\n",
    "raw_data_path = Path('./data/raw_data.csv')\n",
    "raw_df = pd.read_csv(raw_data_path, low_memory=False)\n",
    "\n",
    "# numeric_database\n",
    "num_path = Path('./data/numeric_database.csv')\n",
    "numeric_df = pd.read_csv(num_path, low_memory=False)\n",
    "\n",
    "#loan_info \n",
    "loan_info_path = Path('./data/loan_info_database.csv')\n",
    "loan_info_df = pd.read_csv(loan_info_path, low_memory=False)\n",
    "\n",
    "#demographics_\n",
    "demographics_path = Path('./data/demographics_database.csv')\n",
    "demographics_df = pd.read_csv(demographics_path, low_memory=False)\n",
    "\n",
    "#name_num\n",
    "name_num_path = Path('./data/name_number_table.csv')\n",
    "name_number_df = pd.read_csv(name_num_path, low_memory=False)"
   ]
  },
  {
   "cell_type": "code",
   "execution_count": 8,
   "metadata": {},
   "outputs": [
    {
     "name": "stdout",
     "output_type": "stream",
     "text": [
      "CREATE TABLE raw_data (\n",
      "as_of_year INTEGER,\n",
      "respondent_id VARCHAR,\n",
      "agency_name VARCHAR,\n",
      "agency_abbr VARCHAR,\n",
      "agency_code INTEGER,\n",
      "loan_type_name VARCHAR,\n",
      "loan_type INTEGER,\n",
      "property_type_name VARCHAR,\n",
      "property_type INTEGER,\n",
      "loan_purpose_name VARCHAR,\n",
      "loan_purpose INTEGER,\n",
      "owner_occupancy_name VARCHAR,\n",
      "owner_occupancy INTEGER,\n",
      "loan_amount_000s NUMERIC,\n",
      "preapproval_name VARCHAR,\n",
      "preapproval INTEGER,\n",
      "action_taken_name VARCHAR,\n",
      "action_taken INTEGER,\n",
      "msamd_name VARCHAR,\n",
      "msamd NUMERIC,\n",
      "state_name VARCHAR,\n",
      "state_abbr VARCHAR,\n",
      "state_code INTEGER,\n",
      "county_name VARCHAR,\n",
      "county_code NUMERIC,\n",
      "census_tract_number NUMERIC,\n",
      "applicant_ethnicity_name VARCHAR,\n",
      "applicant_ethnicity INTEGER,\n",
      "co_applicant_ethnicity_name VARCHAR,\n",
      "co_applicant_ethnicity INTEGER,\n",
      "applicant_race_name_1 VARCHAR,\n",
      "applicant_race_1 INTEGER,\n",
      "applicant_race_name_2 VARCHAR,\n",
      "applicant_race_2 NUMERIC,\n",
      "applicant_race_name_3 VARCHAR,\n",
      "applicant_race_3 NUMERIC,\n",
      "applicant_race_name_4 VARCHAR,\n",
      "applicant_race_4 NUMERIC,\n",
      "applicant_race_name_5 VARCHAR,\n",
      "applicant_race_5 NUMERIC,\n",
      "co_applicant_race_name_1 VARCHAR,\n",
      "co_applicant_race_1 INTEGER,\n",
      "co_applicant_race_name_2 VARCHAR,\n",
      "co_applicant_race_2 NUMERIC,\n",
      "co_applicant_race_name_3 VARCHAR,\n",
      "co_applicant_race_3 NUMERIC,\n",
      "co_applicant_race_name_4 VARCHAR,\n",
      "co_applicant_race_4 NUMERIC,\n",
      "co_applicant_race_name_5 VARCHAR,\n",
      "co_applicant_race_5 NUMERIC,\n",
      "applicant_sex_name VARCHAR,\n",
      "applicant_sex INTEGER,\n",
      "co_applicant_sex_name VARCHAR,\n",
      "co_applicant_sex INTEGER,\n",
      "applicant_income_000s NUMERIC,\n",
      "purchaser_type_name VARCHAR,\n",
      "purchaser_type INTEGER,\n",
      "denial_reason_name_1 VARCHAR,\n",
      "denial_reason_1 NUMERIC,\n",
      "denial_reason_name_2 VARCHAR,\n",
      "denial_reason_2 NUMERIC,\n",
      "denial_reason_name_3 VARCHAR,\n",
      "denial_reason_3 NUMERIC,\n",
      "rate_spread NUMERIC,\n",
      "hoepa_status_name VARCHAR,\n",
      "hoepa_status INTEGER,\n",
      "lien_status_name VARCHAR,\n",
      "lien_status INTEGER,\n",
      "edit_status_name VARCHAR,\n",
      "edit_status INTEGER,\n",
      "sequence_number INTEGER,\n",
      "population NUMERIC,\n",
      "minority_population NUMERIC,\n",
      "hud_median_family_income NUMERIC,\n",
      "tract_to_msamd_income NUMERIC,\n",
      "number_of_owner_occupied_units NUMERIC,\n",
      "number_of_1_to_4_family_units NUMERIC,\n",
      "application_date_indicator NUMERIC,\n",
      ")\n"
     ]
    }
   ],
   "source": [
    "get_sql_table_schema(data=raw_df, table_name='raw_data')"
   ]
  },
  {
   "cell_type": "code",
   "execution_count": 9,
   "metadata": {},
   "outputs": [
    {
     "name": "stdout",
     "output_type": "stream",
     "text": [
      "CREATE TABLE numeric_data (\n",
      "sequence_number INTEGER,\n",
      "population NUMERIC,\n",
      "minority_population NUMERIC,\n",
      "hud_median_family_income NUMERIC,\n",
      "tract_to_msamd_income NUMERIC,\n",
      "number_of_owner_occupied_units NUMERIC,\n",
      "number_of_1_to_4_family_units NUMERIC,\n",
      "applicant_sex INTEGER,\n",
      "co_applicant_sex INTEGER,\n",
      "applicant_ethnicity INTEGER,\n",
      "co_applicant_ethnicity INTEGER,\n",
      "applicant_race_1 INTEGER,\n",
      "co_applicant_race_1 INTEGER,\n",
      "loan_amount_000s NUMERIC,\n",
      "applicant_income_000s NUMERIC,\n",
      "loan_type INTEGER,\n",
      "loan_purpose INTEGER,\n",
      "purchaser_type INTEGER,\n",
      "property_type INTEGER,\n",
      "owner_occupancy INTEGER,\n",
      "hoepa_status INTEGER,\n",
      "county_code NUMERIC,\n",
      ")\n"
     ]
    }
   ],
   "source": [
    "get_sql_table_schema(data=numeric_df, table_name='numeric_data')"
   ]
  },
  {
   "cell_type": "code",
   "execution_count": 10,
   "metadata": {},
   "outputs": [
    {
     "name": "stdout",
     "output_type": "stream",
     "text": [
      "CREATE TABLE loan_info_data (\n",
      "sequence_number INTEGER,\n",
      "loan_amount_000s NUMERIC,\n",
      "applicant_income_000s NUMERIC,\n",
      "loan_type INTEGER,\n",
      "loan_purpose INTEGER,\n",
      "purchaser_type INTEGER,\n",
      "property_type INTEGER,\n",
      "owner_occupancy INTEGER,\n",
      "hoepa_status INTEGER,\n",
      "county_code NUMERIC,\n",
      ")\n"
     ]
    }
   ],
   "source": [
    "get_sql_table_schema(data=loan_info_df, table_name='loan_info_data')"
   ]
  },
  {
   "cell_type": "code",
   "execution_count": 11,
   "metadata": {},
   "outputs": [
    {
     "name": "stdout",
     "output_type": "stream",
     "text": [
      "CREATE TABLE demographic_data (\n",
      "sequence_number INTEGER,\n",
      "population NUMERIC,\n",
      "minority_population NUMERIC,\n",
      "hud_median_family_income NUMERIC,\n",
      "tract_to_msamd_income NUMERIC,\n",
      "number_of_owner_occupied_units NUMERIC,\n",
      "number_of_1_to_4_family_units NUMERIC,\n",
      "applicant_sex INTEGER,\n",
      "co_applicant_sex INTEGER,\n",
      "applicant_ethnicity INTEGER,\n",
      "co_applicant_ethnicity INTEGER,\n",
      "applicant_race_1 INTEGER,\n",
      "co_applicant_race_1 INTEGER,\n",
      ")\n"
     ]
    }
   ],
   "source": [
    "get_sql_table_schema(data=demographics_df, table_name='demographic_data')"
   ]
  },
  {
   "cell_type": "code",
   "execution_count": 12,
   "metadata": {},
   "outputs": [
    {
     "name": "stdout",
     "output_type": "stream",
     "text": [
      "CREATE TABLE name_number_count (\n",
      "Unnamed: 0 INTEGER,\n",
      "label_name VARCHAR,\n",
      "label_number INTEGER,\n",
      "label_count INTEGER,\n",
      "column_name VARCHAR,\n",
      ")\n"
     ]
    }
   ],
   "source": [
    "get_sql_table_schema(data=name_number_df, table_name='name_number_count')"
   ]
  },
  {
   "cell_type": "code",
   "execution_count": null,
   "metadata": {},
   "outputs": [],
   "source": []
  }
 ],
 "metadata": {
  "kernelspec": {
   "display_name": "mlenv",
   "language": "python",
   "name": "mlenv"
  },
  "language_info": {
   "codemirror_mode": {
    "name": "ipython",
    "version": 3
   },
   "file_extension": ".py",
   "mimetype": "text/x-python",
   "name": "python",
   "nbconvert_exporter": "python",
   "pygments_lexer": "ipython3",
   "version": "3.9.16"
  },
  "orig_nbformat": 4
 },
 "nbformat": 4,
 "nbformat_minor": 2
}
