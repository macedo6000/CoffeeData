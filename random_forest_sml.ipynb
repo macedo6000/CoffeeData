{
 "cells": [
  {
   "cell_type": "code",
   "execution_count": 2,
   "metadata": {},
   "outputs": [],
   "source": [
    "import numpy as np\n",
    "import pandas as pd\n",
    "from pathlib import Path\n",
    "from collections import Counter"
   ]
  },
  {
   "cell_type": "code",
   "execution_count": 3,
   "metadata": {},
   "outputs": [],
   "source": [
    "from sklearn.metrics import balanced_accuracy_score\n",
    "from sklearn.metrics import confusion_matrix\n",
    "from imblearn.metrics import classification_report_imbalanced"
   ]
  },
  {
   "cell_type": "code",
   "execution_count": 4,
   "metadata": {},
   "outputs": [],
   "source": [
    "path = Path('./data/numeric_database.csv')\n",
    "df = pd.read_csv(path, low_memory=False)"
   ]
  },
  {
   "cell_type": "code",
   "execution_count": 5,
   "metadata": {},
   "outputs": [],
   "source": [
    "def fix_target_column(member):\n",
    "    if member == 1:\n",
    "        return 0\n",
    "    else: \n",
    "        return 1\n"
   ]
  },
  {
   "cell_type": "code",
   "execution_count": 6,
   "metadata": {},
   "outputs": [],
   "source": [
    "df['action_taken'] = df['action_taken'].apply(fix_target_column)"
   ]
  },
  {
   "cell_type": "code",
   "execution_count": 7,
   "metadata": {},
   "outputs": [
    {
     "data": {
      "text/plain": [
       "0    828891\n",
       "1    680132\n",
       "Name: action_taken, dtype: int64"
      ]
     },
     "execution_count": 7,
     "metadata": {},
     "output_type": "execute_result"
    }
   ],
   "source": [
    "df['action_taken'].value_counts()"
   ]
  },
  {
   "cell_type": "code",
   "execution_count": 8,
   "metadata": {},
   "outputs": [
    {
     "name": "stdout",
     "output_type": "stream",
     "text": [
      "<class 'pandas.core.frame.DataFrame'>\n",
      "RangeIndex: 1509023 entries, 0 to 1509022\n",
      "Data columns (total 21 columns):\n",
      " #   Column                          Non-Null Count    Dtype  \n",
      "---  ------                          --------------    -----  \n",
      " 0   population                      1509023 non-null  float64\n",
      " 1   minority_population             1509023 non-null  float64\n",
      " 2   hud_median_family_income        1509023 non-null  float64\n",
      " 3   tract_to_msamd_income           1509023 non-null  float64\n",
      " 4   number_of_owner_occupied_units  1509023 non-null  float64\n",
      " 5   number_of_1_to_4_family_units   1509023 non-null  float64\n",
      " 6   applicant_sex                   1509023 non-null  int64  \n",
      " 7   co_applicant_sex                1509023 non-null  int64  \n",
      " 8   applicant_ethnicity             1509023 non-null  int64  \n",
      " 9   co_applicant_ethnicity          1509023 non-null  int64  \n",
      " 10  applicant_race_1                1509023 non-null  int64  \n",
      " 11  co_applicant_race_1             1509023 non-null  int64  \n",
      " 12  loan_amount_000s                1509023 non-null  float64\n",
      " 13  applicant_income_000s           1509023 non-null  float64\n",
      " 14  loan_type                       1509023 non-null  int64  \n",
      " 15  loan_purpose                    1509023 non-null  int64  \n",
      " 16  purchaser_type                  1509023 non-null  int64  \n",
      " 17  property_type                   1509023 non-null  int64  \n",
      " 18  owner_occupancy                 1509023 non-null  int64  \n",
      " 19  hoepa_status                    1509023 non-null  int64  \n",
      " 20  county_code                     1509023 non-null  float64\n",
      "dtypes: float64(9), int64(12)\n",
      "memory usage: 241.8 MB\n"
     ]
    }
   ],
   "source": [
    "X = df.copy()\n",
    "X = X.drop(columns=['action_taken','sequence_number'], axis=1)\n",
    "X.info()\n"
   ]
  },
  {
   "cell_type": "code",
   "execution_count": 9,
   "metadata": {},
   "outputs": [],
   "source": [
    "y = df['action_taken'].ravel()"
   ]
  },
  {
   "cell_type": "code",
   "execution_count": 10,
   "metadata": {},
   "outputs": [],
   "source": [
    "#scale data\n",
    "from sklearn.preprocessing import StandardScaler\n",
    "scaler = StandardScaler()\n",
    "X_scaler = scaler.fit(X)\n",
    "X_scaled_df = X_scaler.transform(X)"
   ]
  },
  {
   "cell_type": "code",
   "execution_count": 11,
   "metadata": {},
   "outputs": [],
   "source": [
    "from sklearn.model_selection import train_test_split\n",
    "# train test split\n",
    "X_train, X_test, y_train, y_test = train_test_split(X_scaled_df, y, random_state=3, stratify=y)"
   ]
  },
  {
   "cell_type": "code",
   "execution_count": 18,
   "metadata": {},
   "outputs": [],
   "source": [
    "# Easy Ensemble Classifier \n",
    "from imblearn.ensemble import EasyEnsembleClassifier\n",
    "eec_model = EasyEnsembleClassifier()\n",
    "eec_model.fit(X_train, y_train)\n",
    "\n",
    "y_pred = eec_model.predict(X_test)"
   ]
  },
  {
   "cell_type": "code",
   "execution_count": 19,
   "metadata": {},
   "outputs": [
    {
     "name": "stdout",
     "output_type": "stream",
     "text": [
      "0.8287392760686865\n"
     ]
    }
   ],
   "source": [
    "#balanced accuracy score\n",
    "\n",
    "print(balanced_accuracy_score(y_test, y_pred))"
   ]
  },
  {
   "cell_type": "code",
   "execution_count": 22,
   "metadata": {},
   "outputs": [
    {
     "data": {
      "text/html": [
       "<div>\n",
       "<style scoped>\n",
       "    .dataframe tbody tr th:only-of-type {\n",
       "        vertical-align: middle;\n",
       "    }\n",
       "\n",
       "    .dataframe tbody tr th {\n",
       "        vertical-align: top;\n",
       "    }\n",
       "\n",
       "    .dataframe thead th {\n",
       "        text-align: right;\n",
       "    }\n",
       "</style>\n",
       "<table border=\"1\" class=\"dataframe\">\n",
       "  <thead>\n",
       "    <tr style=\"text-align: right;\">\n",
       "      <th></th>\n",
       "      <th>Predicted 0</th>\n",
       "      <th>Predicted 1</th>\n",
       "    </tr>\n",
       "  </thead>\n",
       "  <tbody>\n",
       "    <tr>\n",
       "      <th>Actual 0</th>\n",
       "      <td>164647</td>\n",
       "      <td>42576</td>\n",
       "    </tr>\n",
       "    <tr>\n",
       "      <th>Actual 1</th>\n",
       "      <td>23305</td>\n",
       "      <td>146728</td>\n",
       "    </tr>\n",
       "  </tbody>\n",
       "</table>\n",
       "</div>"
      ],
      "text/plain": [
       "          Predicted 0  Predicted 1\n",
       "Actual 0       164647        42576\n",
       "Actual 1        23305       146728"
      ]
     },
     "execution_count": 22,
     "metadata": {},
     "output_type": "execute_result"
    }
   ],
   "source": [
    "cm = confusion_matrix(y_test, y_pred)\n",
    "cm_df = pd.DataFrame(cm, index=['Actual 0','Actual 1'], columns=['Predicted 0','Predicted 1'])\n",
    "cm_df.head()"
   ]
  },
  {
   "cell_type": "code",
   "execution_count": 23,
   "metadata": {},
   "outputs": [
    {
     "name": "stdout",
     "output_type": "stream",
     "text": [
      "                   pre       rec       spe        f1       geo       iba       sup\n",
      "\n",
      "          0       0.88      0.79      0.86      0.83      0.83      0.68    207223\n",
      "          1       0.78      0.86      0.79      0.82      0.83      0.69    170033\n",
      "\n",
      "avg / total       0.83      0.83      0.83      0.83      0.83      0.69    377256\n",
      "\n"
     ]
    }
   ],
   "source": [
    "print(classification_report_imbalanced(y_test,y_pred))"
   ]
  },
  {
   "cell_type": "code",
   "execution_count": 12,
   "metadata": {},
   "outputs": [],
   "source": [
    "# balanced random forest classifier \n",
    "from imblearn.ensemble import BalancedRandomForestClassifier\n",
    "brfc = BalancedRandomForestClassifier()\n",
    "brfc.fit(X_train, y_train)\n",
    "y_pred = brfc.predict(X_test)"
   ]
  },
  {
   "cell_type": "code",
   "execution_count": 17,
   "metadata": {},
   "outputs": [
    {
     "name": "stdout",
     "output_type": "stream",
     "text": [
      "Balanced Accuracy Score: Balanced Random Forest Classifier\n",
      "0.8258958861151321\n"
     ]
    }
   ],
   "source": [
    "print(f'Balanced Accuracy Score: Balanced Random Forest Classifier')\n",
    "print(balanced_accuracy_score(y_test, y_pred))"
   ]
  },
  {
   "cell_type": "code",
   "execution_count": 15,
   "metadata": {},
   "outputs": [
    {
     "data": {
      "text/html": [
       "<div>\n",
       "<style scoped>\n",
       "    .dataframe tbody tr th:only-of-type {\n",
       "        vertical-align: middle;\n",
       "    }\n",
       "\n",
       "    .dataframe tbody tr th {\n",
       "        vertical-align: top;\n",
       "    }\n",
       "\n",
       "    .dataframe thead th {\n",
       "        text-align: right;\n",
       "    }\n",
       "</style>\n",
       "<table border=\"1\" class=\"dataframe\">\n",
       "  <thead>\n",
       "    <tr style=\"text-align: right;\">\n",
       "      <th></th>\n",
       "      <th>Predicted 0</th>\n",
       "      <th>Predicted 1</th>\n",
       "    </tr>\n",
       "  </thead>\n",
       "  <tbody>\n",
       "    <tr>\n",
       "      <th>Actual 0</th>\n",
       "      <td>167845</td>\n",
       "      <td>39378</td>\n",
       "    </tr>\n",
       "    <tr>\n",
       "      <th>Actual 1</th>\n",
       "      <td>26896</td>\n",
       "      <td>143137</td>\n",
       "    </tr>\n",
       "  </tbody>\n",
       "</table>\n",
       "</div>"
      ],
      "text/plain": [
       "          Predicted 0  Predicted 1\n",
       "Actual 0       167845        39378\n",
       "Actual 1        26896       143137"
      ]
     },
     "execution_count": 15,
     "metadata": {},
     "output_type": "execute_result"
    }
   ],
   "source": [
    "cm = confusion_matrix(y_test, y_pred)\n",
    "cm_df = pd.DataFrame(cm, index=['Actual 0','Actual 1'], columns=['Predicted 0','Predicted 1'])\n",
    "cm_df.head()"
   ]
  },
  {
   "cell_type": "code",
   "execution_count": 16,
   "metadata": {},
   "outputs": [
    {
     "name": "stdout",
     "output_type": "stream",
     "text": [
      "                   pre       rec       spe        f1       geo       iba       sup\n",
      "\n",
      "          0       0.86      0.81      0.84      0.84      0.83      0.68    207223\n",
      "          1       0.78      0.84      0.81      0.81      0.83      0.68    170033\n",
      "\n",
      "avg / total       0.83      0.82      0.83      0.82      0.83      0.68    377256\n",
      "\n"
     ]
    }
   ],
   "source": [
    "print(classification_report_imbalanced(y_test,y_pred))"
   ]
  },
  {
   "cell_type": "code",
   "execution_count": 18,
   "metadata": {},
   "outputs": [
    {
     "name": "stdout",
     "output_type": "stream",
     "text": [
      "BRFC Column Importances\n"
     ]
    },
    {
     "data": {
      "text/plain": [
       "[(0.403714828854716, 'purchaser_type'),\n",
       " (0.10023820371272817, 'loan_amount_000s'),\n",
       " (0.09702797425366244, 'applicant_income_000s'),\n",
       " (0.049970501201192966, 'tract_to_msamd_income'),\n",
       " (0.04884636748227927, 'minority_population'),\n",
       " (0.04653149460543755, 'population'),\n",
       " (0.046131734783810746, 'number_of_owner_occupied_units'),\n",
       " (0.04610597177973866, 'number_of_1_to_4_family_units'),\n",
       " (0.025322930103075864, 'applicant_race_1'),\n",
       " (0.0203805306286869, 'hud_median_family_income'),\n",
       " (0.019539225984863445, 'applicant_sex'),\n",
       " (0.019455708188232997, 'county_code'),\n",
       " (0.018587053237749195, 'applicant_ethnicity'),\n",
       " (0.01746359949145156, 'loan_purpose'),\n",
       " (0.009100557429951127, 'loan_type'),\n",
       " (0.009030066307430425, 'co_applicant_race_1'),\n",
       " (0.007566228414683993, 'co_applicant_sex'),\n",
       " (0.006748155508170132, 'co_applicant_ethnicity'),\n",
       " (0.005677244943304983, 'owner_occupancy'),\n",
       " (0.0023697479105204903, 'property_type'),\n",
       " (0.000191875178313258, 'hoepa_status')]"
      ]
     },
     "execution_count": 18,
     "metadata": {},
     "output_type": "execute_result"
    }
   ],
   "source": [
    "importances = brfc.feature_importances_\n",
    "print('BRFC Column Importances')\n",
    "sorted(zip(importances, X.columns), reverse=True)"
   ]
  },
  {
   "cell_type": "code",
   "execution_count": null,
   "metadata": {},
   "outputs": [],
   "source": []
  }
 ],
 "metadata": {
  "kernelspec": {
   "display_name": "mlenv",
   "language": "python",
   "name": "mlenv"
  },
  "language_info": {
   "codemirror_mode": {
    "name": "ipython",
    "version": 3
   },
   "file_extension": ".py",
   "mimetype": "text/x-python",
   "name": "python",
   "nbconvert_exporter": "python",
   "pygments_lexer": "ipython3",
   "version": "3.9.16"
  },
  "orig_nbformat": 4
 },
 "nbformat": 4,
 "nbformat_minor": 2
}
