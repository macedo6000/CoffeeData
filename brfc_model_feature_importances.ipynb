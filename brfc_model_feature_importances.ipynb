{
 "cells": [
  {
   "attachments": {},
   "cell_type": "markdown",
   "metadata": {},
   "source": [
    "# Balanced Random Forest Classification Machine Learning Model for HMDA Data"
   ]
  },
  {
   "cell_type": "code",
   "execution_count": 1,
   "metadata": {},
   "outputs": [],
   "source": [
    "%matplotlib inline\n",
    "import numpy as np\n",
    "import pandas as pd\n",
    "from pathlib import Path\n",
    "from collections import Counter\n",
    "import matplotlib.pyplot as plt"
   ]
  },
  {
   "cell_type": "code",
   "execution_count": 2,
   "metadata": {},
   "outputs": [],
   "source": [
    "#import machine learning dependencies\n",
    "from sklearn.preprocessing import StandardScaler\n",
    "from sklearn.model_selection import train_test_split\n",
    "from imblearn.ensemble import BalancedRandomForestClassifier\n",
    "\n",
    "from sklearn.metrics import balanced_accuracy_score\n",
    "from sklearn.metrics import confusion_matrix\n",
    "from imblearn.metrics import classification_report_imbalanced"
   ]
  },
  {
   "cell_type": "code",
   "execution_count": 6,
   "metadata": {},
   "outputs": [],
   "source": [
    "path = Path('./data/numeric_database.csv')\n",
    "df = pd.read_csv(path, low_memory=False)"
   ]
  },
  {
   "cell_type": "code",
   "execution_count": 7,
   "metadata": {},
   "outputs": [],
   "source": [
    "def fix_target_column(member):\n",
    "    if member == 1:\n",
    "        return 0\n",
    "    else: \n",
    "        return 1\n"
   ]
  },
  {
   "cell_type": "code",
   "execution_count": 8,
   "metadata": {},
   "outputs": [],
   "source": [
    "df['action_taken'] = df['action_taken'].apply(fix_target_column)"
   ]
  },
  {
   "cell_type": "code",
   "execution_count": 9,
   "metadata": {},
   "outputs": [
    {
     "data": {
      "text/plain": [
       "0    828891\n",
       "1    680132\n",
       "Name: action_taken, dtype: int64"
      ]
     },
     "execution_count": 9,
     "metadata": {},
     "output_type": "execute_result"
    }
   ],
   "source": [
    "df['action_taken'].value_counts()"
   ]
  },
  {
   "cell_type": "code",
   "execution_count": 10,
   "metadata": {},
   "outputs": [
    {
     "name": "stdout",
     "output_type": "stream",
     "text": [
      "<class 'pandas.core.frame.DataFrame'>\n",
      "RangeIndex: 1509023 entries, 0 to 1509022\n",
      "Data columns (total 21 columns):\n",
      " #   Column                          Non-Null Count    Dtype  \n",
      "---  ------                          --------------    -----  \n",
      " 0   population                      1509023 non-null  float64\n",
      " 1   minority_population             1509023 non-null  float64\n",
      " 2   hud_median_family_income        1509023 non-null  float64\n",
      " 3   tract_to_msamd_income           1509023 non-null  float64\n",
      " 4   number_of_owner_occupied_units  1509023 non-null  float64\n",
      " 5   number_of_1_to_4_family_units   1509023 non-null  float64\n",
      " 6   applicant_sex                   1509023 non-null  int64  \n",
      " 7   co_applicant_sex                1509023 non-null  int64  \n",
      " 8   applicant_ethnicity             1509023 non-null  int64  \n",
      " 9   co_applicant_ethnicity          1509023 non-null  int64  \n",
      " 10  applicant_race_1                1509023 non-null  int64  \n",
      " 11  co_applicant_race_1             1509023 non-null  int64  \n",
      " 12  loan_amount_000s                1509023 non-null  float64\n",
      " 13  applicant_income_000s           1509023 non-null  float64\n",
      " 14  loan_type                       1509023 non-null  int64  \n",
      " 15  loan_purpose                    1509023 non-null  int64  \n",
      " 16  purchaser_type                  1509023 non-null  int64  \n",
      " 17  property_type                   1509023 non-null  int64  \n",
      " 18  owner_occupancy                 1509023 non-null  int64  \n",
      " 19  hoepa_status                    1509023 non-null  int64  \n",
      " 20  county_code                     1509023 non-null  float64\n",
      "dtypes: float64(9), int64(12)\n",
      "memory usage: 241.8 MB\n"
     ]
    }
   ],
   "source": [
    "X = df.copy()\n",
    "X = X.drop(columns=['action_taken','sequence_number'], axis=1)\n",
    "X.info()\n"
   ]
  },
  {
   "cell_type": "code",
   "execution_count": 11,
   "metadata": {},
   "outputs": [
    {
     "name": "stdout",
     "output_type": "stream",
     "text": [
      "population\n",
      "minority_population\n",
      "hud_median_family_income\n",
      "tract_to_msamd_income\n",
      "number_of_owner_occupied_units\n",
      "number_of_1_to_4_family_units\n",
      "applicant_sex\n",
      "co_applicant_sex\n",
      "applicant_ethnicity\n",
      "co_applicant_ethnicity\n",
      "applicant_race_1\n",
      "co_applicant_race_1\n",
      "loan_amount_000s\n",
      "applicant_income_000s\n",
      "loan_type\n",
      "loan_purpose\n",
      "purchaser_type\n",
      "property_type\n",
      "owner_occupancy\n",
      "hoepa_status\n",
      "county_code\n"
     ]
    }
   ],
   "source": [
    "for column in X.columns:\n",
    "    print(column)"
   ]
  },
  {
   "cell_type": "code",
   "execution_count": 12,
   "metadata": {},
   "outputs": [],
   "source": [
    "y = df['action_taken'].ravel()"
   ]
  },
  {
   "cell_type": "code",
   "execution_count": 13,
   "metadata": {},
   "outputs": [],
   "source": [
    "#scale data\n",
    "scaler = StandardScaler()\n",
    "X_scaler = scaler.fit(X)\n",
    "X_scaled_df = X_scaler.transform(X)"
   ]
  },
  {
   "cell_type": "code",
   "execution_count": 14,
   "metadata": {},
   "outputs": [],
   "source": [
    "# train test split\n",
    "X_train, X_test, y_train, y_test = train_test_split(X_scaled_df, y, random_state=3, stratify=y)"
   ]
  },
  {
   "cell_type": "code",
   "execution_count": 15,
   "metadata": {},
   "outputs": [],
   "source": [
    "# balanced random forest classifier \n",
    "brfc = BalancedRandomForestClassifier()\n",
    "brfc.fit(X_train, y_train)\n",
    "y_pred = brfc.predict(X_test)"
   ]
  },
  {
   "cell_type": "code",
   "execution_count": 16,
   "metadata": {},
   "outputs": [
    {
     "name": "stdout",
     "output_type": "stream",
     "text": [
      "Balanced Accuracy Score: Balanced Random Forest Classifier\n",
      "0.8258400146078364\n"
     ]
    }
   ],
   "source": [
    "print(f'Balanced Accuracy Score: Balanced Random Forest Classifier')\n",
    "print(balanced_accuracy_score(y_test, y_pred))"
   ]
  },
  {
   "cell_type": "code",
   "execution_count": 17,
   "metadata": {},
   "outputs": [
    {
     "name": "stdout",
     "output_type": "stream",
     "text": [
      "Confusion Matrix: Balanced Random Forest Classifier\n"
     ]
    },
    {
     "data": {
      "text/html": [
       "<div>\n",
       "<style scoped>\n",
       "    .dataframe tbody tr th:only-of-type {\n",
       "        vertical-align: middle;\n",
       "    }\n",
       "\n",
       "    .dataframe tbody tr th {\n",
       "        vertical-align: top;\n",
       "    }\n",
       "\n",
       "    .dataframe thead th {\n",
       "        text-align: right;\n",
       "    }\n",
       "</style>\n",
       "<table border=\"1\" class=\"dataframe\">\n",
       "  <thead>\n",
       "    <tr style=\"text-align: right;\">\n",
       "      <th></th>\n",
       "      <th>Predicted 0</th>\n",
       "      <th>Predicted 1</th>\n",
       "    </tr>\n",
       "  </thead>\n",
       "  <tbody>\n",
       "    <tr>\n",
       "      <th>Actual 0</th>\n",
       "      <td>167845</td>\n",
       "      <td>39378</td>\n",
       "    </tr>\n",
       "    <tr>\n",
       "      <th>Actual 1</th>\n",
       "      <td>26915</td>\n",
       "      <td>143118</td>\n",
       "    </tr>\n",
       "  </tbody>\n",
       "</table>\n",
       "</div>"
      ],
      "text/plain": [
       "          Predicted 0  Predicted 1\n",
       "Actual 0       167845        39378\n",
       "Actual 1        26915       143118"
      ]
     },
     "execution_count": 17,
     "metadata": {},
     "output_type": "execute_result"
    }
   ],
   "source": [
    "cm = confusion_matrix(y_test, y_pred)\n",
    "cm_df = pd.DataFrame(cm, index=['Actual 0','Actual 1'], columns=['Predicted 0','Predicted 1'])\n",
    "print(f'Confusion Matrix: Balanced Random Forest Classifier')\n",
    "cm_df.head()"
   ]
  },
  {
   "cell_type": "code",
   "execution_count": 30,
   "metadata": {},
   "outputs": [
    {
     "name": "stdout",
     "output_type": "stream",
     "text": [
      "Imbalanced Classification Report: Balanced Random Forest Classifier\n",
      "                   pre       rec       spe        f1       geo       iba       sup\n",
      "\n",
      "          0       0.86      0.81      0.84      0.84      0.83      0.68    207223\n",
      "          1       0.78      0.84      0.81      0.81      0.83      0.68    170033\n",
      "\n",
      "avg / total       0.83      0.82      0.83      0.82      0.83      0.68    377256\n",
      "\n"
     ]
    }
   ],
   "source": [
    "print(f'Imbalanced Classification Report: Balanced Random Forest Classifier')\n",
    "print(classification_report_imbalanced(y_test,y_pred))"
   ]
  },
  {
   "cell_type": "code",
   "execution_count": 19,
   "metadata": {},
   "outputs": [
    {
     "name": "stdout",
     "output_type": "stream",
     "text": [
      "BRFC Column Importances\n"
     ]
    },
    {
     "data": {
      "text/plain": [
       "[(0.40260422929855727, 'purchaser_type'),\n",
       " (0.10129756207001674, 'loan_amount_000s'),\n",
       " (0.09665227096891184, 'applicant_income_000s'),\n",
       " (0.04983483685749442, 'tract_to_msamd_income'),\n",
       " (0.04858294111030901, 'minority_population'),\n",
       " (0.046277131079702404, 'population'),\n",
       " (0.04591758044887133, 'number_of_owner_occupied_units'),\n",
       " (0.0458560227253998, 'number_of_1_to_4_family_units'),\n",
       " (0.023037301855423093, 'applicant_race_1'),\n",
       " (0.020549993465983487, 'applicant_sex'),\n",
       " (0.020450441931952237, 'applicant_ethnicity'),\n",
       " (0.020394771790431015, 'hud_median_family_income'),\n",
       " (0.01969119184983995, 'county_code'),\n",
       " (0.01668059206303869, 'loan_purpose'),\n",
       " (0.009224715221855646, 'co_applicant_race_1'),\n",
       " (0.009155051926800033, 'loan_type'),\n",
       " (0.008175404148010797, 'co_applicant_sex'),\n",
       " (0.007266690630347026, 'co_applicant_ethnicity'),\n",
       " (0.005771043751255659, 'owner_occupancy'),\n",
       " (0.002376324993746971, 'property_type'),\n",
       " (0.0002039018120525176, 'hoepa_status')]"
      ]
     },
     "execution_count": 19,
     "metadata": {},
     "output_type": "execute_result"
    }
   ],
   "source": [
    "importances = brfc.feature_importances_\n",
    "print('BRFC Column Importances')\n",
    "zipped_importances = sorted(zip(importances, X.columns), reverse=True)\n",
    "zipped_importances"
   ]
  },
  {
   "cell_type": "code",
   "execution_count": 20,
   "metadata": {},
   "outputs": [
    {
     "data": {
      "text/html": [
       "<div>\n",
       "<style scoped>\n",
       "    .dataframe tbody tr th:only-of-type {\n",
       "        vertical-align: middle;\n",
       "    }\n",
       "\n",
       "    .dataframe tbody tr th {\n",
       "        vertical-align: top;\n",
       "    }\n",
       "\n",
       "    .dataframe thead th {\n",
       "        text-align: right;\n",
       "    }\n",
       "</style>\n",
       "<table border=\"1\" class=\"dataframe\">\n",
       "  <thead>\n",
       "    <tr style=\"text-align: right;\">\n",
       "      <th></th>\n",
       "      <th>importance</th>\n",
       "      <th>parameter</th>\n",
       "    </tr>\n",
       "  </thead>\n",
       "  <tbody>\n",
       "    <tr>\n",
       "      <th>0</th>\n",
       "      <td>0.402604</td>\n",
       "      <td>purchaser_type</td>\n",
       "    </tr>\n",
       "    <tr>\n",
       "      <th>1</th>\n",
       "      <td>0.101298</td>\n",
       "      <td>loan_amount_000s</td>\n",
       "    </tr>\n",
       "    <tr>\n",
       "      <th>2</th>\n",
       "      <td>0.096652</td>\n",
       "      <td>applicant_income_000s</td>\n",
       "    </tr>\n",
       "    <tr>\n",
       "      <th>3</th>\n",
       "      <td>0.049835</td>\n",
       "      <td>tract_to_msamd_income</td>\n",
       "    </tr>\n",
       "    <tr>\n",
       "      <th>4</th>\n",
       "      <td>0.048583</td>\n",
       "      <td>minority_population</td>\n",
       "    </tr>\n",
       "  </tbody>\n",
       "</table>\n",
       "</div>"
      ],
      "text/plain": [
       "   importance              parameter\n",
       "0    0.402604         purchaser_type\n",
       "1    0.101298       loan_amount_000s\n",
       "2    0.096652  applicant_income_000s\n",
       "3    0.049835  tract_to_msamd_income\n",
       "4    0.048583    minority_population"
      ]
     },
     "execution_count": 20,
     "metadata": {},
     "output_type": "execute_result"
    }
   ],
   "source": [
    "importance_df = pd.DataFrame({'importance':[i[0] for i in zipped_importances], 'parameter':[i[1] for i in zipped_importances]})\n",
    "importance_df.head()"
   ]
  },
  {
   "cell_type": "code",
   "execution_count": 21,
   "metadata": {},
   "outputs": [
    {
     "name": "stdout",
     "output_type": "stream",
     "text": [
      "    importance                       parameter\n",
      "0     0.402604                  purchaser_type\n",
      "1     0.101298                loan_amount_000s\n",
      "2     0.096652           applicant_income_000s\n",
      "3     0.049835           tract_to_msamd_income\n",
      "4     0.048583             minority_population\n",
      "5     0.046277                      population\n",
      "6     0.045918  number_of_owner_occupied_units\n",
      "7     0.045856   number_of_1_to_4_family_units\n",
      "8     0.023037                applicant_race_1\n",
      "9     0.020550                   applicant_sex\n",
      "10    0.020450             applicant_ethnicity\n",
      "11    0.020395        hud_median_family_income\n",
      "12    0.019691                     county_code\n",
      "13    0.016681                    loan_purpose\n",
      "14    0.009225             co_applicant_race_1\n",
      "15    0.009155                       loan_type\n",
      "16    0.008175                co_applicant_sex\n",
      "17    0.007267          co_applicant_ethnicity\n",
      "18    0.005771                 owner_occupancy\n",
      "19    0.002376                   property_type\n",
      "20    0.000204                    hoepa_status\n"
     ]
    }
   ],
   "source": [
    "print(importance_df)"
   ]
  },
  {
   "cell_type": "code",
   "execution_count": 61,
   "metadata": {},
   "outputs": [
    {
     "data": {
      "image/png": "[encoded data removed]",
      "text/plain": [
       "<Figure size 640x480 with 1 Axes>"
      ]
     },
     "metadata": {},
     "output_type": "display_data"
    },
    {
     "data": {
      "text/plain": [
       "<Figure size 640x480 with 0 Axes>"
      ]
     },
     "metadata": {},
     "output_type": "display_data"
    }
   ],
   "source": [
    "importance_df.plot.barh('parameter', y='importance')\n",
    "plt.title('Feature Importances for HMDA Mortgage Data')\n",
    "plt.xlabel('Input Features')\n",
    "plt.ylabel('Importance')\n",
    "plt.gca().invert_yaxis()\n",
    "plt.figure(facecolor='#599191')\n",
    "plt.savefig('./eda/feature_importances.png', bbox_inches='tight')\n",
    "plt.show()"
   ]
  },
  {
   "cell_type": "code",
   "execution_count": 36,
   "metadata": {},
   "outputs": [],
   "source": [
    "#X_NH = X NO HOEPA STATUS\n",
    "X_NH = X.copy()\n",
    "X_NH = X_NH.drop(columns='hoepa_status', axis=1)"
   ]
  },
  {
   "cell_type": "code",
   "execution_count": 45,
   "metadata": {},
   "outputs": [],
   "source": [
    "X_train_NH, X_test_NH, y_train_NH, y_test_NH = train_test_split(X_NH, y, random_state=3, stratify=y)"
   ]
  },
  {
   "cell_type": "code",
   "execution_count": 46,
   "metadata": {},
   "outputs": [],
   "source": [
    "brfc.fit(X_train_NH, y_train_NH)\n",
    "y_pred_NH = brfc.predict(X_test_NH)"
   ]
  },
  {
   "cell_type": "code",
   "execution_count": 47,
   "metadata": {},
   "outputs": [
    {
     "name": "stdout",
     "output_type": "stream",
     "text": [
      "Balanced Accuracy Score: Balanced Random Forest Classifier - NO HOEPA STATUS\n",
      "0.8260998519680105\n"
     ]
    }
   ],
   "source": [
    "print(f'Balanced Accuracy Score: Balanced Random Forest Classifier - NO HOEPA STATUS')\n",
    "print(balanced_accuracy_score(y_test_NH, y_pred_NH))"
   ]
  },
  {
   "cell_type": "code",
   "execution_count": 50,
   "metadata": {},
   "outputs": [
    {
     "name": "stdout",
     "output_type": "stream",
     "text": [
      "Confusion Matrix: Balanced Random Forest Classifier - NO HOEPA STATUS\n"
     ]
    },
    {
     "data": {
      "text/html": [
       "<div>\n",
       "<style scoped>\n",
       "    .dataframe tbody tr th:only-of-type {\n",
       "        vertical-align: middle;\n",
       "    }\n",
       "\n",
       "    .dataframe tbody tr th {\n",
       "        vertical-align: top;\n",
       "    }\n",
       "\n",
       "    .dataframe thead th {\n",
       "        text-align: right;\n",
       "    }\n",
       "</style>\n",
       "<table border=\"1\" class=\"dataframe\">\n",
       "  <thead>\n",
       "    <tr style=\"text-align: right;\">\n",
       "      <th></th>\n",
       "      <th>Predicted 0</th>\n",
       "      <th>Predicted 1</th>\n",
       "    </tr>\n",
       "  </thead>\n",
       "  <tbody>\n",
       "    <tr>\n",
       "      <th>Actual 0</th>\n",
       "      <td>167999</td>\n",
       "      <td>39224</td>\n",
       "    </tr>\n",
       "    <tr>\n",
       "      <th>Actual 1</th>\n",
       "      <td>26953</td>\n",
       "      <td>143080</td>\n",
       "    </tr>\n",
       "  </tbody>\n",
       "</table>\n",
       "</div>"
      ],
      "text/plain": [
       "          Predicted 0  Predicted 1\n",
       "Actual 0       167999        39224\n",
       "Actual 1        26953       143080"
      ]
     },
     "execution_count": 50,
     "metadata": {},
     "output_type": "execute_result"
    }
   ],
   "source": [
    "cm_NH = confusion_matrix(y_test_NH, y_pred_NH)\n",
    "cm_df_NH = pd.DataFrame(cm_NH, index=['Actual 0','Actual 1'], columns=['Predicted 0','Predicted 1'])\n",
    "print(f'Confusion Matrix: Balanced Random Forest Classifier - NO HOEPA STATUS')\n",
    "cm_df_NH.head()"
   ]
  },
  {
   "cell_type": "code",
   "execution_count": 49,
   "metadata": {},
   "outputs": [
    {
     "name": "stdout",
     "output_type": "stream",
     "text": [
      "Imbalanced Classification Report: Balanced Random Forest Classifier - NO HOEPA STATUS\n",
      "                   pre       rec       spe        f1       geo       iba       sup\n",
      "\n",
      "          0       0.86      0.81      0.84      0.84      0.83      0.68    207223\n",
      "          1       0.78      0.84      0.81      0.81      0.83      0.68    170033\n",
      "\n",
      "avg / total       0.83      0.82      0.83      0.82      0.83      0.68    377256\n",
      "\n"
     ]
    }
   ],
   "source": [
    "print(f'Imbalanced Classification Report: Balanced Random Forest Classifier - NO HOEPA STATUS')\n",
    "print(classification_report_imbalanced(y_test_NH,y_pred_NH))"
   ]
  }
 ],
 "metadata": {
  "kernelspec": {
   "display_name": "mlenv",
   "language": "python",
   "name": "mlenv"
  },
  "language_info": {
   "codemirror_mode": {
    "name": "ipython",
    "version": 3
   },
   "file_extension": ".py",
   "mimetype": "text/x-python",
   "name": "python",
   "nbconvert_exporter": "python",
   "pygments_lexer": "ipython3",
   "version": "3.9.16"
  },
  "orig_nbformat": 4
 },
 "nbformat": 4,
 "nbformat_minor": 2
}
