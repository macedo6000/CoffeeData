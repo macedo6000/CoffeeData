{
 "cells": [
  {
   "cell_type": "code",
   "execution_count": 1,
   "metadata": {},
   "outputs": [],
   "source": [
    "import pandas as pd\n",
    "import numpy as np\n",
    "from path import Path\n",
    "import matplotlib.pyplot as plt"
   ]
  },
  {
   "cell_type": "code",
   "execution_count": 2,
   "metadata": {},
   "outputs": [
    {
     "data": {
      "text/html": [
       "<div>\n",
       "<style scoped>\n",
       "    .dataframe tbody tr th:only-of-type {\n",
       "        vertical-align: middle;\n",
       "    }\n",
       "\n",
       "    .dataframe tbody tr th {\n",
       "        vertical-align: top;\n",
       "    }\n",
       "\n",
       "    .dataframe thead th {\n",
       "        text-align: right;\n",
       "    }\n",
       "</style>\n",
       "<table border=\"1\" class=\"dataframe\">\n",
       "  <thead>\n",
       "    <tr style=\"text-align: right;\">\n",
       "      <th></th>\n",
       "      <th>Commodity_Description</th>\n",
       "      <th>Country_Code</th>\n",
       "      <th>Country_Name</th>\n",
       "      <th>Market_Year</th>\n",
       "      <th>Calendar_Year</th>\n",
       "      <th>Month</th>\n",
       "      <th>Attribute_ID</th>\n",
       "      <th>Attribute_Description</th>\n",
       "      <th>Unit_ID</th>\n",
       "      <th>Unit_Description</th>\n",
       "      <th>Value</th>\n",
       "    </tr>\n",
       "    <tr>\n",
       "      <th>Commodity_Code</th>\n",
       "      <th></th>\n",
       "      <th></th>\n",
       "      <th></th>\n",
       "      <th></th>\n",
       "      <th></th>\n",
       "      <th></th>\n",
       "      <th></th>\n",
       "      <th></th>\n",
       "      <th></th>\n",
       "      <th></th>\n",
       "      <th></th>\n",
       "    </tr>\n",
       "  </thead>\n",
       "  <tbody>\n",
       "    <tr>\n",
       "      <th>711100</th>\n",
       "      <td>Coffee, Green</td>\n",
       "      <td>AG</td>\n",
       "      <td>Algeria</td>\n",
       "      <td>2003</td>\n",
       "      <td>2012</td>\n",
       "      <td>6</td>\n",
       "      <td>29</td>\n",
       "      <td>Arabica Production</td>\n",
       "      <td>2</td>\n",
       "      <td>(1000 60 KG BAGS)</td>\n",
       "      <td>0.0</td>\n",
       "    </tr>\n",
       "    <tr>\n",
       "      <th>711100</th>\n",
       "      <td>Coffee, Green</td>\n",
       "      <td>AG</td>\n",
       "      <td>Algeria</td>\n",
       "      <td>2003</td>\n",
       "      <td>2012</td>\n",
       "      <td>6</td>\n",
       "      <td>90</td>\n",
       "      <td>Bean Exports</td>\n",
       "      <td>2</td>\n",
       "      <td>(1000 60 KG BAGS)</td>\n",
       "      <td>0.0</td>\n",
       "    </tr>\n",
       "    <tr>\n",
       "      <th>711100</th>\n",
       "      <td>Coffee, Green</td>\n",
       "      <td>AG</td>\n",
       "      <td>Algeria</td>\n",
       "      <td>2003</td>\n",
       "      <td>2012</td>\n",
       "      <td>6</td>\n",
       "      <td>58</td>\n",
       "      <td>Bean Imports</td>\n",
       "      <td>2</td>\n",
       "      <td>(1000 60 KG BAGS)</td>\n",
       "      <td>1800.0</td>\n",
       "    </tr>\n",
       "    <tr>\n",
       "      <th>711100</th>\n",
       "      <td>Coffee, Green</td>\n",
       "      <td>AG</td>\n",
       "      <td>Algeria</td>\n",
       "      <td>2003</td>\n",
       "      <td>2012</td>\n",
       "      <td>6</td>\n",
       "      <td>20</td>\n",
       "      <td>Beginning Stocks</td>\n",
       "      <td>2</td>\n",
       "      <td>(1000 60 KG BAGS)</td>\n",
       "      <td>0.0</td>\n",
       "    </tr>\n",
       "    <tr>\n",
       "      <th>711100</th>\n",
       "      <td>Coffee, Green</td>\n",
       "      <td>AG</td>\n",
       "      <td>Algeria</td>\n",
       "      <td>2003</td>\n",
       "      <td>2012</td>\n",
       "      <td>6</td>\n",
       "      <td>125</td>\n",
       "      <td>Domestic Consumption</td>\n",
       "      <td>2</td>\n",
       "      <td>(1000 60 KG BAGS)</td>\n",
       "      <td>1805.0</td>\n",
       "    </tr>\n",
       "  </tbody>\n",
       "</table>\n",
       "</div>"
      ],
      "text/plain": [
       "               Commodity_Description Country_Code Country_Name  Market_Year  \\\n",
       "Commodity_Code                                                                \n",
       "711100                 Coffee, Green           AG      Algeria         2003   \n",
       "711100                 Coffee, Green           AG      Algeria         2003   \n",
       "711100                 Coffee, Green           AG      Algeria         2003   \n",
       "711100                 Coffee, Green           AG      Algeria         2003   \n",
       "711100                 Coffee, Green           AG      Algeria         2003   \n",
       "\n",
       "                Calendar_Year  Month  Attribute_ID Attribute_Description  \\\n",
       "Commodity_Code                                                             \n",
       "711100                   2012      6            29    Arabica Production   \n",
       "711100                   2012      6            90          Bean Exports   \n",
       "711100                   2012      6            58          Bean Imports   \n",
       "711100                   2012      6            20      Beginning Stocks   \n",
       "711100                   2012      6           125  Domestic Consumption   \n",
       "\n",
       "                Unit_ID   Unit_Description   Value  \n",
       "Commodity_Code                                      \n",
       "711100                2  (1000 60 KG BAGS)     0.0  \n",
       "711100                2  (1000 60 KG BAGS)     0.0  \n",
       "711100                2  (1000 60 KG BAGS)  1800.0  \n",
       "711100                2  (1000 60 KG BAGS)     0.0  \n",
       "711100                2  (1000 60 KG BAGS)  1805.0  "
      ]
     },
     "execution_count": 2,
     "metadata": {},
     "output_type": "execute_result"
    }
   ],
   "source": [
    "# import file_path and make dataframe\n",
    "\n",
    "commodity_file_path = Path('./data/psd_coffee.csv')\n",
    "commodity_df = pd.read_csv(commodity_file_path, index_col=0)\n",
    "commodity_df.head()"
   ]
  },
  {
   "cell_type": "code",
   "execution_count": 3,
   "metadata": {},
   "outputs": [
    {
     "data": {
      "text/plain": [
       "Index(['Commodity_Description', 'Country_Code', 'Country_Name', 'Market_Year',\n",
       "       'Calendar_Year', 'Month', 'Attribute_ID', 'Attribute_Description',\n",
       "       'Unit_ID', 'Unit_Description', 'Value'],\n",
       "      dtype='object')"
      ]
     },
     "execution_count": 3,
     "metadata": {},
     "output_type": "execute_result"
    }
   ],
   "source": [
    "# print dataframe columns\n",
    "\n",
    "commodity_df.columns"
   ]
  },
  {
   "cell_type": "code",
   "execution_count": 4,
   "metadata": {},
   "outputs": [
    {
     "data": {
      "text/plain": [
       "Commodity_Description    0\n",
       "Country_Code             0\n",
       "Country_Name             0\n",
       "Market_Year              0\n",
       "Calendar_Year            0\n",
       "Month                    0\n",
       "Attribute_ID             0\n",
       "Attribute_Description    0\n",
       "Unit_ID                  0\n",
       "Unit_Description         0\n",
       "Value                    0\n",
       "dtype: int64"
      ]
     },
     "execution_count": 4,
     "metadata": {},
     "output_type": "execute_result"
    }
   ],
   "source": [
    "# Check for blanks \n",
    "commodity_df.isna().sum()"
   ]
  },
  {
   "cell_type": "code",
   "execution_count": 5,
   "metadata": {},
   "outputs": [
    {
     "data": {
      "text/plain": [
       "0"
      ]
     },
     "execution_count": 5,
     "metadata": {},
     "output_type": "execute_result"
    }
   ],
   "source": [
    "#  Check for duplicates\n",
    "commodity_df.duplicated().sum()"
   ]
  },
  {
   "cell_type": "code",
   "execution_count": 6,
   "metadata": {},
   "outputs": [
    {
     "data": {
      "text/plain": [
       "Commodity_Description    0\n",
       "Country_Code             0\n",
       "Country_Name             0\n",
       "Market_Year              0\n",
       "Calendar_Year            0\n",
       "Month                    0\n",
       "Attribute_ID             0\n",
       "Attribute_Description    0\n",
       "Unit_ID                  0\n",
       "Unit_Description         0\n",
       "Value                    0\n",
       "dtype: int64"
      ]
     },
     "execution_count": 6,
     "metadata": {},
     "output_type": "execute_result"
    }
   ],
   "source": [
    "# Drop NaNs and check isna() again\n",
    "commodity_df.dropna()\n",
    "commodity_df.isna().sum()"
   ]
  },
  {
   "cell_type": "code",
   "execution_count": 7,
   "metadata": {},
   "outputs": [
    {
     "name": "stdout",
     "output_type": "stream",
     "text": [
      "<class 'pandas.core.frame.DataFrame'>\n",
      "Int64Index: 77957 entries, 711100 to 711100\n",
      "Data columns (total 11 columns):\n",
      " #   Column                 Non-Null Count  Dtype  \n",
      "---  ------                 --------------  -----  \n",
      " 0   Commodity_Description  77957 non-null  object \n",
      " 1   Country_Code           77957 non-null  object \n",
      " 2   Country_Name           77957 non-null  object \n",
      " 3   Market_Year            77957 non-null  int64  \n",
      " 4   Calendar_Year          77957 non-null  int64  \n",
      " 5   Month                  77957 non-null  int64  \n",
      " 6   Attribute_ID           77957 non-null  int64  \n",
      " 7   Attribute_Description  77957 non-null  object \n",
      " 8   Unit_ID                77957 non-null  int64  \n",
      " 9   Unit_Description       77957 non-null  object \n",
      " 10  Value                  77957 non-null  float64\n",
      "dtypes: float64(1), int64(5), object(5)\n",
      "memory usage: 7.1+ MB\n"
     ]
    }
   ],
   "source": [
    "# get row count and datatype info on community df\n",
    "commodity_df.info()"
   ]
  },
  {
   "cell_type": "code",
   "execution_count": 50,
   "metadata": {},
   "outputs": [],
   "source": [
    "# define get_unique_values_df function to make a dataframe of each column and its unique values\n",
    "def get_unique_values_df(df):\n",
    "\n",
    "    # initialize unique_dict and unique_values_list\n",
    "    unique_values_list = []\n",
    "\n",
    "    # copy dataframe\n",
    "    df = df.copy()\n",
    "\n",
    "    # iterate through columns\n",
    "    for column in df.columns:\n",
    "        # extract unique values\n",
    "        unique_values = df[column].unique()\n",
    "        # append unique values from each column to unique_values_list\n",
    "        unique_values_list.append(unique_values)\n",
    "\n",
    "    # make a dataframe of column name and unique values \n",
    "    values_df = pd.DataFrame({'Column Name':[col for col in df.columns], 'Unique_Values': unique_values_list, 'Unique_Count': [len(item) for item in unique_values_list]}) \n",
    "\n",
    "    # return dataframe\n",
    "    return values_df"
   ]
  },
  {
   "cell_type": "code",
   "execution_count": 35,
   "metadata": {},
   "outputs": [
    {
     "data": {
      "text/html": [
       "<div>\n",
       "<style scoped>\n",
       "    .dataframe tbody tr th:only-of-type {\n",
       "        vertical-align: middle;\n",
       "    }\n",
       "\n",
       "    .dataframe tbody tr th {\n",
       "        vertical-align: top;\n",
       "    }\n",
       "\n",
       "    .dataframe thead th {\n",
       "        text-align: right;\n",
       "    }\n",
       "</style>\n",
       "<table border=\"1\" class=\"dataframe\">\n",
       "  <thead>\n",
       "    <tr style=\"text-align: right;\">\n",
       "      <th></th>\n",
       "      <th>Column Name</th>\n",
       "      <th>Unique_Values</th>\n",
       "    </tr>\n",
       "  </thead>\n",
       "  <tbody>\n",
       "    <tr>\n",
       "      <th>0</th>\n",
       "      <td>Commodity_Description</td>\n",
       "      <td>[Coffee, Green]</td>\n",
       "    </tr>\n",
       "    <tr>\n",
       "      <th>1</th>\n",
       "      <td>Country_Code</td>\n",
       "      <td>[AG, AO, AR, AS, DM, BL, BR, BY, CM, CA, CT, C...</td>\n",
       "    </tr>\n",
       "    <tr>\n",
       "      <th>2</th>\n",
       "      <td>Country_Name</td>\n",
       "      <td>[Algeria, Angola, Argentina, Australia, Benin,...</td>\n",
       "    </tr>\n",
       "    <tr>\n",
       "      <th>3</th>\n",
       "      <td>Market_Year</td>\n",
       "      <td>[2003, 2004, 2005, 2006, 2007, 2008, 2009, 201...</td>\n",
       "    </tr>\n",
       "    <tr>\n",
       "      <th>4</th>\n",
       "      <td>Calendar_Year</td>\n",
       "      <td>[2012, 2015, 2014, 2016, 2017, 2018, 2020, 202...</td>\n",
       "    </tr>\n",
       "    <tr>\n",
       "      <th>5</th>\n",
       "      <td>Month</td>\n",
       "      <td>[6, 12, 0]</td>\n",
       "    </tr>\n",
       "    <tr>\n",
       "      <th>6</th>\n",
       "      <td>Attribute_ID</td>\n",
       "      <td>[29, 90, 58, 20, 125, 176, 88, 57, 56, 28, 107...</td>\n",
       "    </tr>\n",
       "    <tr>\n",
       "      <th>7</th>\n",
       "      <td>Attribute_Description</td>\n",
       "      <td>[Arabica Production, Bean Exports, Bean Import...</td>\n",
       "    </tr>\n",
       "    <tr>\n",
       "      <th>8</th>\n",
       "      <td>Unit_ID</td>\n",
       "      <td>[2]</td>\n",
       "    </tr>\n",
       "    <tr>\n",
       "      <th>9</th>\n",
       "      <td>Unit_Description</td>\n",
       "      <td>[(1000 60 KG BAGS)]</td>\n",
       "    </tr>\n",
       "  </tbody>\n",
       "</table>\n",
       "</div>"
      ],
      "text/plain": [
       "             Column Name                                      Unique_Values\n",
       "0  Commodity_Description                                    [Coffee, Green]\n",
       "1           Country_Code  [AG, AO, AR, AS, DM, BL, BR, BY, CM, CA, CT, C...\n",
       "2           Country_Name  [Algeria, Angola, Argentina, Australia, Benin,...\n",
       "3            Market_Year  [2003, 2004, 2005, 2006, 2007, 2008, 2009, 201...\n",
       "4          Calendar_Year  [2012, 2015, 2014, 2016, 2017, 2018, 2020, 202...\n",
       "5                  Month                                         [6, 12, 0]\n",
       "6           Attribute_ID  [29, 90, 58, 20, 125, 176, 88, 57, 56, 28, 107...\n",
       "7  Attribute_Description  [Arabica Production, Bean Exports, Bean Import...\n",
       "8                Unit_ID                                                [2]\n",
       "9       Unit_Description                                [(1000 60 KG BAGS)]"
      ]
     },
     "execution_count": 35,
     "metadata": {},
     "output_type": "execute_result"
    }
   ],
   "source": [
    "unique_values_df = get_unique_values_df(commodity_df)\n",
    "unique_values_df.head(10)"
   ]
  },
  {
   "cell_type": "code",
   "execution_count": 36,
   "metadata": {},
   "outputs": [],
   "source": [
    "# define function to get unique values from input column\n",
    "def get_unique_values(member):\n",
    "    # extract unique values from input column\n",
    "    unique_values = member.unique()\n",
    "    # print the number of unique values\n",
    "    print(len(unique_values))\n",
    "    # print unique values\n",
    "    print(unique_values)\n",
    "\n",
    "    #return unique values\n",
    "    return unique_values\n"
   ]
  },
  {
   "cell_type": "code",
   "execution_count": 37,
   "metadata": {},
   "outputs": [
    {
     "name": "stdout",
     "output_type": "stream",
     "text": [
      "85\n",
      "['Algeria' 'Angola' 'Argentina' 'Australia' 'Benin' 'Bolivia' 'Brazil'\n",
      " 'Burundi' 'Cameroon' 'Canada' 'Central African Republic' 'Chile' 'China'\n",
      " 'Colombia' 'Congo (Brazzaville)' 'Congo (Kinshasa)' 'Costa Rica'\n",
      " \"Cote d'Ivoire\" 'Croatia' 'Cuba' 'Dominican Republic' 'Ecuador' 'Egypt'\n",
      " 'El Salvador' 'Equatorial Guinea' 'Ethiopia' 'European Union' 'Gabon'\n",
      " 'Ghana' 'Guatemala' 'Guinea' 'Guyana' 'Haiti' 'Honduras' 'India'\n",
      " 'Indonesia' 'Iran' 'Jamaica' 'Japan' 'Jordan' 'Kazakhstan' 'Kenya'\n",
      " 'Korea, South' 'Laos' 'Liberia' 'Madagascar' 'Malawi' 'Malaysia' 'Mexico'\n",
      " 'Morocco' 'New Caledonia' 'New Zealand' 'Nicaragua' 'Nigeria' 'Norway'\n",
      " 'Panama' 'Papua New Guinea' 'Paraguay' 'Peru' 'Philippines' 'Russia'\n",
      " 'Rwanda' 'Saudi Arabia' 'Serbia' 'Sierra Leone' 'Singapore'\n",
      " 'South Africa' 'Sri Lanka' 'Switzerland' 'Taiwan' 'Tanzania' 'Thailand'\n",
      " 'Togo' 'Trinidad and Tobago' 'Turkey' 'Uganda' 'Ukraine' 'United Kingdom'\n",
      " 'United States' 'Venezuela' 'Vietnam' 'Yemen' 'Yemen (Sanaa)' 'Zambia'\n",
      " 'Zimbabwe']\n"
     ]
    }
   ],
   "source": [
    "country_unique = get_unique_values(commodity_df['Country_Name'])\n"
   ]
  },
  {
   "cell_type": "code",
   "execution_count": 38,
   "metadata": {},
   "outputs": [
    {
     "name": "stdout",
     "output_type": "stream",
     "text": [
      "3\n",
      "[ 6 12  0]\n"
     ]
    }
   ],
   "source": [
    "month_unqie = get_unique_values(commodity_df['Month'])\n"
   ]
  },
  {
   "cell_type": "code",
   "execution_count": 39,
   "metadata": {},
   "outputs": [
    {
     "name": "stdout",
     "output_type": "stream",
     "text": [
      "19\n",
      "['Arabica Production' 'Bean Exports' 'Bean Imports' 'Beginning Stocks'\n",
      " 'Domestic Consumption' 'Ending Stocks' 'Exports' 'Imports'\n",
      " 'Other Production' 'Production' 'Roast & Ground Exports'\n",
      " 'Roast & Ground Imports' 'Robusta Production' 'Rst,Ground Dom. Consum'\n",
      " 'Soluble Dom. Cons.' 'Soluble Exports' 'Soluble Imports'\n",
      " 'Total Distribution' 'Total Supply']\n"
     ]
    }
   ],
   "source": [
    "attribute_description_unique = get_unique_values(commodity_df['Attribute_Description'])"
   ]
  },
  {
   "cell_type": "code",
   "execution_count": 40,
   "metadata": {},
   "outputs": [
    {
     "name": "stdout",
     "output_type": "stream",
     "text": [
      "64\n",
      "[2003 2004 2005 2006 2007 2008 2009 2010 2011 2012 2013 2014 2015 2016\n",
      " 2017 2018 2019 2020 2021 2022 2023 1961 1962 1963 1964 1965 1966 1967\n",
      " 1968 1969 1970 1971 1972 1973 1974 1975 1976 1977 1978 1979 1980 1981\n",
      " 1982 1983 1984 1985 1986 1987 1988 1989 1990 1991 1992 1993 1994 1995\n",
      " 1996 1997 1998 1999 2000 2001 2002 1960]\n"
     ]
    }
   ],
   "source": [
    "market_year_unique = get_unique_values(commodity_df['Market_Year'])"
   ]
  },
  {
   "cell_type": "code",
   "execution_count": 41,
   "metadata": {},
   "outputs": [
    {
     "name": "stdout",
     "output_type": "stream",
     "text": [
      "62\n",
      "[2012 2015 2014 2016 2017 2018 2020 2021 2022 1960 1961 1962 1963 1964\n",
      " 1965 1966 1967 1968 1969 1970 1971 1972 1973 1974 1975 1976 1977 1978\n",
      " 1979 1980 1981 1982 1983 1984 1985 1986 1987 1988 1989 1990 1991 1992\n",
      " 1993 1994 1995 1996 1997 1998 1999 2000 2001 2002 2003 2010 2011 2019\n",
      " 2007 2009 2008 2013 2006 1959]\n"
     ]
    }
   ],
   "source": [
    "calendar_year_unique = get_unique_values(commodity_df['Calendar_Year'])"
   ]
  },
  {
   "cell_type": "code",
   "execution_count": null,
   "metadata": {},
   "outputs": [],
   "source": []
  }
 ],
 "metadata": {
  "kernelspec": {
   "display_name": "Python 3",
   "language": "python",
   "name": "python3"
  },
  "language_info": {
   "codemirror_mode": {
    "name": "ipython",
    "version": 3
   },
   "file_extension": ".py",
   "mimetype": "text/x-python",
   "name": "python",
   "nbconvert_exporter": "python",
   "pygments_lexer": "ipython3",
   "version": "3.9.16"
  },
  "orig_nbformat": 4,
  "vscode": {
   "interpreter": {
    "hash": "409b807108e0fa750a48527a468a87d82ad98d81848b87c05b01c7afd854186c"
   }
  }
 },
 "nbformat": 4,
 "nbformat_minor": 2
}
