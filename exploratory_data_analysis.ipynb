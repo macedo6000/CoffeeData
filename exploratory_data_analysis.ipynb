{
 "cells": [
  {
   "cell_type": "code",
   "execution_count": 2,
   "metadata": {},
   "outputs": [],
   "source": [
    "# import dependencies\n",
    "import pandas as pd\n",
    "from path import Path \n",
    "import numpy as np "
   ]
  },
  {
   "cell_type": "code",
   "execution_count": 3,
   "metadata": {},
   "outputs": [
    {
     "name": "stderr",
     "output_type": "stream",
     "text": [
      "C:\\Users\\jsrit\\AppData\\Local\\Temp\\ipykernel_20744\\3571996716.py:3: DtypeWarning: Columns (34,36,38,42,44,46,48) have mixed types. Specify dtype option on import or set low_memory=False.\n",
      "  df = pd.read_csv(path)\n"
     ]
    }
   ],
   "source": [
    "# set path and load dataframe\n",
    "path = Path('./data/hmda_2017_ca_all-records_labels.csv')\n",
    "df = pd.read_csv(path)"
   ]
  },
  {
   "cell_type": "code",
   "execution_count": 4,
   "metadata": {},
   "outputs": [
    {
     "data": {
      "text/html": [
       "<div>\n",
       "<style scoped>\n",
       "    .dataframe tbody tr th:only-of-type {\n",
       "        vertical-align: middle;\n",
       "    }\n",
       "\n",
       "    .dataframe tbody tr th {\n",
       "        vertical-align: top;\n",
       "    }\n",
       "\n",
       "    .dataframe thead th {\n",
       "        text-align: right;\n",
       "    }\n",
       "</style>\n",
       "<table border=\"1\" class=\"dataframe\">\n",
       "  <thead>\n",
       "    <tr style=\"text-align: right;\">\n",
       "      <th></th>\n",
       "      <th>as_of_year</th>\n",
       "      <th>respondent_id</th>\n",
       "      <th>agency_name</th>\n",
       "      <th>agency_abbr</th>\n",
       "      <th>agency_code</th>\n",
       "      <th>loan_type_name</th>\n",
       "      <th>loan_type</th>\n",
       "      <th>property_type_name</th>\n",
       "      <th>property_type</th>\n",
       "      <th>loan_purpose_name</th>\n",
       "      <th>...</th>\n",
       "      <th>edit_status_name</th>\n",
       "      <th>edit_status</th>\n",
       "      <th>sequence_number</th>\n",
       "      <th>population</th>\n",
       "      <th>minority_population</th>\n",
       "      <th>hud_median_family_income</th>\n",
       "      <th>tract_to_msamd_income</th>\n",
       "      <th>number_of_owner_occupied_units</th>\n",
       "      <th>number_of_1_to_4_family_units</th>\n",
       "      <th>application_date_indicator</th>\n",
       "    </tr>\n",
       "  </thead>\n",
       "  <tbody>\n",
       "    <tr>\n",
       "      <th>0</th>\n",
       "      <td>2017</td>\n",
       "      <td>0000451965</td>\n",
       "      <td>Consumer Financial Protection Bureau</td>\n",
       "      <td>CFPB</td>\n",
       "      <td>9</td>\n",
       "      <td>Conventional</td>\n",
       "      <td>1</td>\n",
       "      <td>One-to-four family dwelling (other than manufa...</td>\n",
       "      <td>1</td>\n",
       "      <td>Home improvement</td>\n",
       "      <td>...</td>\n",
       "      <td>NaN</td>\n",
       "      <td>NaN</td>\n",
       "      <td>NaN</td>\n",
       "      <td>4824.0</td>\n",
       "      <td>37.230000</td>\n",
       "      <td>75200.0</td>\n",
       "      <td>57.419998</td>\n",
       "      <td>818.0</td>\n",
       "      <td>1626.0</td>\n",
       "      <td>NaN</td>\n",
       "    </tr>\n",
       "    <tr>\n",
       "      <th>1</th>\n",
       "      <td>2017</td>\n",
       "      <td>0000146672</td>\n",
       "      <td>Consumer Financial Protection Bureau</td>\n",
       "      <td>CFPB</td>\n",
       "      <td>9</td>\n",
       "      <td>Conventional</td>\n",
       "      <td>1</td>\n",
       "      <td>One-to-four family dwelling (other than manufa...</td>\n",
       "      <td>1</td>\n",
       "      <td>Home purchase</td>\n",
       "      <td>...</td>\n",
       "      <td>NaN</td>\n",
       "      <td>NaN</td>\n",
       "      <td>NaN</td>\n",
       "      <td>7404.0</td>\n",
       "      <td>57.520000</td>\n",
       "      <td>63200.0</td>\n",
       "      <td>116.010002</td>\n",
       "      <td>1215.0</td>\n",
       "      <td>1743.0</td>\n",
       "      <td>NaN</td>\n",
       "    </tr>\n",
       "    <tr>\n",
       "      <th>2</th>\n",
       "      <td>2017</td>\n",
       "      <td>0000451965</td>\n",
       "      <td>Consumer Financial Protection Bureau</td>\n",
       "      <td>CFPB</td>\n",
       "      <td>9</td>\n",
       "      <td>Conventional</td>\n",
       "      <td>1</td>\n",
       "      <td>One-to-four family dwelling (other than manufa...</td>\n",
       "      <td>1</td>\n",
       "      <td>Home purchase</td>\n",
       "      <td>...</td>\n",
       "      <td>NaN</td>\n",
       "      <td>NaN</td>\n",
       "      <td>NaN</td>\n",
       "      <td>3372.0</td>\n",
       "      <td>33.189999</td>\n",
       "      <td>97400.0</td>\n",
       "      <td>141.740005</td>\n",
       "      <td>592.0</td>\n",
       "      <td>1105.0</td>\n",
       "      <td>NaN</td>\n",
       "    </tr>\n",
       "    <tr>\n",
       "      <th>3</th>\n",
       "      <td>2017</td>\n",
       "      <td>13-6131491</td>\n",
       "      <td>Department of Housing and Urban Development</td>\n",
       "      <td>HUD</td>\n",
       "      <td>7</td>\n",
       "      <td>Conventional</td>\n",
       "      <td>1</td>\n",
       "      <td>One-to-four family dwelling (other than manufa...</td>\n",
       "      <td>1</td>\n",
       "      <td>Refinancing</td>\n",
       "      <td>...</td>\n",
       "      <td>NaN</td>\n",
       "      <td>NaN</td>\n",
       "      <td>NaN</td>\n",
       "      <td>8787.0</td>\n",
       "      <td>65.129997</td>\n",
       "      <td>97400.0</td>\n",
       "      <td>97.269997</td>\n",
       "      <td>1463.0</td>\n",
       "      <td>2164.0</td>\n",
       "      <td>NaN</td>\n",
       "    </tr>\n",
       "    <tr>\n",
       "      <th>4</th>\n",
       "      <td>2017</td>\n",
       "      <td>33-0419992</td>\n",
       "      <td>Department of Housing and Urban Development</td>\n",
       "      <td>HUD</td>\n",
       "      <td>7</td>\n",
       "      <td>FHA-insured</td>\n",
       "      <td>2</td>\n",
       "      <td>One-to-four family dwelling (other than manufa...</td>\n",
       "      <td>1</td>\n",
       "      <td>Refinancing</td>\n",
       "      <td>...</td>\n",
       "      <td>NaN</td>\n",
       "      <td>NaN</td>\n",
       "      <td>NaN</td>\n",
       "      <td>5356.0</td>\n",
       "      <td>23.100000</td>\n",
       "      <td>75200.0</td>\n",
       "      <td>126.690002</td>\n",
       "      <td>1711.0</td>\n",
       "      <td>2102.0</td>\n",
       "      <td>NaN</td>\n",
       "    </tr>\n",
       "  </tbody>\n",
       "</table>\n",
       "<p>5 rows × 78 columns</p>\n",
       "</div>"
      ],
      "text/plain": [
       "   as_of_year respondent_id                                  agency_name  \\\n",
       "0        2017    0000451965         Consumer Financial Protection Bureau   \n",
       "1        2017    0000146672         Consumer Financial Protection Bureau   \n",
       "2        2017    0000451965         Consumer Financial Protection Bureau   \n",
       "3        2017    13-6131491  Department of Housing and Urban Development   \n",
       "4        2017    33-0419992  Department of Housing and Urban Development   \n",
       "\n",
       "  agency_abbr  agency_code loan_type_name  loan_type  \\\n",
       "0        CFPB            9   Conventional          1   \n",
       "1        CFPB            9   Conventional          1   \n",
       "2        CFPB            9   Conventional          1   \n",
       "3         HUD            7   Conventional          1   \n",
       "4         HUD            7    FHA-insured          2   \n",
       "\n",
       "                                  property_type_name  property_type  \\\n",
       "0  One-to-four family dwelling (other than manufa...              1   \n",
       "1  One-to-four family dwelling (other than manufa...              1   \n",
       "2  One-to-four family dwelling (other than manufa...              1   \n",
       "3  One-to-four family dwelling (other than manufa...              1   \n",
       "4  One-to-four family dwelling (other than manufa...              1   \n",
       "\n",
       "  loan_purpose_name  ...  edit_status_name edit_status  sequence_number  \\\n",
       "0  Home improvement  ...               NaN         NaN              NaN   \n",
       "1     Home purchase  ...               NaN         NaN              NaN   \n",
       "2     Home purchase  ...               NaN         NaN              NaN   \n",
       "3       Refinancing  ...               NaN         NaN              NaN   \n",
       "4       Refinancing  ...               NaN         NaN              NaN   \n",
       "\n",
       "   population minority_population  hud_median_family_income  \\\n",
       "0      4824.0           37.230000                   75200.0   \n",
       "1      7404.0           57.520000                   63200.0   \n",
       "2      3372.0           33.189999                   97400.0   \n",
       "3      8787.0           65.129997                   97400.0   \n",
       "4      5356.0           23.100000                   75200.0   \n",
       "\n",
       "  tract_to_msamd_income  number_of_owner_occupied_units  \\\n",
       "0             57.419998                           818.0   \n",
       "1            116.010002                          1215.0   \n",
       "2            141.740005                           592.0   \n",
       "3             97.269997                          1463.0   \n",
       "4            126.690002                          1711.0   \n",
       "\n",
       "  number_of_1_to_4_family_units  application_date_indicator  \n",
       "0                        1626.0                         NaN  \n",
       "1                        1743.0                         NaN  \n",
       "2                        1105.0                         NaN  \n",
       "3                        2164.0                         NaN  \n",
       "4                        2102.0                         NaN  \n",
       "\n",
       "[5 rows x 78 columns]"
      ]
     },
     "execution_count": 4,
     "metadata": {},
     "output_type": "execute_result"
    }
   ],
   "source": [
    "df.head()"
   ]
  },
  {
   "cell_type": "code",
   "execution_count": 5,
   "metadata": {},
   "outputs": [
    {
     "data": {
      "text/plain": [
       "as_of_year                              0\n",
       "respondent_id                           0\n",
       "agency_name                             0\n",
       "agency_abbr                             0\n",
       "agency_code                             0\n",
       "                                   ...   \n",
       "hud_median_family_income             7461\n",
       "tract_to_msamd_income                7461\n",
       "number_of_owner_occupied_units       7461\n",
       "number_of_1_to_4_family_units        7461\n",
       "application_date_indicator        1714459\n",
       "Length: 78, dtype: int64"
      ]
     },
     "execution_count": 5,
     "metadata": {},
     "output_type": "execute_result"
    }
   ],
   "source": [
    "df.isna().sum()"
   ]
  },
  {
   "cell_type": "code",
   "execution_count": 6,
   "metadata": {},
   "outputs": [
    {
     "name": "stdout",
     "output_type": "stream",
     "text": [
      "<class 'pandas.core.frame.DataFrame'>\n",
      "RangeIndex: 1714459 entries, 0 to 1714458\n",
      "Data columns (total 78 columns):\n",
      " #   Column                          Dtype  \n",
      "---  ------                          -----  \n",
      " 0   as_of_year                      int64  \n",
      " 1   respondent_id                   object \n",
      " 2   agency_name                     object \n",
      " 3   agency_abbr                     object \n",
      " 4   agency_code                     int64  \n",
      " 5   loan_type_name                  object \n",
      " 6   loan_type                       int64  \n",
      " 7   property_type_name              object \n",
      " 8   property_type                   int64  \n",
      " 9   loan_purpose_name               object \n",
      " 10  loan_purpose                    int64  \n",
      " 11  owner_occupancy_name            object \n",
      " 12  owner_occupancy                 int64  \n",
      " 13  loan_amount_000s                float64\n",
      " 14  preapproval_name                object \n",
      " 15  preapproval                     int64  \n",
      " 16  action_taken_name               object \n",
      " 17  action_taken                    int64  \n",
      " 18  msamd_name                      object \n",
      " 19  msamd                           float64\n",
      " 20  state_name                      object \n",
      " 21  state_abbr                      object \n",
      " 22  state_code                      int64  \n",
      " 23  county_name                     object \n",
      " 24  county_code                     float64\n",
      " 25  census_tract_number             float64\n",
      " 26  applicant_ethnicity_name        object \n",
      " 27  applicant_ethnicity             int64  \n",
      " 28  co_applicant_ethnicity_name     object \n",
      " 29  co_applicant_ethnicity          int64  \n",
      " 30  applicant_race_name_1           object \n",
      " 31  applicant_race_1                int64  \n",
      " 32  applicant_race_name_2           object \n",
      " 33  applicant_race_2                float64\n",
      " 34  applicant_race_name_3           object \n",
      " 35  applicant_race_3                float64\n",
      " 36  applicant_race_name_4           object \n",
      " 37  applicant_race_4                float64\n",
      " 38  applicant_race_name_5           object \n",
      " 39  applicant_race_5                float64\n",
      " 40  co_applicant_race_name_1        object \n",
      " 41  co_applicant_race_1             int64  \n",
      " 42  co_applicant_race_name_2        object \n",
      " 43  co_applicant_race_2             float64\n",
      " 44  co_applicant_race_name_3        object \n",
      " 45  co_applicant_race_3             float64\n",
      " 46  co_applicant_race_name_4        object \n",
      " 47  co_applicant_race_4             float64\n",
      " 48  co_applicant_race_name_5        object \n",
      " 49  co_applicant_race_5             float64\n",
      " 50  applicant_sex_name              object \n",
      " 51  applicant_sex                   int64  \n",
      " 52  co_applicant_sex_name           object \n",
      " 53  co_applicant_sex                int64  \n",
      " 54  applicant_income_000s           float64\n",
      " 55  purchaser_type_name             object \n",
      " 56  purchaser_type                  int64  \n",
      " 57  denial_reason_name_1            object \n",
      " 58  denial_reason_1                 float64\n",
      " 59  denial_reason_name_2            object \n",
      " 60  denial_reason_2                 float64\n",
      " 61  denial_reason_name_3            object \n",
      " 62  denial_reason_3                 float64\n",
      " 63  rate_spread                     float64\n",
      " 64  hoepa_status_name               object \n",
      " 65  hoepa_status                    int64  \n",
      " 66  lien_status_name                object \n",
      " 67  lien_status                     int64  \n",
      " 68  edit_status_name                float64\n",
      " 69  edit_status                     float64\n",
      " 70  sequence_number                 float64\n",
      " 71  population                      float64\n",
      " 72  minority_population             float64\n",
      " 73  hud_median_family_income        float64\n",
      " 74  tract_to_msamd_income           float64\n",
      " 75  number_of_owner_occupied_units  float64\n",
      " 76  number_of_1_to_4_family_units   float64\n",
      " 77  application_date_indicator      float64\n",
      "dtypes: float64(27), int64(18), object(33)\n",
      "memory usage: 1020.3+ MB\n"
     ]
    }
   ],
   "source": [
    "df = df.dropna(how='all')\n",
    "df.isna().sum()\n",
    "df.info()"
   ]
  },
  {
   "cell_type": "code",
   "execution_count": 7,
   "metadata": {},
   "outputs": [
    {
     "data": {
      "text/plain": [
       "Index(['as_of_year', 'respondent_id', 'agency_name', 'agency_abbr',\n",
       "       'agency_code', 'loan_type_name', 'loan_type', 'property_type_name',\n",
       "       'property_type', 'loan_purpose_name', 'loan_purpose',\n",
       "       'owner_occupancy_name', 'owner_occupancy', 'loan_amount_000s',\n",
       "       'preapproval_name', 'preapproval', 'action_taken_name', 'action_taken',\n",
       "       'msamd_name', 'msamd', 'state_name', 'state_abbr', 'state_code',\n",
       "       'county_name', 'county_code', 'census_tract_number',\n",
       "       'applicant_ethnicity_name', 'applicant_ethnicity',\n",
       "       'co_applicant_ethnicity_name', 'co_applicant_ethnicity',\n",
       "       'applicant_race_name_1', 'applicant_race_1', 'applicant_race_name_2',\n",
       "       'applicant_race_2', 'applicant_race_name_3', 'applicant_race_3',\n",
       "       'applicant_race_name_4', 'applicant_race_4', 'applicant_race_name_5',\n",
       "       'applicant_race_5', 'co_applicant_race_name_1', 'co_applicant_race_1',\n",
       "       'co_applicant_race_name_2', 'co_applicant_race_2',\n",
       "       'co_applicant_race_name_3', 'co_applicant_race_3',\n",
       "       'co_applicant_race_name_4', 'co_applicant_race_4',\n",
       "       'co_applicant_race_name_5', 'co_applicant_race_5', 'applicant_sex_name',\n",
       "       'applicant_sex', 'co_applicant_sex_name', 'co_applicant_sex',\n",
       "       'applicant_income_000s', 'purchaser_type_name', 'purchaser_type',\n",
       "       'denial_reason_name_1', 'denial_reason_1', 'denial_reason_name_2',\n",
       "       'denial_reason_2', 'denial_reason_name_3', 'denial_reason_3',\n",
       "       'rate_spread', 'hoepa_status_name', 'hoepa_status', 'lien_status_name',\n",
       "       'lien_status', 'edit_status_name', 'edit_status', 'sequence_number',\n",
       "       'population', 'minority_population', 'hud_median_family_income',\n",
       "       'tract_to_msamd_income', 'number_of_owner_occupied_units',\n",
       "       'number_of_1_to_4_family_units', 'application_date_indicator'],\n",
       "      dtype='object')"
      ]
     },
     "execution_count": 7,
     "metadata": {},
     "output_type": "execute_result"
    }
   ],
   "source": [
    "df.columns"
   ]
  },
  {
   "cell_type": "code",
   "execution_count": 8,
   "metadata": {},
   "outputs": [
    {
     "data": {
      "text/plain": [
       "array(['Consumer Financial Protection Bureau',\n",
       "       'Department of Housing and Urban Development',\n",
       "       'Office of the Comptroller of the Currency',\n",
       "       'Federal Reserve System', 'National Credit Union Administration',\n",
       "       'Federal Deposit Insurance Corporation'], dtype=object)"
      ]
     },
     "execution_count": 8,
     "metadata": {},
     "output_type": "execute_result"
    }
   ],
   "source": [
    "df['agency_name'].unique()"
   ]
  },
  {
   "cell_type": "code",
   "execution_count": 9,
   "metadata": {},
   "outputs": [
    {
     "data": {
      "text/plain": [
       "array([9, 7, 1, 2, 5, 3], dtype=int64)"
      ]
     },
     "execution_count": 9,
     "metadata": {},
     "output_type": "execute_result"
    }
   ],
   "source": [
    "df['agency_code'].unique()"
   ]
  },
  {
   "cell_type": "code",
   "execution_count": 10,
   "metadata": {},
   "outputs": [
    {
     "data": {
      "text/plain": [
       "array([1, 2, 3, 4], dtype=int64)"
      ]
     },
     "execution_count": 10,
     "metadata": {},
     "output_type": "execute_result"
    }
   ],
   "source": [
    "df['loan_type'].unique()"
   ]
  },
  {
   "cell_type": "code",
   "execution_count": 11,
   "metadata": {},
   "outputs": [],
   "source": [
    "# define get_unique_values_df function to make a dataframe of each column and its unique values\n",
    "def get_unique_values_df(df):\n",
    "\n",
    "    # initialize unique_dict and unique_values_list\n",
    "    unique_values_list = []\n",
    "\n",
    "    # copy dataframe\n",
    "    df = df.copy()\n",
    "\n",
    "    # iterate through columns\n",
    "    for column in df.columns:\n",
    "        # extract unique values\n",
    "        unique_values = df[column].unique()\n",
    "        # append unique values from each column to unique_values_list\n",
    "        unique_values_list.append(unique_values)\n",
    "\n",
    "    # make a dataframe of column name and unique values \n",
    "    values_df = pd.DataFrame({'Column Name':[col for col in df.columns], 'Unique_Count': [len(item) for item in unique_values_list], 'Unique_Values': unique_values_list}) \n",
    "\n",
    "    # return dataframe\n",
    "    return values_df"
   ]
  },
  {
   "cell_type": "code",
   "execution_count": 12,
   "metadata": {},
   "outputs": [],
   "source": [
    "unique_values_df = get_unique_values_df(df)\n",
    "unique_values_df.to_csv('./analysis/column_data.csv')\n"
   ]
  },
  {
   "cell_type": "code",
   "execution_count": 13,
   "metadata": {},
   "outputs": [],
   "source": [
    "#first round of filtering data\n",
    "columns_to_keep = ['agency_abbr','loan_type','property_type','loan_purpose','owner_occupancy','loan_amount_000s','preapproval','msamd','applicant_ethnicity','co_applicant_ethnicity','applicant_race_1','applicant_race_2','applicant_race_3','applicant_race_4','applicant_race_5','co_applicant_race_1','co_applicant_race_2','co_applicant_race_3','co_applicant_race_4','co_applicant_race_5','applicant_sex','co_applicant_sex','applicant_income_000s','purchaser_type','rate_spread','hoepa_status','lien_status','population','minority_population','hud_median_family_income','tract_to_msamd_income','number_of_owner_occupied_units','number_of_1_to_4_family_units']\n",
    "condensed_df = df.loc[:, columns_to_keep]"
   ]
  },
  {
   "cell_type": "code",
   "execution_count": 14,
   "metadata": {},
   "outputs": [
    {
     "name": "stdout",
     "output_type": "stream",
     "text": [
      "<class 'pandas.core.frame.DataFrame'>\n",
      "RangeIndex: 1714459 entries, 0 to 1714458\n",
      "Data columns (total 33 columns):\n",
      " #   Column                          Dtype  \n",
      "---  ------                          -----  \n",
      " 0   agency_abbr                     object \n",
      " 1   loan_type                       int64  \n",
      " 2   property_type                   int64  \n",
      " 3   loan_purpose                    int64  \n",
      " 4   owner_occupancy                 int64  \n",
      " 5   loan_amount_000s                float64\n",
      " 6   preapproval                     int64  \n",
      " 7   msamd                           float64\n",
      " 8   applicant_ethnicity             int64  \n",
      " 9   co_applicant_ethnicity          int64  \n",
      " 10  applicant_race_1                int64  \n",
      " 11  applicant_race_2                float64\n",
      " 12  applicant_race_3                float64\n",
      " 13  applicant_race_4                float64\n",
      " 14  applicant_race_5                float64\n",
      " 15  co_applicant_race_1             int64  \n",
      " 16  co_applicant_race_2             float64\n",
      " 17  co_applicant_race_3             float64\n",
      " 18  co_applicant_race_4             float64\n",
      " 19  co_applicant_race_5             float64\n",
      " 20  applicant_sex                   int64  \n",
      " 21  co_applicant_sex                int64  \n",
      " 22  applicant_income_000s           float64\n",
      " 23  purchaser_type                  int64  \n",
      " 24  rate_spread                     float64\n",
      " 25  hoepa_status                    int64  \n",
      " 26  lien_status                     int64  \n",
      " 27  population                      float64\n",
      " 28  minority_population             float64\n",
      " 29  hud_median_family_income        float64\n",
      " 30  tract_to_msamd_income           float64\n",
      " 31  number_of_owner_occupied_units  float64\n",
      " 32  number_of_1_to_4_family_units   float64\n",
      "dtypes: float64(18), int64(14), object(1)\n",
      "memory usage: 431.6+ MB\n"
     ]
    }
   ],
   "source": [
    "condensed_df.info()"
   ]
  },
  {
   "cell_type": "code",
   "execution_count": 15,
   "metadata": {},
   "outputs": [],
   "source": [
    "# since co/applicant_race_2 - 5 have 1.7 Million + null vallues, drop them from the list \n",
    "columns_to_keep_ml = ['loan_type','property_type','loan_purpose','owner_occupancy','loan_amount_000s','preapproval','msamd','applicant_ethnicity','co_applicant_ethnicity','applicant_race_1','co_applicant_race_1','applicant_sex','co_applicant_sex','applicant_income_000s','purchaser_type','lien_status','population','minority_population','hud_median_family_income','tract_to_msamd_income','number_of_owner_occupied_units','number_of_1_to_4_family_units']\n",
    "ml_df = df.loc[:,columns_to_keep_ml]"
   ]
  },
  {
   "cell_type": "code",
   "execution_count": 16,
   "metadata": {},
   "outputs": [
    {
     "name": "stdout",
     "output_type": "stream",
     "text": [
      "<class 'pandas.core.frame.DataFrame'>\n",
      "Int64Index: 1477033 entries, 0 to 1712242\n",
      "Data columns (total 22 columns):\n",
      " #   Column                          Non-Null Count    Dtype  \n",
      "---  ------                          --------------    -----  \n",
      " 0   loan_type                       1477033 non-null  int64  \n",
      " 1   property_type                   1477033 non-null  int64  \n",
      " 2   loan_purpose                    1477033 non-null  int64  \n",
      " 3   owner_occupancy                 1477033 non-null  int64  \n",
      " 4   loan_amount_000s                1477033 non-null  float64\n",
      " 5   preapproval                     1477033 non-null  int64  \n",
      " 6   msamd                           1477033 non-null  float64\n",
      " 7   applicant_ethnicity             1477033 non-null  int64  \n",
      " 8   co_applicant_ethnicity          1477033 non-null  int64  \n",
      " 9   applicant_race_1                1477033 non-null  int64  \n",
      " 10  co_applicant_race_1             1477033 non-null  int64  \n",
      " 11  applicant_sex                   1477033 non-null  int64  \n",
      " 12  co_applicant_sex                1477033 non-null  int64  \n",
      " 13  applicant_income_000s           1477033 non-null  float64\n",
      " 14  purchaser_type                  1477033 non-null  int64  \n",
      " 15  lien_status                     1477033 non-null  int64  \n",
      " 16  population                      1477033 non-null  float64\n",
      " 17  minority_population             1477033 non-null  float64\n",
      " 18  hud_median_family_income        1477033 non-null  float64\n",
      " 19  tract_to_msamd_income           1477033 non-null  float64\n",
      " 20  number_of_owner_occupied_units  1477033 non-null  float64\n",
      " 21  number_of_1_to_4_family_units   1477033 non-null  float64\n",
      "dtypes: float64(9), int64(13)\n",
      "memory usage: 259.2 MB\n"
     ]
    }
   ],
   "source": [
    "# clean ml_df to remove other null values\n",
    "ml_df = ml_df.dropna(how='any')\n",
    "ml_df.isna().sum()\n",
    "ml_df.info()\n"
   ]
  },
  {
   "cell_type": "code",
   "execution_count": 17,
   "metadata": {},
   "outputs": [],
   "source": [
    "ml_df.to_csv('./analysis/ml_df.csv', index=False)"
   ]
  },
  {
   "cell_type": "code",
   "execution_count": 18,
   "metadata": {},
   "outputs": [
    {
     "data": {
      "text/html": [
       "<div>\n",
       "<style scoped>\n",
       "    .dataframe tbody tr th:only-of-type {\n",
       "        vertical-align: middle;\n",
       "    }\n",
       "\n",
       "    .dataframe tbody tr th {\n",
       "        vertical-align: top;\n",
       "    }\n",
       "\n",
       "    .dataframe thead th {\n",
       "        text-align: right;\n",
       "    }\n",
       "</style>\n",
       "<table border=\"1\" class=\"dataframe\">\n",
       "  <thead>\n",
       "    <tr style=\"text-align: right;\">\n",
       "      <th></th>\n",
       "      <th>action_taken</th>\n",
       "    </tr>\n",
       "  </thead>\n",
       "  <tbody>\n",
       "    <tr>\n",
       "      <th>0</th>\n",
       "      <td>3</td>\n",
       "    </tr>\n",
       "    <tr>\n",
       "      <th>1</th>\n",
       "      <td>3</td>\n",
       "    </tr>\n",
       "    <tr>\n",
       "      <th>2</th>\n",
       "      <td>1</td>\n",
       "    </tr>\n",
       "    <tr>\n",
       "      <th>3</th>\n",
       "      <td>3</td>\n",
       "    </tr>\n",
       "    <tr>\n",
       "      <th>4</th>\n",
       "      <td>2</td>\n",
       "    </tr>\n",
       "  </tbody>\n",
       "</table>\n",
       "</div>"
      ],
      "text/plain": [
       "   action_taken\n",
       "0             3\n",
       "1             3\n",
       "2             1\n",
       "3             3\n",
       "4             2"
      ]
     },
     "execution_count": 18,
     "metadata": {},
     "output_type": "execute_result"
    }
   ],
   "source": [
    "target_df = pd.DataFrame(df.loc[:,'action_taken'])\n",
    "target_df.to_csv('./analysis/target_df.csv', index=False)\n",
    "target_df.head()"
   ]
  },
  {
   "cell_type": "code",
   "execution_count": 26,
   "metadata": {},
   "outputs": [
    {
     "data": {
      "text/plain": [
       "action_taken    int64\n",
       "dtype: object"
      ]
     },
     "execution_count": 26,
     "metadata": {},
     "output_type": "execute_result"
    }
   ],
   "source": [
    "df.action_taken_name.unique()\n",
    "target_df.dtypes"
   ]
  },
  {
   "cell_type": "code",
   "execution_count": 25,
   "metadata": {},
   "outputs": [
    {
     "name": "stdout",
     "output_type": "stream",
     "text": [
      "action_taken | 1 | ['Loan originated'] | \n",
      "action_taken | 2 | ['Application approved but not accepted'] | \n",
      "action_taken | 3 | ['Application denied by financial institution'] | \n",
      "action_taken | 4 | ['Application withdrawn by applicant'] | \n",
      "action_taken | 5 | ['File closed for incompleteness'] | \n",
      "action_taken | 6 | ['Loan purchased by the institution'] | \n",
      "action_taken | 7 | ['Preapproval request denied by financial institution'] | \n",
      "action_taken | 8 | ['Preapproval request approved but not accepted'] | \n"
     ]
    }
   ],
   "source": [
    "# determine what each action_taken number corresponds to\n",
    "action_taken_list = [1,2,3,4,5,6,7,8]\n",
    "\n",
    "for item in action_taken_list:\n",
    "    print(f'action_taken | {item} | { df.action_taken_name.loc[df.action_taken == item].unique()} | ')"
   ]
  },
  {
   "cell_type": "code",
   "execution_count": 29,
   "metadata": {},
   "outputs": [
    {
     "data": {
      "text/html": [
       "<div>\n",
       "<style scoped>\n",
       "    .dataframe tbody tr th:only-of-type {\n",
       "        vertical-align: middle;\n",
       "    }\n",
       "\n",
       "    .dataframe tbody tr th {\n",
       "        vertical-align: top;\n",
       "    }\n",
       "\n",
       "    .dataframe thead th {\n",
       "        text-align: right;\n",
       "    }\n",
       "</style>\n",
       "<table border=\"1\" class=\"dataframe\">\n",
       "  <thead>\n",
       "    <tr style=\"text-align: right;\">\n",
       "      <th></th>\n",
       "      <th>action_taken</th>\n",
       "    </tr>\n",
       "  </thead>\n",
       "  <tbody>\n",
       "    <tr>\n",
       "      <th>0</th>\n",
       "      <td>1</td>\n",
       "    </tr>\n",
       "    <tr>\n",
       "      <th>1</th>\n",
       "      <td>1</td>\n",
       "    </tr>\n",
       "    <tr>\n",
       "      <th>2</th>\n",
       "      <td>0</td>\n",
       "    </tr>\n",
       "    <tr>\n",
       "      <th>3</th>\n",
       "      <td>1</td>\n",
       "    </tr>\n",
       "    <tr>\n",
       "      <th>4</th>\n",
       "      <td>1</td>\n",
       "    </tr>\n",
       "  </tbody>\n",
       "</table>\n",
       "</div>"
      ],
      "text/plain": [
       "   action_taken\n",
       "0             1\n",
       "1             1\n",
       "2             0\n",
       "3             1\n",
       "4             1"
      ]
     },
     "execution_count": 29,
     "metadata": {},
     "output_type": "execute_result"
    }
   ],
   "source": [
    "\n",
    "    \n",
    "\n",
    "target_df.action_taken = target_df.action_taken.apply(action_taken_binary)\n",
    "target_df.head()"
   ]
  },
  {
   "cell_type": "code",
   "execution_count": 30,
   "metadata": {},
   "outputs": [
    {
     "data": {
      "text/html": [
       "<div>\n",
       "<style scoped>\n",
       "    .dataframe tbody tr th:only-of-type {\n",
       "        vertical-align: middle;\n",
       "    }\n",
       "\n",
       "    .dataframe tbody tr th {\n",
       "        vertical-align: top;\n",
       "    }\n",
       "\n",
       "    .dataframe thead th {\n",
       "        text-align: right;\n",
       "    }\n",
       "</style>\n",
       "<table border=\"1\" class=\"dataframe\">\n",
       "  <thead>\n",
       "    <tr style=\"text-align: right;\">\n",
       "      <th></th>\n",
       "      <th>action_taken</th>\n",
       "    </tr>\n",
       "  </thead>\n",
       "  <tbody>\n",
       "    <tr>\n",
       "      <th>0</th>\n",
       "      <td>1</td>\n",
       "    </tr>\n",
       "    <tr>\n",
       "      <th>1</th>\n",
       "      <td>1</td>\n",
       "    </tr>\n",
       "    <tr>\n",
       "      <th>2</th>\n",
       "      <td>0</td>\n",
       "    </tr>\n",
       "    <tr>\n",
       "      <th>3</th>\n",
       "      <td>1</td>\n",
       "    </tr>\n",
       "    <tr>\n",
       "      <th>4</th>\n",
       "      <td>1</td>\n",
       "    </tr>\n",
       "  </tbody>\n",
       "</table>\n",
       "</div>"
      ],
      "text/plain": [
       "   action_taken\n",
       "0             1\n",
       "1             1\n",
       "2             0\n",
       "3             1\n",
       "4             1"
      ]
     },
     "execution_count": 30,
     "metadata": {},
     "output_type": "execute_result"
    }
   ],
   "source": [
    "target_df.to_csv('./analysis/target_df.csv', index=False)\n",
    "target_df.head()"
   ]
  },
  {
   "cell_type": "code",
   "execution_count": 42,
   "metadata": {},
   "outputs": [
    {
     "data": {
      "text/plain": [
       "action_taken                           0\n",
       "loan_amount_000s                     945\n",
       "msamd                              46529\n",
       "applicant_income_000s             195886\n",
       "population                          7461\n",
       "minority_population                 7461\n",
       "hud_median_family_income            7461\n",
       "tract_to_msamd_income               7461\n",
       "number_of_owner_occupied_units      7461\n",
       "number_of_1_to_4_family_units       7461\n",
       "loan_type_name                         0\n",
       "property_type_name                     0\n",
       "loan_purpose_name                      0\n",
       "owner_occupancy_name                   0\n",
       "preapproval_name                       0\n",
       "applicant_ethnicity_name               0\n",
       "co_applicant_ethnicity_name            0\n",
       "purchaser_type_name                    0\n",
       "dtype: int64"
      ]
     },
     "execution_count": 42,
     "metadata": {},
     "output_type": "execute_result"
    }
   ],
   "source": [
    "sml_columns = ['action_taken','loan_amount_000s', 'msamd','applicant_income_000s','population','minority_population','hud_median_family_income','tract_to_msamd_income','number_of_owner_occupied_units','number_of_1_to_4_family_units', 'loan_type_name', 'property_type_name', 'loan_purpose_name' ,'owner_occupancy_name' ,'preapproval_name', 'applicant_ethnicity_name','co_applicant_ethnicity_name','purchaser_type_name']\n",
    "\n",
    "sml_df = df.loc[:, sml_columns]\n",
    "sml_df.isna().sum()"
   ]
  },
  {
   "cell_type": "code",
   "execution_count": 43,
   "metadata": {},
   "outputs": [],
   "source": [
    "sml_df = sml_df.dropna(how='any')"
   ]
  },
  {
   "cell_type": "code",
   "execution_count": 45,
   "metadata": {},
   "outputs": [
    {
     "name": "stdout",
     "output_type": "stream",
     "text": [
      "<class 'pandas.core.frame.DataFrame'>\n",
      "Int64Index: 1477033 entries, 0 to 1712242\n",
      "Data columns (total 18 columns):\n",
      " #   Column                          Non-Null Count    Dtype  \n",
      "---  ------                          --------------    -----  \n",
      " 0   action_taken                    1477033 non-null  int64  \n",
      " 1   loan_amount_000s                1477033 non-null  float64\n",
      " 2   msamd                           1477033 non-null  float64\n",
      " 3   applicant_income_000s           1477033 non-null  float64\n",
      " 4   population                      1477033 non-null  float64\n",
      " 5   minority_population             1477033 non-null  float64\n",
      " 6   hud_median_family_income        1477033 non-null  float64\n",
      " 7   tract_to_msamd_income           1477033 non-null  float64\n",
      " 8   number_of_owner_occupied_units  1477033 non-null  float64\n",
      " 9   number_of_1_to_4_family_units   1477033 non-null  float64\n",
      " 10  loan_type_name                  1477033 non-null  object \n",
      " 11  property_type_name              1477033 non-null  object \n",
      " 12  loan_purpose_name               1477033 non-null  object \n",
      " 13  owner_occupancy_name            1477033 non-null  object \n",
      " 14  preapproval_name                1477033 non-null  object \n",
      " 15  applicant_ethnicity_name        1477033 non-null  object \n",
      " 16  co_applicant_ethnicity_name     1477033 non-null  object \n",
      " 17  purchaser_type_name             1477033 non-null  object \n",
      "dtypes: float64(9), int64(1), object(8)\n",
      "memory usage: 214.1+ MB\n"
     ]
    }
   ],
   "source": [
    "sml_df.info()"
   ]
  },
  {
   "cell_type": "code",
   "execution_count": 44,
   "metadata": {},
   "outputs": [],
   "source": [
    "sml_df.to_csv('analysis/sml_df.csv', index=False)"
   ]
  },
  {
   "cell_type": "code",
   "execution_count": null,
   "metadata": {},
   "outputs": [],
   "source": []
  }
 ],
 "metadata": {
  "kernelspec": {
   "display_name": "Python 3",
   "language": "python",
   "name": "python3"
  },
  "language_info": {
   "codemirror_mode": {
    "name": "ipython",
    "version": 3
   },
   "file_extension": ".py",
   "mimetype": "text/x-python",
   "name": "python",
   "nbconvert_exporter": "python",
   "pygments_lexer": "ipython3",
   "version": "3.9.16"
  },
  "orig_nbformat": 4,
  "vscode": {
   "interpreter": {
    "hash": "f93e448cf9fc44469b8f4a69eacb58e0039182c35efd336dd4bf63c407e2fe68"
   }
  }
 },
 "nbformat": 4,
 "nbformat_minor": 2
}
