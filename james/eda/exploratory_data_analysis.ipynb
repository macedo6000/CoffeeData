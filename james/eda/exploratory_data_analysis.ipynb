{
 "cells": [
  {
   "cell_type": "code",
   "execution_count": 204,
   "metadata": {},
   "outputs": [],
   "source": [
    "# import dependencies\n",
    "import pandas as pd\n",
    "from path import Path \n",
    "import numpy as np \n",
    "import os"
   ]
  },
  {
   "cell_type": "code",
   "execution_count": 205,
   "metadata": {},
   "outputs": [
    {
     "name": "stderr",
     "output_type": "stream",
     "text": [
      "C:\\Users\\jsrit\\AppData\\Local\\Temp\\ipykernel_32696\\4078387195.py:3: DtypeWarning: Columns (34,36,38,42,44,46,48) have mixed types. Specify dtype option on import or set low_memory=False.\n",
      "  df = pd.read_csv(path)\n"
     ]
    }
   ],
   "source": [
    "# set path and load dataframe\n",
    "path = Path('../data/raw_data/hmda_2017_ca_all-records_labels.csv')\n",
    "df = pd.read_csv(path)"
   ]
  },
  {
   "cell_type": "code",
   "execution_count": 206,
   "metadata": {},
   "outputs": [
    {
     "data": {
      "text/html": [
       "<div>\n",
       "<style scoped>\n",
       "    .dataframe tbody tr th:only-of-type {\n",
       "        vertical-align: middle;\n",
       "    }\n",
       "\n",
       "    .dataframe tbody tr th {\n",
       "        vertical-align: top;\n",
       "    }\n",
       "\n",
       "    .dataframe thead th {\n",
       "        text-align: right;\n",
       "    }\n",
       "</style>\n",
       "<table border=\"1\" class=\"dataframe\">\n",
       "  <thead>\n",
       "    <tr style=\"text-align: right;\">\n",
       "      <th></th>\n",
       "      <th>as_of_year</th>\n",
       "      <th>respondent_id</th>\n",
       "      <th>agency_name</th>\n",
       "      <th>agency_abbr</th>\n",
       "      <th>agency_code</th>\n",
       "      <th>loan_type_name</th>\n",
       "      <th>loan_type</th>\n",
       "      <th>property_type_name</th>\n",
       "      <th>property_type</th>\n",
       "      <th>loan_purpose_name</th>\n",
       "      <th>...</th>\n",
       "      <th>edit_status_name</th>\n",
       "      <th>edit_status</th>\n",
       "      <th>sequence_number</th>\n",
       "      <th>population</th>\n",
       "      <th>minority_population</th>\n",
       "      <th>hud_median_family_income</th>\n",
       "      <th>tract_to_msamd_income</th>\n",
       "      <th>number_of_owner_occupied_units</th>\n",
       "      <th>number_of_1_to_4_family_units</th>\n",
       "      <th>application_date_indicator</th>\n",
       "    </tr>\n",
       "  </thead>\n",
       "  <tbody>\n",
       "    <tr>\n",
       "      <th>0</th>\n",
       "      <td>2017</td>\n",
       "      <td>0000451965</td>\n",
       "      <td>Consumer Financial Protection Bureau</td>\n",
       "      <td>CFPB</td>\n",
       "      <td>9</td>\n",
       "      <td>Conventional</td>\n",
       "      <td>1</td>\n",
       "      <td>One-to-four family dwelling (other than manufa...</td>\n",
       "      <td>1</td>\n",
       "      <td>Home improvement</td>\n",
       "      <td>...</td>\n",
       "      <td>NaN</td>\n",
       "      <td>NaN</td>\n",
       "      <td>NaN</td>\n",
       "      <td>4824.0</td>\n",
       "      <td>37.230000</td>\n",
       "      <td>75200.0</td>\n",
       "      <td>57.419998</td>\n",
       "      <td>818.0</td>\n",
       "      <td>1626.0</td>\n",
       "      <td>NaN</td>\n",
       "    </tr>\n",
       "    <tr>\n",
       "      <th>1</th>\n",
       "      <td>2017</td>\n",
       "      <td>0000146672</td>\n",
       "      <td>Consumer Financial Protection Bureau</td>\n",
       "      <td>CFPB</td>\n",
       "      <td>9</td>\n",
       "      <td>Conventional</td>\n",
       "      <td>1</td>\n",
       "      <td>One-to-four family dwelling (other than manufa...</td>\n",
       "      <td>1</td>\n",
       "      <td>Home purchase</td>\n",
       "      <td>...</td>\n",
       "      <td>NaN</td>\n",
       "      <td>NaN</td>\n",
       "      <td>NaN</td>\n",
       "      <td>7404.0</td>\n",
       "      <td>57.520000</td>\n",
       "      <td>63200.0</td>\n",
       "      <td>116.010002</td>\n",
       "      <td>1215.0</td>\n",
       "      <td>1743.0</td>\n",
       "      <td>NaN</td>\n",
       "    </tr>\n",
       "    <tr>\n",
       "      <th>2</th>\n",
       "      <td>2017</td>\n",
       "      <td>0000451965</td>\n",
       "      <td>Consumer Financial Protection Bureau</td>\n",
       "      <td>CFPB</td>\n",
       "      <td>9</td>\n",
       "      <td>Conventional</td>\n",
       "      <td>1</td>\n",
       "      <td>One-to-four family dwelling (other than manufa...</td>\n",
       "      <td>1</td>\n",
       "      <td>Home purchase</td>\n",
       "      <td>...</td>\n",
       "      <td>NaN</td>\n",
       "      <td>NaN</td>\n",
       "      <td>NaN</td>\n",
       "      <td>3372.0</td>\n",
       "      <td>33.189999</td>\n",
       "      <td>97400.0</td>\n",
       "      <td>141.740005</td>\n",
       "      <td>592.0</td>\n",
       "      <td>1105.0</td>\n",
       "      <td>NaN</td>\n",
       "    </tr>\n",
       "    <tr>\n",
       "      <th>3</th>\n",
       "      <td>2017</td>\n",
       "      <td>13-6131491</td>\n",
       "      <td>Department of Housing and Urban Development</td>\n",
       "      <td>HUD</td>\n",
       "      <td>7</td>\n",
       "      <td>Conventional</td>\n",
       "      <td>1</td>\n",
       "      <td>One-to-four family dwelling (other than manufa...</td>\n",
       "      <td>1</td>\n",
       "      <td>Refinancing</td>\n",
       "      <td>...</td>\n",
       "      <td>NaN</td>\n",
       "      <td>NaN</td>\n",
       "      <td>NaN</td>\n",
       "      <td>8787.0</td>\n",
       "      <td>65.129997</td>\n",
       "      <td>97400.0</td>\n",
       "      <td>97.269997</td>\n",
       "      <td>1463.0</td>\n",
       "      <td>2164.0</td>\n",
       "      <td>NaN</td>\n",
       "    </tr>\n",
       "    <tr>\n",
       "      <th>4</th>\n",
       "      <td>2017</td>\n",
       "      <td>33-0419992</td>\n",
       "      <td>Department of Housing and Urban Development</td>\n",
       "      <td>HUD</td>\n",
       "      <td>7</td>\n",
       "      <td>FHA-insured</td>\n",
       "      <td>2</td>\n",
       "      <td>One-to-four family dwelling (other than manufa...</td>\n",
       "      <td>1</td>\n",
       "      <td>Refinancing</td>\n",
       "      <td>...</td>\n",
       "      <td>NaN</td>\n",
       "      <td>NaN</td>\n",
       "      <td>NaN</td>\n",
       "      <td>5356.0</td>\n",
       "      <td>23.100000</td>\n",
       "      <td>75200.0</td>\n",
       "      <td>126.690002</td>\n",
       "      <td>1711.0</td>\n",
       "      <td>2102.0</td>\n",
       "      <td>NaN</td>\n",
       "    </tr>\n",
       "  </tbody>\n",
       "</table>\n",
       "<p>5 rows × 78 columns</p>\n",
       "</div>"
      ],
      "text/plain": [
       "   as_of_year respondent_id                                  agency_name  \\\n",
       "0        2017    0000451965         Consumer Financial Protection Bureau   \n",
       "1        2017    0000146672         Consumer Financial Protection Bureau   \n",
       "2        2017    0000451965         Consumer Financial Protection Bureau   \n",
       "3        2017    13-6131491  Department of Housing and Urban Development   \n",
       "4        2017    33-0419992  Department of Housing and Urban Development   \n",
       "\n",
       "  agency_abbr  agency_code loan_type_name  loan_type  \\\n",
       "0        CFPB            9   Conventional          1   \n",
       "1        CFPB            9   Conventional          1   \n",
       "2        CFPB            9   Conventional          1   \n",
       "3         HUD            7   Conventional          1   \n",
       "4         HUD            7    FHA-insured          2   \n",
       "\n",
       "                                  property_type_name  property_type  \\\n",
       "0  One-to-four family dwelling (other than manufa...              1   \n",
       "1  One-to-four family dwelling (other than manufa...              1   \n",
       "2  One-to-four family dwelling (other than manufa...              1   \n",
       "3  One-to-four family dwelling (other than manufa...              1   \n",
       "4  One-to-four family dwelling (other than manufa...              1   \n",
       "\n",
       "  loan_purpose_name  ...  edit_status_name edit_status  sequence_number  \\\n",
       "0  Home improvement  ...               NaN         NaN              NaN   \n",
       "1     Home purchase  ...               NaN         NaN              NaN   \n",
       "2     Home purchase  ...               NaN         NaN              NaN   \n",
       "3       Refinancing  ...               NaN         NaN              NaN   \n",
       "4       Refinancing  ...               NaN         NaN              NaN   \n",
       "\n",
       "   population minority_population  hud_median_family_income  \\\n",
       "0      4824.0           37.230000                   75200.0   \n",
       "1      7404.0           57.520000                   63200.0   \n",
       "2      3372.0           33.189999                   97400.0   \n",
       "3      8787.0           65.129997                   97400.0   \n",
       "4      5356.0           23.100000                   75200.0   \n",
       "\n",
       "  tract_to_msamd_income  number_of_owner_occupied_units  \\\n",
       "0             57.419998                           818.0   \n",
       "1            116.010002                          1215.0   \n",
       "2            141.740005                           592.0   \n",
       "3             97.269997                          1463.0   \n",
       "4            126.690002                          1711.0   \n",
       "\n",
       "  number_of_1_to_4_family_units  application_date_indicator  \n",
       "0                        1626.0                         NaN  \n",
       "1                        1743.0                         NaN  \n",
       "2                        1105.0                         NaN  \n",
       "3                        2164.0                         NaN  \n",
       "4                        2102.0                         NaN  \n",
       "\n",
       "[5 rows x 78 columns]"
      ]
     },
     "execution_count": 206,
     "metadata": {},
     "output_type": "execute_result"
    }
   ],
   "source": [
    "df.head()"
   ]
  },
  {
   "cell_type": "code",
   "execution_count": 207,
   "metadata": {},
   "outputs": [
    {
     "data": {
      "text/plain": [
       "as_of_year                              0\n",
       "respondent_id                           0\n",
       "agency_name                             0\n",
       "agency_abbr                             0\n",
       "agency_code                             0\n",
       "                                   ...   \n",
       "hud_median_family_income             7461\n",
       "tract_to_msamd_income                7461\n",
       "number_of_owner_occupied_units       7461\n",
       "number_of_1_to_4_family_units        7461\n",
       "application_date_indicator        1714459\n",
       "Length: 78, dtype: int64"
      ]
     },
     "execution_count": 207,
     "metadata": {},
     "output_type": "execute_result"
    }
   ],
   "source": [
    "df.isna().sum()"
   ]
  },
  {
   "cell_type": "code",
   "execution_count": 208,
   "metadata": {},
   "outputs": [],
   "source": [
    "# (in case) drop any rows with all null values \n",
    "df = df.dropna(how='all')\n"
   ]
  },
  {
   "cell_type": "code",
   "execution_count": 209,
   "metadata": {},
   "outputs": [
    {
     "name": "stdout",
     "output_type": "stream",
     "text": [
      "<class 'pandas.core.frame.DataFrame'>\n",
      "RangeIndex: 1714459 entries, 0 to 1714458\n",
      "Data columns (total 78 columns):\n",
      " #   Column                          Dtype  \n",
      "---  ------                          -----  \n",
      " 0   as_of_year                      int64  \n",
      " 1   respondent_id                   object \n",
      " 2   agency_name                     object \n",
      " 3   agency_abbr                     object \n",
      " 4   agency_code                     int64  \n",
      " 5   loan_type_name                  object \n",
      " 6   loan_type                       int64  \n",
      " 7   property_type_name              object \n",
      " 8   property_type                   int64  \n",
      " 9   loan_purpose_name               object \n",
      " 10  loan_purpose                    int64  \n",
      " 11  owner_occupancy_name            object \n",
      " 12  owner_occupancy                 int64  \n",
      " 13  loan_amount_000s                float64\n",
      " 14  preapproval_name                object \n",
      " 15  preapproval                     int64  \n",
      " 16  action_taken_name               object \n",
      " 17  action_taken                    int64  \n",
      " 18  msamd_name                      object \n",
      " 19  msamd                           float64\n",
      " 20  state_name                      object \n",
      " 21  state_abbr                      object \n",
      " 22  state_code                      int64  \n",
      " 23  county_name                     object \n",
      " 24  county_code                     float64\n",
      " 25  census_tract_number             float64\n",
      " 26  applicant_ethnicity_name        object \n",
      " 27  applicant_ethnicity             int64  \n",
      " 28  co_applicant_ethnicity_name     object \n",
      " 29  co_applicant_ethnicity          int64  \n",
      " 30  applicant_race_name_1           object \n",
      " 31  applicant_race_1                int64  \n",
      " 32  applicant_race_name_2           object \n",
      " 33  applicant_race_2                float64\n",
      " 34  applicant_race_name_3           object \n",
      " 35  applicant_race_3                float64\n",
      " 36  applicant_race_name_4           object \n",
      " 37  applicant_race_4                float64\n",
      " 38  applicant_race_name_5           object \n",
      " 39  applicant_race_5                float64\n",
      " 40  co_applicant_race_name_1        object \n",
      " 41  co_applicant_race_1             int64  \n",
      " 42  co_applicant_race_name_2        object \n",
      " 43  co_applicant_race_2             float64\n",
      " 44  co_applicant_race_name_3        object \n",
      " 45  co_applicant_race_3             float64\n",
      " 46  co_applicant_race_name_4        object \n",
      " 47  co_applicant_race_4             float64\n",
      " 48  co_applicant_race_name_5        object \n",
      " 49  co_applicant_race_5             float64\n",
      " 50  applicant_sex_name              object \n",
      " 51  applicant_sex                   int64  \n",
      " 52  co_applicant_sex_name           object \n",
      " 53  co_applicant_sex                int64  \n",
      " 54  applicant_income_000s           float64\n",
      " 55  purchaser_type_name             object \n",
      " 56  purchaser_type                  int64  \n",
      " 57  denial_reason_name_1            object \n",
      " 58  denial_reason_1                 float64\n",
      " 59  denial_reason_name_2            object \n",
      " 60  denial_reason_2                 float64\n",
      " 61  denial_reason_name_3            object \n",
      " 62  denial_reason_3                 float64\n",
      " 63  rate_spread                     float64\n",
      " 64  hoepa_status_name               object \n",
      " 65  hoepa_status                    int64  \n",
      " 66  lien_status_name                object \n",
      " 67  lien_status                     int64  \n",
      " 68  edit_status_name                float64\n",
      " 69  edit_status                     float64\n",
      " 70  sequence_number                 float64\n",
      " 71  population                      float64\n",
      " 72  minority_population             float64\n",
      " 73  hud_median_family_income        float64\n",
      " 74  tract_to_msamd_income           float64\n",
      " 75  number_of_owner_occupied_units  float64\n",
      " 76  number_of_1_to_4_family_units   float64\n",
      " 77  application_date_indicator      float64\n",
      "dtypes: float64(27), int64(18), object(33)\n",
      "memory usage: 1020.3+ MB\n"
     ]
    }
   ],
   "source": [
    "# df.isna().sum()\n",
    "df_info = df.info()\n"
   ]
  },
  {
   "cell_type": "code",
   "execution_count": 210,
   "metadata": {},
   "outputs": [
    {
     "data": {
      "text/plain": [
       "1212"
      ]
     },
     "execution_count": 210,
     "metadata": {},
     "output_type": "execute_result"
    }
   ],
   "source": [
    "# Check if respondent_id can serve as primary key\n",
    "len(df['respondent_id'].unique())\n",
    "\n",
    "\n",
    "# it cannot"
   ]
  },
  {
   "cell_type": "code",
   "execution_count": 211,
   "metadata": {},
   "outputs": [
    {
     "data": {
      "text/plain": [
       "Secured by a first lien          1414092\n",
       "Not applicable                    233447\n",
       "Secured by a subordinate lien      47535\n",
       "Not secured by a lien              19385\n",
       "Name: lien_status_name, dtype: int64"
      ]
     },
     "execution_count": 211,
     "metadata": {},
     "output_type": "execute_result"
    }
   ],
   "source": [
    "# find out value counts for a few columns\n",
    "df['lien_status_name'].value_counts()"
   ]
  },
  {
   "cell_type": "code",
   "execution_count": 212,
   "metadata": {},
   "outputs": [
    {
     "data": {
      "text/plain": [
       "No co-applicant                                                                      829501\n",
       "Female                                                                               539619\n",
       "Male                                                                                 140865\n",
       "Not applicable                                                                       132213\n",
       "Information not provided by applicant in mail, Internet, or telephone application     72261\n",
       "Name: co_applicant_sex_name, dtype: int64"
      ]
     },
     "execution_count": 212,
     "metadata": {},
     "output_type": "execute_result"
    }
   ],
   "source": [
    "df.co_applicant_sex_name.value_counts()"
   ]
  },
  {
   "cell_type": "code",
   "execution_count": 213,
   "metadata": {},
   "outputs": [
    {
     "data": {
      "text/plain": [
       "Loan was not originated or was not sold in calendar year covered by register    893403\n",
       "Fannie Mae (FNMA)                                                               257246\n",
       "Freddie Mac (FHLMC)                                                             171975\n",
       "Ginnie Mae (GNMA)                                                               158456\n",
       "Commercial bank, savings bank or savings association                             89764\n",
       "Life insurance company, credit union, mortgage bank, or finance company          82080\n",
       "Other type of purchaser                                                          31979\n",
       "Private securitization                                                           17202\n",
       "Affiliate institution                                                            12319\n",
       "Farmer Mac (FAMC)                                                                   35\n",
       "Name: purchaser_type_name, dtype: int64"
      ]
     },
     "execution_count": 213,
     "metadata": {},
     "output_type": "execute_result"
    }
   ],
   "source": [
    "df.purchaser_type_name.value_counts()"
   ]
  },
  {
   "cell_type": "code",
   "execution_count": 214,
   "metadata": {},
   "outputs": [
    {
     "data": {
      "text/plain": [
       "Not a HOEPA loan    1713944\n",
       "HOEPA loan              515\n",
       "Name: hoepa_status_name, dtype: int64"
      ]
     },
     "execution_count": 214,
     "metadata": {},
     "output_type": "execute_result"
    }
   ],
   "source": [
    "df['hoepa_status_name'].value_counts()"
   ]
  },
  {
   "cell_type": "code",
   "execution_count": 215,
   "metadata": {},
   "outputs": [
    {
     "name": "stdout",
     "output_type": "stream",
     "text": [
      "Debt-to-income ratio                              49084\n",
      "Credit history                                    28375\n",
      "Credit application incomplete                     23034\n",
      "Collateral                                        19886\n",
      "Other                                             14627\n",
      "Unverifiable information                           9060\n",
      "Insufficient cash (downpayment, closing costs)     4858\n",
      "Employment history                                 1531\n",
      "Mortgage insurance denied                            67\n",
      "Name: denial_reason_name_1, dtype: int64\n",
      "150522\n"
     ]
    }
   ],
   "source": [
    "print(df['denial_reason_name_1'].value_counts())\n",
    "print(df.denial_reason_name_1.count())\n"
   ]
  },
  {
   "cell_type": "code",
   "execution_count": 216,
   "metadata": {},
   "outputs": [],
   "source": [
    "# Define column_value_counts function to determine how data is organized \n",
    "def column_value_counts(data):\n",
    "\n",
    "    data = data.copy()\n",
    "\n",
    "    column_list = []\n",
    "    value_counts_dict = {}\n",
    "\n",
    "    # loop through columns in dataframe \n",
    "    for column in data.columns:\n",
    "        # check if \n",
    "        if not os.path.isdir(f'./column_value_counts/{column}'):\n",
    "            os.makedirs(f'./column_value_counts/{column}')\n",
    "\n",
    "        # assign value_counts for column to col_vc\n",
    "        col_vc = data[column].value_counts()\n",
    "        # make a dataframe, vc_df, from col_vc; reset index values, reset column names, and sort\n",
    "        vc_df = pd.DataFrame(col_vc.reset_index().values, columns=['Value','Count']).sort_index(axis=0, ascending=True)\n",
    "        # export column value counts df to csv in column_value_counts folder\n",
    "        vc_df.to_csv(f'./column_value_counts/{column}/Value_Counts_{column}.csv', index=False)\n",
    "        # set value_counts_dict {key: column, value: value counts df}\n",
    "        value_counts_dict[column] = vc_df\n",
    "        # append column name to column_list\n",
    "        column_list.append(column)\n",
    "\n",
    "    return column_list, value_counts_dict"
   ]
  },
  {
   "cell_type": "code",
   "execution_count": 217,
   "metadata": {},
   "outputs": [],
   "source": [
    "column_list, value_counts_dict = column_value_counts(df)"
   ]
  },
  {
   "cell_type": "code",
   "execution_count": 218,
   "metadata": {},
   "outputs": [
    {
     "data": {
      "text/html": [
       "<div>\n",
       "<style scoped>\n",
       "    .dataframe tbody tr th:only-of-type {\n",
       "        vertical-align: middle;\n",
       "    }\n",
       "\n",
       "    .dataframe tbody tr th {\n",
       "        vertical-align: top;\n",
       "    }\n",
       "\n",
       "    .dataframe thead th {\n",
       "        text-align: right;\n",
       "    }\n",
       "</style>\n",
       "<table border=\"1\" class=\"dataframe\">\n",
       "  <thead>\n",
       "    <tr style=\"text-align: right;\">\n",
       "      <th></th>\n",
       "      <th>Value</th>\n",
       "      <th>Count</th>\n",
       "    </tr>\n",
       "  </thead>\n",
       "  <tbody>\n",
       "    <tr>\n",
       "      <th>0</th>\n",
       "      <td>Conventional</td>\n",
       "      <td>1324862</td>\n",
       "    </tr>\n",
       "    <tr>\n",
       "      <th>1</th>\n",
       "      <td>FHA-insured</td>\n",
       "      <td>255304</td>\n",
       "    </tr>\n",
       "    <tr>\n",
       "      <th>2</th>\n",
       "      <td>VA-guaranteed</td>\n",
       "      <td>128964</td>\n",
       "    </tr>\n",
       "    <tr>\n",
       "      <th>3</th>\n",
       "      <td>FSA/RHS-guaranteed</td>\n",
       "      <td>5329</td>\n",
       "    </tr>\n",
       "  </tbody>\n",
       "</table>\n",
       "</div>"
      ],
      "text/plain": [
       "                Value    Count\n",
       "0        Conventional  1324862\n",
       "1         FHA-insured   255304\n",
       "2       VA-guaranteed   128964\n",
       "3  FSA/RHS-guaranteed     5329"
      ]
     },
     "execution_count": 218,
     "metadata": {},
     "output_type": "execute_result"
    }
   ],
   "source": [
    "value_counts_dict['loan_type_name']\n"
   ]
  },
  {
   "cell_type": "code",
   "execution_count": 219,
   "metadata": {},
   "outputs": [
    {
     "data": {
      "text/html": [
       "<div>\n",
       "<style scoped>\n",
       "    .dataframe tbody tr th:only-of-type {\n",
       "        vertical-align: middle;\n",
       "    }\n",
       "\n",
       "    .dataframe tbody tr th {\n",
       "        vertical-align: top;\n",
       "    }\n",
       "\n",
       "    .dataframe thead th {\n",
       "        text-align: right;\n",
       "    }\n",
       "</style>\n",
       "<table border=\"1\" class=\"dataframe\">\n",
       "  <thead>\n",
       "    <tr style=\"text-align: right;\">\n",
       "      <th></th>\n",
       "      <th>Value</th>\n",
       "      <th>Count</th>\n",
       "    </tr>\n",
       "  </thead>\n",
       "  <tbody>\n",
       "    <tr>\n",
       "      <th>0</th>\n",
       "      <td>Loan was not originated or was not sold in cal...</td>\n",
       "      <td>893403</td>\n",
       "    </tr>\n",
       "    <tr>\n",
       "      <th>1</th>\n",
       "      <td>Fannie Mae (FNMA)</td>\n",
       "      <td>257246</td>\n",
       "    </tr>\n",
       "    <tr>\n",
       "      <th>2</th>\n",
       "      <td>Freddie Mac (FHLMC)</td>\n",
       "      <td>171975</td>\n",
       "    </tr>\n",
       "    <tr>\n",
       "      <th>3</th>\n",
       "      <td>Ginnie Mae (GNMA)</td>\n",
       "      <td>158456</td>\n",
       "    </tr>\n",
       "    <tr>\n",
       "      <th>4</th>\n",
       "      <td>Commercial bank, savings bank or savings assoc...</td>\n",
       "      <td>89764</td>\n",
       "    </tr>\n",
       "    <tr>\n",
       "      <th>5</th>\n",
       "      <td>Life insurance company, credit union, mortgage...</td>\n",
       "      <td>82080</td>\n",
       "    </tr>\n",
       "    <tr>\n",
       "      <th>6</th>\n",
       "      <td>Other type of purchaser</td>\n",
       "      <td>31979</td>\n",
       "    </tr>\n",
       "    <tr>\n",
       "      <th>7</th>\n",
       "      <td>Private securitization</td>\n",
       "      <td>17202</td>\n",
       "    </tr>\n",
       "    <tr>\n",
       "      <th>8</th>\n",
       "      <td>Affiliate institution</td>\n",
       "      <td>12319</td>\n",
       "    </tr>\n",
       "    <tr>\n",
       "      <th>9</th>\n",
       "      <td>Farmer Mac (FAMC)</td>\n",
       "      <td>35</td>\n",
       "    </tr>\n",
       "  </tbody>\n",
       "</table>\n",
       "</div>"
      ],
      "text/plain": [
       "                                               Value   Count\n",
       "0  Loan was not originated or was not sold in cal...  893403\n",
       "1                                  Fannie Mae (FNMA)  257246\n",
       "2                                Freddie Mac (FHLMC)  171975\n",
       "3                                  Ginnie Mae (GNMA)  158456\n",
       "4  Commercial bank, savings bank or savings assoc...   89764\n",
       "5  Life insurance company, credit union, mortgage...   82080\n",
       "6                            Other type of purchaser   31979\n",
       "7                             Private securitization   17202\n",
       "8                              Affiliate institution   12319\n",
       "9                                  Farmer Mac (FAMC)      35"
      ]
     },
     "execution_count": 219,
     "metadata": {},
     "output_type": "execute_result"
    }
   ],
   "source": [
    "value_counts_dict['purchaser_type_name']\n"
   ]
  },
  {
   "cell_type": "code",
   "execution_count": 220,
   "metadata": {},
   "outputs": [],
   "source": [
    "def compile_value_counts_df(vc_dict):\n",
    "    # initialize compiled value counts dataframe\n",
    "    comp_vc_df = pd.DataFrame()\n",
    "\n",
    "    # iterate through value counts dictionary to extract value counts data for each column\n",
    "    for key in vc_dict.keys():\n",
    "        # set vc_df to the key's corresponding value (eg. column's value count dataframe)\n",
    "        vc_df = vc_dict[key]\n",
    "        vc_df.sort_values(by=['Count'], ascending=False)\n",
    "        # create new Column by the same name, with key's name inputed\n",
    "        vc_df['Column'] = f'{key}'\n",
    "        # concatenate vc_df with comp_vc_df\n",
    "        comp_vc_df = pd.concat([comp_vc_df, vc_df], ignore_index=True, axis=0)\n",
    "    #return comp_vc_df\n",
    "    return comp_vc_df"
   ]
  },
  {
   "cell_type": "code",
   "execution_count": 221,
   "metadata": {},
   "outputs": [],
   "source": [
    "vc_df = compile_value_counts_df(vc_dict=value_counts_dict)"
   ]
  },
  {
   "cell_type": "code",
   "execution_count": 222,
   "metadata": {},
   "outputs": [
    {
     "name": "stdout",
     "output_type": "stream",
     "text": [
      "38477\n"
     ]
    },
    {
     "data": {
      "text/html": [
       "<div>\n",
       "<style scoped>\n",
       "    .dataframe tbody tr th:only-of-type {\n",
       "        vertical-align: middle;\n",
       "    }\n",
       "\n",
       "    .dataframe tbody tr th {\n",
       "        vertical-align: top;\n",
       "    }\n",
       "\n",
       "    .dataframe thead th {\n",
       "        text-align: right;\n",
       "    }\n",
       "</style>\n",
       "<table border=\"1\" class=\"dataframe\">\n",
       "  <thead>\n",
       "    <tr style=\"text-align: right;\">\n",
       "      <th></th>\n",
       "      <th>Column</th>\n",
       "      <th>Value</th>\n",
       "      <th>Count</th>\n",
       "    </tr>\n",
       "  </thead>\n",
       "  <tbody>\n",
       "    <tr>\n",
       "      <th>0</th>\n",
       "      <td>as_of_year</td>\n",
       "      <td>2017</td>\n",
       "      <td>1714459</td>\n",
       "    </tr>\n",
       "    <tr>\n",
       "      <th>1</th>\n",
       "      <td>respondent_id</td>\n",
       "      <td>0000451965</td>\n",
       "      <td>153638</td>\n",
       "    </tr>\n",
       "    <tr>\n",
       "      <th>2</th>\n",
       "      <td>respondent_id</td>\n",
       "      <td>0000852218</td>\n",
       "      <td>72457</td>\n",
       "    </tr>\n",
       "    <tr>\n",
       "      <th>3</th>\n",
       "      <td>respondent_id</td>\n",
       "      <td>7197000003</td>\n",
       "      <td>59900</td>\n",
       "    </tr>\n",
       "    <tr>\n",
       "      <th>4</th>\n",
       "      <td>respondent_id</td>\n",
       "      <td>0000480228</td>\n",
       "      <td>52903</td>\n",
       "    </tr>\n",
       "  </tbody>\n",
       "</table>\n",
       "</div>"
      ],
      "text/plain": [
       "          Column       Value    Count\n",
       "0     as_of_year        2017  1714459\n",
       "1  respondent_id  0000451965   153638\n",
       "2  respondent_id  0000852218    72457\n",
       "3  respondent_id  7197000003    59900\n",
       "4  respondent_id  0000480228    52903"
      ]
     },
     "execution_count": 222,
     "metadata": {},
     "output_type": "execute_result"
    }
   ],
   "source": [
    "print(len(vc_df))\n",
    "vc_df = vc_df[['Column','Value','Count']]\n",
    "vc_df.to_csv('./columnar_value_counts.csv', index=False)\n",
    "vc_df.head()\n"
   ]
  },
  {
   "cell_type": "code",
   "execution_count": 223,
   "metadata": {},
   "outputs": [],
   "source": [
    "vc_df_sorted = vc_df.sort_values(by=['Count'], ascending=False)\n",
    "\n",
    "vc_df_sorted.to_csv('./columnar_VC_high_low.csv', index=False)\n"
   ]
  },
  {
   "cell_type": "code",
   "execution_count": 224,
   "metadata": {},
   "outputs": [],
   "source": [
    "# define get_unique_values_df function to make a dataframe of each column and its unique values\n",
    "def get_unique_values_df(df):\n",
    "\n",
    "    # initialize unique_dict and unique_values_list\n",
    "    unique_values_list = []\n",
    "\n",
    "    # copy dataframe\n",
    "    df = df.copy()\n",
    "\n",
    "    # iterate through columns\n",
    "    for column in df.columns:\n",
    "        # extract unique values\n",
    "        unique_values = df[column].unique()\n",
    "        # append unique values from each column to unique_values_list\n",
    "        unique_values_list.append(unique_values)\n",
    "\n",
    "\n",
    "    # make a dataframe of column name and unique values \n",
    "    values_df = pd.DataFrame({'Column Name':[col for col in df.columns], 'Unique_Count': [len(item) for item in unique_values_list], 'Unique_Values': unique_values_list}) \n",
    "\n",
    "    # return dataframe\n",
    "    return values_df"
   ]
  },
  {
   "cell_type": "code",
   "execution_count": 225,
   "metadata": {},
   "outputs": [],
   "source": [
    "unique_values_df = get_unique_values_df(df)\n",
    "unique_values_df.to_csv('./column_data.csv', index=False)\n"
   ]
  },
  {
   "cell_type": "code",
   "execution_count": null,
   "metadata": {},
   "outputs": [],
   "source": []
  }
 ],
 "metadata": {
  "kernelspec": {
   "display_name": "mlenv",
   "language": "python",
   "name": "mlenv"
  },
  "language_info": {
   "codemirror_mode": {
    "name": "ipython",
    "version": 3
   },
   "file_extension": ".py",
   "mimetype": "text/x-python",
   "name": "python",
   "nbconvert_exporter": "python",
   "pygments_lexer": "ipython3",
   "version": "3.9.16"
  },
  "orig_nbformat": 4,
  "vscode": {
   "interpreter": {
    "hash": "f93e448cf9fc44469b8f4a69eacb58e0039182c35efd336dd4bf63c407e2fe68"
   }
  }
 },
 "nbformat": 4,
 "nbformat_minor": 2
}
