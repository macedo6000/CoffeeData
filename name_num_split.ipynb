{
 "cells": [
  {
   "cell_type": "code",
   "execution_count": 1,
   "metadata": {},
   "outputs": [],
   "source": [
    "# import dependencies\n",
    "import pandas as pd\n",
    "from path import Path \n",
    "import numpy as np \n",
    "import os"
   ]
  },
  {
   "cell_type": "code",
   "execution_count": 2,
   "metadata": {},
   "outputs": [],
   "source": [
    "# set path and load dataframe\n",
    "path = Path('./data/raw_data.csv')\n",
    "df = pd.read_csv(path, low_memory=False)"
   ]
  },
  {
   "cell_type": "code",
   "execution_count": 3,
   "metadata": {},
   "outputs": [],
   "source": [
    "# name_columns = [col for col in df.columns if '_name' in col]\n",
    "# numeric_columns = [col.replace('_name', '') for col in name_columns]"
   ]
  },
  {
   "cell_type": "code",
   "execution_count": 4,
   "metadata": {},
   "outputs": [],
   "source": [
    "name_columns = ['loan_type_name', 'property_type_name', 'loan_purpose_name', 'owner_occupancy_name', 'county_name', 'applicant_ethnicity_name', 'co_applicant_ethnicity_name', 'applicant_race_name_1', 'co_applicant_race_name_1', 'applicant_sex_name', 'co_applicant_sex_name', 'purchaser_type_name', 'hoepa_status_name']\n",
    "numeric_columns = ['loan_type', 'property_type', 'loan_purpose', 'owner_occupancy', 'county_code', 'applicant_ethnicity', 'co_applicant_ethnicity', 'applicant_race_1', 'co_applicant_race_1',  'applicant_sex', 'co_applicant_sex',  'purchaser_type', 'hoepa_status']"
   ]
  },
  {
   "cell_type": "code",
   "execution_count": 5,
   "metadata": {},
   "outputs": [
    {
     "data": {
      "text/plain": [
       "[('loan_type_name', 'loan_type'),\n",
       " ('property_type_name', 'property_type'),\n",
       " ('loan_purpose_name', 'loan_purpose'),\n",
       " ('owner_occupancy_name', 'owner_occupancy'),\n",
       " ('county_name', 'county_code'),\n",
       " ('applicant_ethnicity_name', 'applicant_ethnicity'),\n",
       " ('co_applicant_ethnicity_name', 'co_applicant_ethnicity'),\n",
       " ('applicant_race_name_1', 'applicant_race_1'),\n",
       " ('co_applicant_race_name_1', 'co_applicant_race_1'),\n",
       " ('applicant_sex_name', 'applicant_sex'),\n",
       " ('co_applicant_sex_name', 'co_applicant_sex'),\n",
       " ('purchaser_type_name', 'purchaser_type'),\n",
       " ('hoepa_status_name', 'hoepa_status')]"
      ]
     },
     "execution_count": 5,
     "metadata": {},
     "output_type": "execute_result"
    }
   ],
   "source": [
    "name_num_columns = list(zip(name_columns,  numeric_columns))\n",
    "name_num_columns"
   ]
  },
  {
   "cell_type": "code",
   "execution_count": 6,
   "metadata": {},
   "outputs": [],
   "source": [
    "def get_name_num_values(data, column_list):\n",
    "    data = data.copy()\n",
    "    \n",
    "    column_name_list = ['label_name','label_number','label_count','column_name']\n",
    "    nn_df = pd.DataFrame()\n",
    "    \n",
    "    \n",
    "    for col in column_list:\n",
    "    \n",
    "        unique_num = data[col[1]].unique()\n",
    "        unique_name = []\n",
    "\n",
    "        grouped_df = data.groupby([col[0] , col[1]]).size().reset_index(name='label_count').sort_values(col[1], ascending=True)\n",
    "        grouped_df['column_name'] = f'{col[1]}'\n",
    "        grouped_df.columns = column_name_list\n",
    "        \n",
    "\n",
    "        nn_df = pd.concat([nn_df, grouped_df], axis=0, ignore_index=True)\n",
    "\n",
    "    nn_df = nn_df.astype({'label_number':'int', 'label_count':'int'})\n",
    "    return nn_df          \n",
    "            "
   ]
  },
  {
   "cell_type": "code",
   "execution_count": 7,
   "metadata": {},
   "outputs": [],
   "source": [
    "name_num_df = get_name_num_values(df, name_num_columns)\n"
   ]
  },
  {
   "cell_type": "code",
   "execution_count": 8,
   "metadata": {},
   "outputs": [
    {
     "data": {
      "text/html": [
       "<div>\n",
       "<style scoped>\n",
       "    .dataframe tbody tr th:only-of-type {\n",
       "        vertical-align: middle;\n",
       "    }\n",
       "\n",
       "    .dataframe tbody tr th {\n",
       "        vertical-align: top;\n",
       "    }\n",
       "\n",
       "    .dataframe thead th {\n",
       "        text-align: right;\n",
       "    }\n",
       "</style>\n",
       "<table border=\"1\" class=\"dataframe\">\n",
       "  <thead>\n",
       "    <tr style=\"text-align: right;\">\n",
       "      <th></th>\n",
       "      <th>label_name</th>\n",
       "      <th>label_number</th>\n",
       "      <th>label_count</th>\n",
       "      <th>column_name</th>\n",
       "    </tr>\n",
       "  </thead>\n",
       "  <tbody>\n",
       "    <tr>\n",
       "      <th>0</th>\n",
       "      <td>Conventional</td>\n",
       "      <td>1</td>\n",
       "      <td>1321170</td>\n",
       "      <td>loan_type</td>\n",
       "    </tr>\n",
       "    <tr>\n",
       "      <th>1</th>\n",
       "      <td>FHA-insured</td>\n",
       "      <td>2</td>\n",
       "      <td>254312</td>\n",
       "      <td>loan_type</td>\n",
       "    </tr>\n",
       "    <tr>\n",
       "      <th>2</th>\n",
       "      <td>VA-guaranteed</td>\n",
       "      <td>3</td>\n",
       "      <td>128719</td>\n",
       "      <td>loan_type</td>\n",
       "    </tr>\n",
       "    <tr>\n",
       "      <th>3</th>\n",
       "      <td>FSA/RHS-guaranteed</td>\n",
       "      <td>4</td>\n",
       "      <td>5301</td>\n",
       "      <td>loan_type</td>\n",
       "    </tr>\n",
       "    <tr>\n",
       "      <th>4</th>\n",
       "      <td>One-to-four family dwelling (other than manufa...</td>\n",
       "      <td>1</td>\n",
       "      <td>1667070</td>\n",
       "      <td>property_type</td>\n",
       "    </tr>\n",
       "    <tr>\n",
       "      <th>5</th>\n",
       "      <td>Manufactured housing</td>\n",
       "      <td>2</td>\n",
       "      <td>29796</td>\n",
       "      <td>property_type</td>\n",
       "    </tr>\n",
       "    <tr>\n",
       "      <th>6</th>\n",
       "      <td>Multifamily dwelling</td>\n",
       "      <td>3</td>\n",
       "      <td>12636</td>\n",
       "      <td>property_type</td>\n",
       "    </tr>\n",
       "    <tr>\n",
       "      <th>7</th>\n",
       "      <td>Home purchase</td>\n",
       "      <td>1</td>\n",
       "      <td>676589</td>\n",
       "      <td>loan_purpose</td>\n",
       "    </tr>\n",
       "    <tr>\n",
       "      <th>8</th>\n",
       "      <td>Home improvement</td>\n",
       "      <td>2</td>\n",
       "      <td>118031</td>\n",
       "      <td>loan_purpose</td>\n",
       "    </tr>\n",
       "    <tr>\n",
       "      <th>9</th>\n",
       "      <td>Refinancing</td>\n",
       "      <td>3</td>\n",
       "      <td>914882</td>\n",
       "      <td>loan_purpose</td>\n",
       "    </tr>\n",
       "    <tr>\n",
       "      <th>10</th>\n",
       "      <td>Owner-occupied as a principal dwelling</td>\n",
       "      <td>1</td>\n",
       "      <td>1501670</td>\n",
       "      <td>owner_occupancy</td>\n",
       "    </tr>\n",
       "    <tr>\n",
       "      <th>11</th>\n",
       "      <td>Not owner-occupied as a principal dwelling</td>\n",
       "      <td>2</td>\n",
       "      <td>193383</td>\n",
       "      <td>owner_occupancy</td>\n",
       "    </tr>\n",
       "    <tr>\n",
       "      <th>12</th>\n",
       "      <td>Not applicable</td>\n",
       "      <td>3</td>\n",
       "      <td>14449</td>\n",
       "      <td>owner_occupancy</td>\n",
       "    </tr>\n",
       "    <tr>\n",
       "      <th>13</th>\n",
       "      <td>Alameda County</td>\n",
       "      <td>1</td>\n",
       "      <td>69635</td>\n",
       "      <td>county_code</td>\n",
       "    </tr>\n",
       "    <tr>\n",
       "      <th>14</th>\n",
       "      <td>Alpine County</td>\n",
       "      <td>3</td>\n",
       "      <td>97</td>\n",
       "      <td>county_code</td>\n",
       "    </tr>\n",
       "    <tr>\n",
       "      <th>15</th>\n",
       "      <td>Amador County</td>\n",
       "      <td>5</td>\n",
       "      <td>2361</td>\n",
       "      <td>county_code</td>\n",
       "    </tr>\n",
       "    <tr>\n",
       "      <th>16</th>\n",
       "      <td>Butte County</td>\n",
       "      <td>7</td>\n",
       "      <td>9673</td>\n",
       "      <td>county_code</td>\n",
       "    </tr>\n",
       "    <tr>\n",
       "      <th>17</th>\n",
       "      <td>Calaveras County</td>\n",
       "      <td>9</td>\n",
       "      <td>3676</td>\n",
       "      <td>county_code</td>\n",
       "    </tr>\n",
       "    <tr>\n",
       "      <th>18</th>\n",
       "      <td>Colusa County</td>\n",
       "      <td>11</td>\n",
       "      <td>763</td>\n",
       "      <td>county_code</td>\n",
       "    </tr>\n",
       "    <tr>\n",
       "      <th>19</th>\n",
       "      <td>Contra Costa County</td>\n",
       "      <td>13</td>\n",
       "      <td>65272</td>\n",
       "      <td>county_code</td>\n",
       "    </tr>\n",
       "  </tbody>\n",
       "</table>\n",
       "</div>"
      ],
      "text/plain": [
       "                                           label_name  label_number  \\\n",
       "0                                        Conventional             1   \n",
       "1                                         FHA-insured             2   \n",
       "2                                       VA-guaranteed             3   \n",
       "3                                  FSA/RHS-guaranteed             4   \n",
       "4   One-to-four family dwelling (other than manufa...             1   \n",
       "5                                Manufactured housing             2   \n",
       "6                                Multifamily dwelling             3   \n",
       "7                                       Home purchase             1   \n",
       "8                                    Home improvement             2   \n",
       "9                                         Refinancing             3   \n",
       "10             Owner-occupied as a principal dwelling             1   \n",
       "11         Not owner-occupied as a principal dwelling             2   \n",
       "12                                     Not applicable             3   \n",
       "13                                     Alameda County             1   \n",
       "14                                      Alpine County             3   \n",
       "15                                      Amador County             5   \n",
       "16                                       Butte County             7   \n",
       "17                                   Calaveras County             9   \n",
       "18                                      Colusa County            11   \n",
       "19                                Contra Costa County            13   \n",
       "\n",
       "    label_count      column_name  \n",
       "0       1321170        loan_type  \n",
       "1        254312        loan_type  \n",
       "2        128719        loan_type  \n",
       "3          5301        loan_type  \n",
       "4       1667070    property_type  \n",
       "5         29796    property_type  \n",
       "6         12636    property_type  \n",
       "7        676589     loan_purpose  \n",
       "8        118031     loan_purpose  \n",
       "9        914882     loan_purpose  \n",
       "10      1501670  owner_occupancy  \n",
       "11       193383  owner_occupancy  \n",
       "12        14449  owner_occupancy  \n",
       "13        69635      county_code  \n",
       "14           97      county_code  \n",
       "15         2361      county_code  \n",
       "16         9673      county_code  \n",
       "17         3676      county_code  \n",
       "18          763      county_code  \n",
       "19        65272      county_code  "
      ]
     },
     "execution_count": 8,
     "metadata": {},
     "output_type": "execute_result"
    }
   ],
   "source": [
    "name_num_df.head(20)"
   ]
  },
  {
   "cell_type": "code",
   "execution_count": 11,
   "metadata": {},
   "outputs": [],
   "source": [
    "name_num_df.to_csv('./data/name_number_table.csv', index=False)"
   ]
  },
  {
   "cell_type": "code",
   "execution_count": 12,
   "metadata": {},
   "outputs": [
    {
     "name": "stdout",
     "output_type": "stream",
     "text": [
      "Done!\n"
     ]
    }
   ],
   "source": [
    "print('Done!')"
   ]
  },
  {
   "cell_type": "code",
   "execution_count": null,
   "metadata": {},
   "outputs": [],
   "source": []
  }
 ],
 "metadata": {
  "kernelspec": {
   "display_name": "mlenv",
   "language": "python",
   "name": "mlenv"
  },
  "language_info": {
   "codemirror_mode": {
    "name": "ipython",
    "version": 3
   },
   "file_extension": ".py",
   "mimetype": "text/x-python",
   "name": "python",
   "nbconvert_exporter": "python",
   "pygments_lexer": "ipython3",
   "version": "3.9.16"
  },
  "orig_nbformat": 4,
  "vscode": {
   "interpreter": {
    "hash": "37c31bcc7789473aa20d28a71977c2d878259e4427f5afcc770ae696b6a8f76c"
   }
  }
 },
 "nbformat": 4,
 "nbformat_minor": 2
}
